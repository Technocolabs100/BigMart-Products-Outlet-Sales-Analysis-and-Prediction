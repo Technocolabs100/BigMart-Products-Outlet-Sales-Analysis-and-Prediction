{
 "cells": [
  {
   "cell_type": "markdown",
   "id": "ca3e0a42",
   "metadata": {},
   "source": [
    "Auther Name:        Muhammad Saeed\n",
    "-\n",
    "- Github profile:     https://github.com/Saeed-Engr\n",
    "- Linkedin Profile:   https://www.linkedin.com/in/saeedengr"
   ]
  },
  {
   "cell_type": "markdown",
   "id": "5221a170",
   "metadata": {},
   "source": [
    "Project Description\n",
    "-\n",
    "The data scientists at BigMart have collected 2013 sales data for 1559 products across 10 stores in different cities. Also, certain attributes of each product and store have been defined. The aim of this data science project is to build a predictive model and find out the sales of each product at a particular store.\n",
    "\n",
    "Using this model, BigMart will try to understand the properties of products and stores which play a key role in increasing sales.\n",
    "\n",
    " The data has missing values as some stores do not report all the data due to technical glitches. Hence, it will be required to treat them accordingly."
   ]
  },
  {
   "cell_type": "code",
   "execution_count": null,
   "id": "dacb2fdd",
   "metadata": {},
   "outputs": [],
   "source": []
  },
  {
   "cell_type": "markdown",
   "id": "b8d3d597",
   "metadata": {},
   "source": [
    "# 1).Problem Statement"
   ]
  },
  {
   "cell_type": "markdown",
   "id": "5a2fc122",
   "metadata": {},
   "source": [
    "Bigmart have collected 2013 sales data for 1559 products across 10 stores in different cities. The aim of this data science project is to build a predictive model and find out the sales of each product at a particular store."
   ]
  },
  {
   "cell_type": "markdown",
   "id": "15a2bdb2",
   "metadata": {},
   "source": [
    "# 2).Hypothesis Generation"
   ]
  },
  {
   "cell_type": "markdown",
   "id": "cf8bdfa1",
   "metadata": {},
   "source": [
    "## **2. Hypothesis generation with respect to problem statement.**\n",
    "\n",
    "1. Item weight might effect a sales of the product.\n",
    "2. Sales of the product may be depends on the items fat content.\n",
    "3. More Item_Visibility of a particular product may be costlier than other products.\n",
    "4. Item type could have an effect on the sales.\n",
    "5. Are the items with more MRP have more item outlet sales.\n",
    "6. Are the stores which have established earlier have more sales.\n",
    "7. Size of the stores could have an effect on the item sales at a particular store.\n",
    "8. Location of the stores might depends on the Item outlet sales.\n",
    "9. Are the supermarkets have more sales than others.\n"
   ]
  },
  {
   "cell_type": "markdown",
   "id": "9691135e",
   "metadata": {},
   "source": [
    "# 3).Loading Packages and Data"
   ]
  },
  {
   "cell_type": "code",
   "execution_count": 167,
   "id": "b3af4a5a",
   "metadata": {},
   "outputs": [],
   "source": [
    "import numpy as np\n",
    "import pandas as pd\n",
    "import matplotlib.pyplot as plt\n",
    "import seaborn as sns\n",
    "\n",
    "import os #paths to file\n",
    "import numpy as np # linear algebra\n",
    "import pandas as pd # data processing\n",
    "import warnings# warning filter\n",
    "\n",
    "\n",
    "#ploting libraries\n",
    "import matplotlib.pyplot as plt \n",
    "import seaborn as sns\n",
    "\n",
    "#feature engineering\n",
    "from sklearn.preprocessing import OneHotEncoder\n",
    "from sklearn.preprocessing import LabelEncoder\n",
    "\n",
    "#train test split\n",
    "from sklearn.model_selection import train_test_split\n",
    "\n",
    "#metrics\n",
    "from sklearn.metrics import mean_absolute_error as MAE\n",
    "from sklearn.metrics import mean_squared_error as MSE\n",
    "from sklearn.metrics import r2_score as R2\n",
    "from sklearn.model_selection  import cross_val_score as CVS\n",
    "\n",
    "\n",
    "#ML models\n",
    "from sklearn.linear_model import LinearRegression\n",
    "from sklearn.ensemble import RandomForestRegressor\n",
    "from sklearn.linear_model import Lasso\n",
    "\n",
    "\n",
    "#default theme and settings\n",
    "sns.set(context='notebook', style='darkgrid', palette='deep', font='sans-serif', font_scale=1, color_codes=False, rc=None)\n",
    "pd.options.display.max_columns\n",
    "\n",
    "#warning hadle\n",
    "warnings.filterwarnings(\"always\")\n",
    "warnings.filterwarnings(\"ignore\")"
   ]
  },
  {
   "cell_type": "code",
   "execution_count": 168,
   "id": "180b2324",
   "metadata": {},
   "outputs": [
    {
     "data": {
      "text/html": [
       "<div>\n",
       "<style scoped>\n",
       "    .dataframe tbody tr th:only-of-type {\n",
       "        vertical-align: middle;\n",
       "    }\n",
       "\n",
       "    .dataframe tbody tr th {\n",
       "        vertical-align: top;\n",
       "    }\n",
       "\n",
       "    .dataframe thead th {\n",
       "        text-align: right;\n",
       "    }\n",
       "</style>\n",
       "<table border=\"1\" class=\"dataframe\">\n",
       "  <thead>\n",
       "    <tr style=\"text-align: right;\">\n",
       "      <th></th>\n",
       "      <th>Item_Identifier</th>\n",
       "      <th>Item_Weight</th>\n",
       "      <th>Item_Fat_Content</th>\n",
       "      <th>Item_Visibility</th>\n",
       "      <th>Item_Type</th>\n",
       "      <th>Item_MRP</th>\n",
       "      <th>Outlet_Identifier</th>\n",
       "      <th>Outlet_Establishment_Year</th>\n",
       "      <th>Outlet_Size</th>\n",
       "      <th>Outlet_Location_Type</th>\n",
       "      <th>Outlet_Type</th>\n",
       "      <th>Item_Outlet_Sales</th>\n",
       "    </tr>\n",
       "  </thead>\n",
       "  <tbody>\n",
       "    <tr>\n",
       "      <th>0</th>\n",
       "      <td>FDA15</td>\n",
       "      <td>9.30</td>\n",
       "      <td>Low Fat</td>\n",
       "      <td>0.016047</td>\n",
       "      <td>Dairy</td>\n",
       "      <td>249.8092</td>\n",
       "      <td>OUT049</td>\n",
       "      <td>1999</td>\n",
       "      <td>Medium</td>\n",
       "      <td>Tier 1</td>\n",
       "      <td>Supermarket Type1</td>\n",
       "      <td>3735.1380</td>\n",
       "    </tr>\n",
       "    <tr>\n",
       "      <th>1</th>\n",
       "      <td>DRC01</td>\n",
       "      <td>5.92</td>\n",
       "      <td>Regular</td>\n",
       "      <td>0.019278</td>\n",
       "      <td>Soft Drinks</td>\n",
       "      <td>48.2692</td>\n",
       "      <td>OUT018</td>\n",
       "      <td>2009</td>\n",
       "      <td>Medium</td>\n",
       "      <td>Tier 3</td>\n",
       "      <td>Supermarket Type2</td>\n",
       "      <td>443.4228</td>\n",
       "    </tr>\n",
       "    <tr>\n",
       "      <th>2</th>\n",
       "      <td>FDN15</td>\n",
       "      <td>17.50</td>\n",
       "      <td>Low Fat</td>\n",
       "      <td>0.016760</td>\n",
       "      <td>Meat</td>\n",
       "      <td>141.6180</td>\n",
       "      <td>OUT049</td>\n",
       "      <td>1999</td>\n",
       "      <td>Medium</td>\n",
       "      <td>Tier 1</td>\n",
       "      <td>Supermarket Type1</td>\n",
       "      <td>2097.2700</td>\n",
       "    </tr>\n",
       "    <tr>\n",
       "      <th>3</th>\n",
       "      <td>FDX07</td>\n",
       "      <td>19.20</td>\n",
       "      <td>Regular</td>\n",
       "      <td>0.000000</td>\n",
       "      <td>Fruits and Vegetables</td>\n",
       "      <td>182.0950</td>\n",
       "      <td>OUT010</td>\n",
       "      <td>1998</td>\n",
       "      <td>NaN</td>\n",
       "      <td>Tier 3</td>\n",
       "      <td>Grocery Store</td>\n",
       "      <td>732.3800</td>\n",
       "    </tr>\n",
       "    <tr>\n",
       "      <th>4</th>\n",
       "      <td>NCD19</td>\n",
       "      <td>8.93</td>\n",
       "      <td>Low Fat</td>\n",
       "      <td>0.000000</td>\n",
       "      <td>Household</td>\n",
       "      <td>53.8614</td>\n",
       "      <td>OUT013</td>\n",
       "      <td>1987</td>\n",
       "      <td>High</td>\n",
       "      <td>Tier 3</td>\n",
       "      <td>Supermarket Type1</td>\n",
       "      <td>994.7052</td>\n",
       "    </tr>\n",
       "  </tbody>\n",
       "</table>\n",
       "</div>"
      ],
      "text/plain": [
       "  Item_Identifier  Item_Weight Item_Fat_Content  Item_Visibility  \\\n",
       "0           FDA15         9.30          Low Fat         0.016047   \n",
       "1           DRC01         5.92          Regular         0.019278   \n",
       "2           FDN15        17.50          Low Fat         0.016760   \n",
       "3           FDX07        19.20          Regular         0.000000   \n",
       "4           NCD19         8.93          Low Fat         0.000000   \n",
       "\n",
       "               Item_Type  Item_MRP Outlet_Identifier  \\\n",
       "0                  Dairy  249.8092            OUT049   \n",
       "1            Soft Drinks   48.2692            OUT018   \n",
       "2                   Meat  141.6180            OUT049   \n",
       "3  Fruits and Vegetables  182.0950            OUT010   \n",
       "4              Household   53.8614            OUT013   \n",
       "\n",
       "   Outlet_Establishment_Year Outlet_Size Outlet_Location_Type  \\\n",
       "0                       1999      Medium               Tier 1   \n",
       "1                       2009      Medium               Tier 3   \n",
       "2                       1999      Medium               Tier 1   \n",
       "3                       1998         NaN               Tier 3   \n",
       "4                       1987        High               Tier 3   \n",
       "\n",
       "         Outlet_Type  Item_Outlet_Sales  \n",
       "0  Supermarket Type1          3735.1380  \n",
       "1  Supermarket Type2           443.4228  \n",
       "2  Supermarket Type1          2097.2700  \n",
       "3      Grocery Store           732.3800  \n",
       "4  Supermarket Type1           994.7052  "
      ]
     },
     "execution_count": 168,
     "metadata": {},
     "output_type": "execute_result"
    }
   ],
   "source": [
    "train = pd.read_csv(\"E:/Technocolabs Internship/1st mini project/Train.csv\")\n",
    "test = pd.read_csv(\"E:/Technocolabs Internship/1st mini project/Test.csv\")\n",
    "train.head()"
   ]
  },
  {
   "cell_type": "code",
   "execution_count": 169,
   "id": "48a553d3",
   "metadata": {},
   "outputs": [
    {
     "data": {
      "text/html": [
       "<div>\n",
       "<style scoped>\n",
       "    .dataframe tbody tr th:only-of-type {\n",
       "        vertical-align: middle;\n",
       "    }\n",
       "\n",
       "    .dataframe tbody tr th {\n",
       "        vertical-align: top;\n",
       "    }\n",
       "\n",
       "    .dataframe thead th {\n",
       "        text-align: right;\n",
       "    }\n",
       "</style>\n",
       "<table border=\"1\" class=\"dataframe\">\n",
       "  <thead>\n",
       "    <tr style=\"text-align: right;\">\n",
       "      <th></th>\n",
       "      <th>Item_Identifier</th>\n",
       "      <th>Item_Weight</th>\n",
       "      <th>Item_Fat_Content</th>\n",
       "      <th>Item_Visibility</th>\n",
       "      <th>Item_Type</th>\n",
       "      <th>Item_MRP</th>\n",
       "      <th>Outlet_Identifier</th>\n",
       "      <th>Outlet_Establishment_Year</th>\n",
       "      <th>Outlet_Size</th>\n",
       "      <th>Outlet_Location_Type</th>\n",
       "      <th>Outlet_Type</th>\n",
       "    </tr>\n",
       "  </thead>\n",
       "  <tbody>\n",
       "    <tr>\n",
       "      <th>0</th>\n",
       "      <td>FDW58</td>\n",
       "      <td>20.750</td>\n",
       "      <td>Low Fat</td>\n",
       "      <td>0.007565</td>\n",
       "      <td>Snack Foods</td>\n",
       "      <td>107.8622</td>\n",
       "      <td>OUT049</td>\n",
       "      <td>1999</td>\n",
       "      <td>Medium</td>\n",
       "      <td>Tier 1</td>\n",
       "      <td>Supermarket Type1</td>\n",
       "    </tr>\n",
       "    <tr>\n",
       "      <th>1</th>\n",
       "      <td>FDW14</td>\n",
       "      <td>8.300</td>\n",
       "      <td>reg</td>\n",
       "      <td>0.038428</td>\n",
       "      <td>Dairy</td>\n",
       "      <td>87.3198</td>\n",
       "      <td>OUT017</td>\n",
       "      <td>2007</td>\n",
       "      <td>NaN</td>\n",
       "      <td>Tier 2</td>\n",
       "      <td>Supermarket Type1</td>\n",
       "    </tr>\n",
       "    <tr>\n",
       "      <th>2</th>\n",
       "      <td>NCN55</td>\n",
       "      <td>14.600</td>\n",
       "      <td>Low Fat</td>\n",
       "      <td>0.099575</td>\n",
       "      <td>Others</td>\n",
       "      <td>241.7538</td>\n",
       "      <td>OUT010</td>\n",
       "      <td>1998</td>\n",
       "      <td>NaN</td>\n",
       "      <td>Tier 3</td>\n",
       "      <td>Grocery Store</td>\n",
       "    </tr>\n",
       "    <tr>\n",
       "      <th>3</th>\n",
       "      <td>FDQ58</td>\n",
       "      <td>7.315</td>\n",
       "      <td>Low Fat</td>\n",
       "      <td>0.015388</td>\n",
       "      <td>Snack Foods</td>\n",
       "      <td>155.0340</td>\n",
       "      <td>OUT017</td>\n",
       "      <td>2007</td>\n",
       "      <td>NaN</td>\n",
       "      <td>Tier 2</td>\n",
       "      <td>Supermarket Type1</td>\n",
       "    </tr>\n",
       "    <tr>\n",
       "      <th>4</th>\n",
       "      <td>FDY38</td>\n",
       "      <td>NaN</td>\n",
       "      <td>Regular</td>\n",
       "      <td>0.118599</td>\n",
       "      <td>Dairy</td>\n",
       "      <td>234.2300</td>\n",
       "      <td>OUT027</td>\n",
       "      <td>1985</td>\n",
       "      <td>Medium</td>\n",
       "      <td>Tier 3</td>\n",
       "      <td>Supermarket Type3</td>\n",
       "    </tr>\n",
       "  </tbody>\n",
       "</table>\n",
       "</div>"
      ],
      "text/plain": [
       "  Item_Identifier  Item_Weight Item_Fat_Content  Item_Visibility    Item_Type  \\\n",
       "0           FDW58       20.750          Low Fat         0.007565  Snack Foods   \n",
       "1           FDW14        8.300              reg         0.038428        Dairy   \n",
       "2           NCN55       14.600          Low Fat         0.099575       Others   \n",
       "3           FDQ58        7.315          Low Fat         0.015388  Snack Foods   \n",
       "4           FDY38          NaN          Regular         0.118599        Dairy   \n",
       "\n",
       "   Item_MRP Outlet_Identifier  Outlet_Establishment_Year Outlet_Size  \\\n",
       "0  107.8622            OUT049                       1999      Medium   \n",
       "1   87.3198            OUT017                       2007         NaN   \n",
       "2  241.7538            OUT010                       1998         NaN   \n",
       "3  155.0340            OUT017                       2007         NaN   \n",
       "4  234.2300            OUT027                       1985      Medium   \n",
       "\n",
       "  Outlet_Location_Type        Outlet_Type  \n",
       "0               Tier 1  Supermarket Type1  \n",
       "1               Tier 2  Supermarket Type1  \n",
       "2               Tier 3      Grocery Store  \n",
       "3               Tier 2  Supermarket Type1  \n",
       "4               Tier 3  Supermarket Type3  "
      ]
     },
     "execution_count": 169,
     "metadata": {},
     "output_type": "execute_result"
    }
   ],
   "source": [
    "test.head()"
   ]
  },
  {
   "cell_type": "code",
   "execution_count": 170,
   "id": "43dabd23",
   "metadata": {},
   "outputs": [
    {
     "name": "stdout",
     "output_type": "stream",
     "text": [
      "(8523, 12)\n",
      "(5681, 11)\n"
     ]
    }
   ],
   "source": [
    "print(train.shape)\n",
    "print(test.shape)"
   ]
  },
  {
   "cell_type": "markdown",
   "id": "6848ebfc",
   "metadata": {},
   "source": [
    "### **Observations:**\n",
    "* This shows that the train and test data is imported successfully.\n",
    "* The train data consists of 8,523 training examples with 12 features.\n",
    "* The test data consists of 5,681 training examples with 11 features\n"
   ]
  },
  {
   "cell_type": "code",
   "execution_count": null,
   "id": "e2d69cac",
   "metadata": {},
   "outputs": [],
   "source": []
  },
  {
   "cell_type": "markdown",
   "id": "59932a39",
   "metadata": {},
   "source": [
    "# 4).Data Structure and Content"
   ]
  },
  {
   "cell_type": "code",
   "execution_count": 171,
   "id": "83412a87",
   "metadata": {},
   "outputs": [
    {
     "name": "stdout",
     "output_type": "stream",
     "text": [
      "2\n",
      "2\n"
     ]
    }
   ],
   "source": [
    "print(train.ndim)\n",
    "print(test.ndim)"
   ]
  },
  {
   "cell_type": "code",
   "execution_count": 172,
   "id": "a33fa0d5",
   "metadata": {},
   "outputs": [
    {
     "name": "stdout",
     "output_type": "stream",
     "text": [
      "Index(['Item_Identifier', 'Item_Weight', 'Item_Fat_Content', 'Item_Visibility',\n",
      "       'Item_Type', 'Item_MRP', 'Outlet_Identifier',\n",
      "       'Outlet_Establishment_Year', 'Outlet_Size', 'Outlet_Location_Type',\n",
      "       'Outlet_Type', 'Item_Outlet_Sales'],\n",
      "      dtype='object')\n"
     ]
    }
   ],
   "source": [
    "print(train.columns)"
   ]
  },
  {
   "cell_type": "code",
   "execution_count": 173,
   "id": "d9d3d9ae",
   "metadata": {},
   "outputs": [
    {
     "name": "stdout",
     "output_type": "stream",
     "text": [
      "Index(['Item_Identifier', 'Item_Weight', 'Item_Fat_Content', 'Item_Visibility',\n",
      "       'Item_Type', 'Item_MRP', 'Outlet_Identifier',\n",
      "       'Outlet_Establishment_Year', 'Outlet_Size', 'Outlet_Location_Type',\n",
      "       'Outlet_Type'],\n",
      "      dtype='object')\n"
     ]
    }
   ],
   "source": [
    "print(test.columns)"
   ]
  },
  {
   "cell_type": "code",
   "execution_count": 174,
   "id": "d0e6d4a7",
   "metadata": {},
   "outputs": [
    {
     "name": "stdout",
     "output_type": "stream",
     "text": [
      "<class 'pandas.core.frame.DataFrame'>\n",
      "RangeIndex: 8523 entries, 0 to 8522\n",
      "Data columns (total 12 columns):\n",
      " #   Column                     Non-Null Count  Dtype  \n",
      "---  ------                     --------------  -----  \n",
      " 0   Item_Identifier            8523 non-null   object \n",
      " 1   Item_Weight                7060 non-null   float64\n",
      " 2   Item_Fat_Content           8523 non-null   object \n",
      " 3   Item_Visibility            8523 non-null   float64\n",
      " 4   Item_Type                  8523 non-null   object \n",
      " 5   Item_MRP                   8523 non-null   float64\n",
      " 6   Outlet_Identifier          8523 non-null   object \n",
      " 7   Outlet_Establishment_Year  8523 non-null   int64  \n",
      " 8   Outlet_Size                6113 non-null   object \n",
      " 9   Outlet_Location_Type       8523 non-null   object \n",
      " 10  Outlet_Type                8523 non-null   object \n",
      " 11  Item_Outlet_Sales          8523 non-null   float64\n",
      "dtypes: float64(4), int64(1), object(7)\n",
      "memory usage: 799.2+ KB\n"
     ]
    }
   ],
   "source": [
    "train.info()"
   ]
  },
  {
   "cell_type": "code",
   "execution_count": 175,
   "id": "dea05ea5",
   "metadata": {},
   "outputs": [
    {
     "name": "stdout",
     "output_type": "stream",
     "text": [
      "Number of categorical variables:  7\n",
      "********************************************************************************\n",
      "Categorical variables column name: ['Item_Identifier', 'Item_Fat_Content', 'Item_Type', 'Outlet_Identifier', 'Outlet_Size', 'Outlet_Location_Type', 'Outlet_Type']\n"
     ]
    }
   ],
   "source": [
    "cat_features = [feature for feature in train.columns if train[feature].dtypes == 'O']\n",
    "print('Number of categorical variables: ', len(cat_features))\n",
    "print('*'*80)\n",
    "print('Categorical variables column name:',cat_features)"
   ]
  },
  {
   "cell_type": "code",
   "execution_count": 176,
   "id": "000a1241",
   "metadata": {},
   "outputs": [
    {
     "name": "stdout",
     "output_type": "stream",
     "text": [
      "Number of numerical variables:  5\n",
      "********************************************************************************\n",
      "Numerical Variables Column:  ['Item_Weight', 'Item_Visibility', 'Item_MRP', 'Outlet_Establishment_Year', 'Item_Outlet_Sales']\n"
     ]
    }
   ],
   "source": [
    "numerical_features = [feature for feature in train.columns if train[feature].dtypes != 'O']\n",
    "print('Number of numerical variables: ', len(numerical_features))\n",
    "print('*'*80)\n",
    "print('Numerical Variables Column: ',numerical_features)"
   ]
  },
  {
   "cell_type": "markdown",
   "id": "67c00e7f",
   "metadata": {},
   "source": [
    "Numerical Features:\n",
    "-\n",
    "* Item_Weight\n",
    "* Item_Visibility\n",
    "* Item_MRP\n",
    "* Outlet_Establishment_Year\n",
    "* Item_Outlet_Sales(Target Variable)\n",
    "\n",
    "### **Categorical Features**\n",
    "* Item_Identifier\n",
    "* Item_Fat_Content(Ordinal Feature)\n",
    "* Item_Type\n",
    "* Outlet_Itemtifier\n",
    "* Outlet_Size(Ordinal Feature)\n",
    "* Outlet__Location_Type(Ordinal Feature)\n",
    "* Ootlet_Type(Ordinal Feature)\n",
    "\n",
    "**Observations:**\n",
    "* There are 4 float type variables, 1 integer type and 7 object type.\n",
    "* We are considering Item_Establishment_Year as a categorical feature because it contains some fixed value but not converting its data type now will consider later.\n",
    "* Item_Fat_Content, Outlet_Size, Outelet_Location_Type and Outlet_Type are ordinal features because these values can be arranged in some order.\n",
    "\n"
   ]
  },
  {
   "cell_type": "code",
   "execution_count": null,
   "id": "ddc12c1a",
   "metadata": {},
   "outputs": [],
   "source": []
  },
  {
   "cell_type": "markdown",
   "id": "f72d8a22",
   "metadata": {},
   "source": [
    "# 5).Exploratory Data Analysis"
   ]
  },
  {
   "cell_type": "code",
   "execution_count": 177,
   "id": "cf51ac60",
   "metadata": {
    "scrolled": false
   },
   "outputs": [
    {
     "data": {
      "text/html": [
       "<div>\n",
       "<style scoped>\n",
       "    .dataframe tbody tr th:only-of-type {\n",
       "        vertical-align: middle;\n",
       "    }\n",
       "\n",
       "    .dataframe tbody tr th {\n",
       "        vertical-align: top;\n",
       "    }\n",
       "\n",
       "    .dataframe thead th {\n",
       "        text-align: right;\n",
       "    }\n",
       "</style>\n",
       "<table border=\"1\" class=\"dataframe\">\n",
       "  <thead>\n",
       "    <tr style=\"text-align: right;\">\n",
       "      <th></th>\n",
       "      <th>Item_Weight</th>\n",
       "      <th>Item_Visibility</th>\n",
       "      <th>Item_MRP</th>\n",
       "      <th>Outlet_Establishment_Year</th>\n",
       "      <th>Item_Outlet_Sales</th>\n",
       "    </tr>\n",
       "  </thead>\n",
       "  <tbody>\n",
       "    <tr>\n",
       "      <th>count</th>\n",
       "      <td>7060.000000</td>\n",
       "      <td>8523.000000</td>\n",
       "      <td>8523.000000</td>\n",
       "      <td>8523.000000</td>\n",
       "      <td>8523.000000</td>\n",
       "    </tr>\n",
       "    <tr>\n",
       "      <th>mean</th>\n",
       "      <td>12.857645</td>\n",
       "      <td>0.066132</td>\n",
       "      <td>140.992782</td>\n",
       "      <td>1997.831867</td>\n",
       "      <td>2181.288914</td>\n",
       "    </tr>\n",
       "    <tr>\n",
       "      <th>std</th>\n",
       "      <td>4.643456</td>\n",
       "      <td>0.051598</td>\n",
       "      <td>62.275067</td>\n",
       "      <td>8.371760</td>\n",
       "      <td>1706.499616</td>\n",
       "    </tr>\n",
       "    <tr>\n",
       "      <th>min</th>\n",
       "      <td>4.555000</td>\n",
       "      <td>0.000000</td>\n",
       "      <td>31.290000</td>\n",
       "      <td>1985.000000</td>\n",
       "      <td>33.290000</td>\n",
       "    </tr>\n",
       "    <tr>\n",
       "      <th>25%</th>\n",
       "      <td>8.773750</td>\n",
       "      <td>0.026989</td>\n",
       "      <td>93.826500</td>\n",
       "      <td>1987.000000</td>\n",
       "      <td>834.247400</td>\n",
       "    </tr>\n",
       "    <tr>\n",
       "      <th>50%</th>\n",
       "      <td>12.600000</td>\n",
       "      <td>0.053931</td>\n",
       "      <td>143.012800</td>\n",
       "      <td>1999.000000</td>\n",
       "      <td>1794.331000</td>\n",
       "    </tr>\n",
       "    <tr>\n",
       "      <th>75%</th>\n",
       "      <td>16.850000</td>\n",
       "      <td>0.094585</td>\n",
       "      <td>185.643700</td>\n",
       "      <td>2004.000000</td>\n",
       "      <td>3101.296400</td>\n",
       "    </tr>\n",
       "    <tr>\n",
       "      <th>max</th>\n",
       "      <td>21.350000</td>\n",
       "      <td>0.328391</td>\n",
       "      <td>266.888400</td>\n",
       "      <td>2009.000000</td>\n",
       "      <td>13086.964800</td>\n",
       "    </tr>\n",
       "  </tbody>\n",
       "</table>\n",
       "</div>"
      ],
      "text/plain": [
       "       Item_Weight  Item_Visibility     Item_MRP  Outlet_Establishment_Year  \\\n",
       "count  7060.000000      8523.000000  8523.000000                8523.000000   \n",
       "mean     12.857645         0.066132   140.992782                1997.831867   \n",
       "std       4.643456         0.051598    62.275067                   8.371760   \n",
       "min       4.555000         0.000000    31.290000                1985.000000   \n",
       "25%       8.773750         0.026989    93.826500                1987.000000   \n",
       "50%      12.600000         0.053931   143.012800                1999.000000   \n",
       "75%      16.850000         0.094585   185.643700                2004.000000   \n",
       "max      21.350000         0.328391   266.888400                2009.000000   \n",
       "\n",
       "       Item_Outlet_Sales  \n",
       "count        8523.000000  \n",
       "mean         2181.288914  \n",
       "std          1706.499616  \n",
       "min            33.290000  \n",
       "25%           834.247400  \n",
       "50%          1794.331000  \n",
       "75%          3101.296400  \n",
       "max         13086.964800  "
      ]
     },
     "execution_count": 177,
     "metadata": {},
     "output_type": "execute_result"
    }
   ],
   "source": [
    "train.describe()"
   ]
  },
  {
   "cell_type": "code",
   "execution_count": 178,
   "id": "1c4ffef0",
   "metadata": {},
   "outputs": [
    {
     "data": {
      "text/plain": [
       "Item_Identifier              False\n",
       "Item_Weight                   True\n",
       "Item_Fat_Content             False\n",
       "Item_Visibility              False\n",
       "Item_Type                    False\n",
       "Item_MRP                     False\n",
       "Outlet_Identifier            False\n",
       "Outlet_Establishment_Year    False\n",
       "Outlet_Size                   True\n",
       "Outlet_Location_Type         False\n",
       "Outlet_Type                  False\n",
       "Item_Outlet_Sales            False\n",
       "dtype: bool"
      ]
     },
     "execution_count": 178,
     "metadata": {},
     "output_type": "execute_result"
    }
   ],
   "source": [
    "train.isnull().any()"
   ]
  },
  {
   "cell_type": "code",
   "execution_count": 179,
   "id": "5f679002",
   "metadata": {},
   "outputs": [
    {
     "data": {
      "text/plain": [
       "Item_Identifier                 0\n",
       "Item_Weight                  1463\n",
       "Item_Fat_Content                0\n",
       "Item_Visibility                 0\n",
       "Item_Type                       0\n",
       "Item_MRP                        0\n",
       "Outlet_Identifier               0\n",
       "Outlet_Establishment_Year       0\n",
       "Outlet_Size                  2410\n",
       "Outlet_Location_Type            0\n",
       "Outlet_Type                     0\n",
       "Item_Outlet_Sales               0\n",
       "dtype: int64"
      ]
     },
     "execution_count": 179,
     "metadata": {},
     "output_type": "execute_result"
    }
   ],
   "source": [
    "val = train.isnull().sum()\n",
    "val"
   ]
  },
  {
   "cell_type": "code",
   "execution_count": 180,
   "id": "d371c1b0",
   "metadata": {},
   "outputs": [
    {
     "data": {
      "text/plain": [
       "102276"
      ]
     },
     "execution_count": 180,
     "metadata": {},
     "output_type": "execute_result"
    }
   ],
   "source": [
    "total_cells = np.product(train.shape)\n",
    "total_cells"
   ]
  },
  {
   "cell_type": "code",
   "execution_count": 181,
   "id": "ee5493dc",
   "metadata": {},
   "outputs": [
    {
     "data": {
      "text/plain": [
       "(8523, 12)"
      ]
     },
     "execution_count": 181,
     "metadata": {},
     "output_type": "execute_result"
    }
   ],
   "source": [
    "train.shape"
   ]
  },
  {
   "cell_type": "code",
   "execution_count": 182,
   "id": "516106ec",
   "metadata": {},
   "outputs": [
    {
     "data": {
      "text/plain": [
       "102276"
      ]
     },
     "execution_count": 182,
     "metadata": {},
     "output_type": "execute_result"
    }
   ],
   "source": [
    "8523*12"
   ]
  },
  {
   "cell_type": "code",
   "execution_count": 183,
   "id": "389ed001",
   "metadata": {},
   "outputs": [
    {
     "name": "stdout",
     "output_type": "stream",
     "text": [
      "3.786812155344362\n"
     ]
    }
   ],
   "source": [
    "#percent of data that is missing\n",
    "\n",
    "# how many total missing values do we have?\n",
    "total_cells = np.product(train.shape)\n",
    "total_missing = val.sum()\n",
    "\n",
    "# percent of data that is missing\n",
    "percent_missing = (total_missing/total_cells) * 100\n",
    "print(percent_missing)"
   ]
  },
  {
   "cell_type": "code",
   "execution_count": 184,
   "id": "9c3b67b1",
   "metadata": {},
   "outputs": [
    {
     "data": {
      "text/plain": [
       "Index(['Item_Identifier', 'Item_Weight', 'Item_Fat_Content', 'Item_Visibility',\n",
       "       'Item_Type', 'Item_MRP', 'Outlet_Identifier',\n",
       "       'Outlet_Establishment_Year', 'Outlet_Size', 'Outlet_Location_Type',\n",
       "       'Outlet_Type', 'Item_Outlet_Sales'],\n",
       "      dtype='object')"
      ]
     },
     "execution_count": 184,
     "metadata": {},
     "output_type": "execute_result"
    }
   ],
   "source": [
    "train.columns"
   ]
  },
  {
   "cell_type": "code",
   "execution_count": 185,
   "id": "e4280c9c",
   "metadata": {},
   "outputs": [
    {
     "data": {
      "text/plain": [
       "Item_Identifier               object\n",
       "Item_Weight                  float64\n",
       "Item_Fat_Content              object\n",
       "Item_Visibility              float64\n",
       "Item_Type                     object\n",
       "Item_MRP                     float64\n",
       "Outlet_Identifier             object\n",
       "Outlet_Establishment_Year      int64\n",
       "Outlet_Size                   object\n",
       "Outlet_Location_Type          object\n",
       "Outlet_Type                   object\n",
       "Item_Outlet_Sales            float64\n",
       "dtype: object"
      ]
     },
     "execution_count": 185,
     "metadata": {},
     "output_type": "execute_result"
    }
   ],
   "source": [
    "train.dtypes"
   ]
  },
  {
   "cell_type": "code",
   "execution_count": 186,
   "id": "5043f9a1",
   "metadata": {},
   "outputs": [
    {
     "name": "stdout",
     "output_type": "stream",
     "text": [
      "<class 'pandas.core.frame.DataFrame'>\n",
      "RangeIndex: 8523 entries, 0 to 8522\n",
      "Data columns (total 12 columns):\n",
      " #   Column                     Non-Null Count  Dtype  \n",
      "---  ------                     --------------  -----  \n",
      " 0   Item_Identifier            8523 non-null   object \n",
      " 1   Item_Weight                7060 non-null   float64\n",
      " 2   Item_Fat_Content           8523 non-null   object \n",
      " 3   Item_Visibility            8523 non-null   float64\n",
      " 4   Item_Type                  8523 non-null   object \n",
      " 5   Item_MRP                   8523 non-null   float64\n",
      " 6   Outlet_Identifier          8523 non-null   object \n",
      " 7   Outlet_Establishment_Year  8523 non-null   int64  \n",
      " 8   Outlet_Size                6113 non-null   object \n",
      " 9   Outlet_Location_Type       8523 non-null   object \n",
      " 10  Outlet_Type                8523 non-null   object \n",
      " 11  Item_Outlet_Sales          8523 non-null   float64\n",
      "dtypes: float64(4), int64(1), object(7)\n",
      "memory usage: 799.2+ KB\n"
     ]
    }
   ],
   "source": [
    "train.info()"
   ]
  },
  {
   "cell_type": "code",
   "execution_count": 187,
   "id": "d3c3cd7a",
   "metadata": {},
   "outputs": [
    {
     "data": {
      "text/html": [
       "<div>\n",
       "<style scoped>\n",
       "    .dataframe tbody tr th:only-of-type {\n",
       "        vertical-align: middle;\n",
       "    }\n",
       "\n",
       "    .dataframe tbody tr th {\n",
       "        vertical-align: top;\n",
       "    }\n",
       "\n",
       "    .dataframe thead th {\n",
       "        text-align: right;\n",
       "    }\n",
       "</style>\n",
       "<table border=\"1\" class=\"dataframe\">\n",
       "  <thead>\n",
       "    <tr style=\"text-align: right;\">\n",
       "      <th></th>\n",
       "      <th>Item_Identifier</th>\n",
       "      <th>Item_Weight</th>\n",
       "      <th>Item_Fat_Content</th>\n",
       "      <th>Item_Visibility</th>\n",
       "      <th>Item_Type</th>\n",
       "      <th>Item_MRP</th>\n",
       "      <th>Outlet_Identifier</th>\n",
       "      <th>Outlet_Establishment_Year</th>\n",
       "      <th>Outlet_Size</th>\n",
       "      <th>Outlet_Location_Type</th>\n",
       "      <th>Outlet_Type</th>\n",
       "      <th>Item_Outlet_Sales</th>\n",
       "    </tr>\n",
       "  </thead>\n",
       "  <tbody>\n",
       "    <tr>\n",
       "      <th>8518</th>\n",
       "      <td>FDF22</td>\n",
       "      <td>6.865</td>\n",
       "      <td>Low Fat</td>\n",
       "      <td>0.056783</td>\n",
       "      <td>Snack Foods</td>\n",
       "      <td>214.5218</td>\n",
       "      <td>OUT013</td>\n",
       "      <td>1987</td>\n",
       "      <td>High</td>\n",
       "      <td>Tier 3</td>\n",
       "      <td>Supermarket Type1</td>\n",
       "      <td>2778.3834</td>\n",
       "    </tr>\n",
       "    <tr>\n",
       "      <th>8519</th>\n",
       "      <td>FDS36</td>\n",
       "      <td>8.380</td>\n",
       "      <td>Regular</td>\n",
       "      <td>0.046982</td>\n",
       "      <td>Baking Goods</td>\n",
       "      <td>108.1570</td>\n",
       "      <td>OUT045</td>\n",
       "      <td>2002</td>\n",
       "      <td>NaN</td>\n",
       "      <td>Tier 2</td>\n",
       "      <td>Supermarket Type1</td>\n",
       "      <td>549.2850</td>\n",
       "    </tr>\n",
       "    <tr>\n",
       "      <th>8520</th>\n",
       "      <td>NCJ29</td>\n",
       "      <td>10.600</td>\n",
       "      <td>Low Fat</td>\n",
       "      <td>0.035186</td>\n",
       "      <td>Health and Hygiene</td>\n",
       "      <td>85.1224</td>\n",
       "      <td>OUT035</td>\n",
       "      <td>2004</td>\n",
       "      <td>Small</td>\n",
       "      <td>Tier 2</td>\n",
       "      <td>Supermarket Type1</td>\n",
       "      <td>1193.1136</td>\n",
       "    </tr>\n",
       "    <tr>\n",
       "      <th>8521</th>\n",
       "      <td>FDN46</td>\n",
       "      <td>7.210</td>\n",
       "      <td>Regular</td>\n",
       "      <td>0.145221</td>\n",
       "      <td>Snack Foods</td>\n",
       "      <td>103.1332</td>\n",
       "      <td>OUT018</td>\n",
       "      <td>2009</td>\n",
       "      <td>Medium</td>\n",
       "      <td>Tier 3</td>\n",
       "      <td>Supermarket Type2</td>\n",
       "      <td>1845.5976</td>\n",
       "    </tr>\n",
       "    <tr>\n",
       "      <th>8522</th>\n",
       "      <td>DRG01</td>\n",
       "      <td>14.800</td>\n",
       "      <td>Low Fat</td>\n",
       "      <td>0.044878</td>\n",
       "      <td>Soft Drinks</td>\n",
       "      <td>75.4670</td>\n",
       "      <td>OUT046</td>\n",
       "      <td>1997</td>\n",
       "      <td>Small</td>\n",
       "      <td>Tier 1</td>\n",
       "      <td>Supermarket Type1</td>\n",
       "      <td>765.6700</td>\n",
       "    </tr>\n",
       "  </tbody>\n",
       "</table>\n",
       "</div>"
      ],
      "text/plain": [
       "     Item_Identifier  Item_Weight Item_Fat_Content  Item_Visibility  \\\n",
       "8518           FDF22        6.865          Low Fat         0.056783   \n",
       "8519           FDS36        8.380          Regular         0.046982   \n",
       "8520           NCJ29       10.600          Low Fat         0.035186   \n",
       "8521           FDN46        7.210          Regular         0.145221   \n",
       "8522           DRG01       14.800          Low Fat         0.044878   \n",
       "\n",
       "               Item_Type  Item_MRP Outlet_Identifier  \\\n",
       "8518         Snack Foods  214.5218            OUT013   \n",
       "8519        Baking Goods  108.1570            OUT045   \n",
       "8520  Health and Hygiene   85.1224            OUT035   \n",
       "8521         Snack Foods  103.1332            OUT018   \n",
       "8522         Soft Drinks   75.4670            OUT046   \n",
       "\n",
       "      Outlet_Establishment_Year Outlet_Size Outlet_Location_Type  \\\n",
       "8518                       1987        High               Tier 3   \n",
       "8519                       2002         NaN               Tier 2   \n",
       "8520                       2004       Small               Tier 2   \n",
       "8521                       2009      Medium               Tier 3   \n",
       "8522                       1997       Small               Tier 1   \n",
       "\n",
       "            Outlet_Type  Item_Outlet_Sales  \n",
       "8518  Supermarket Type1          2778.3834  \n",
       "8519  Supermarket Type1           549.2850  \n",
       "8520  Supermarket Type1          1193.1136  \n",
       "8521  Supermarket Type2          1845.5976  \n",
       "8522  Supermarket Type1           765.6700  "
      ]
     },
     "execution_count": 187,
     "metadata": {},
     "output_type": "execute_result"
    }
   ],
   "source": [
    "train.tail()"
   ]
  },
  {
   "cell_type": "code",
   "execution_count": 188,
   "id": "853794a0",
   "metadata": {},
   "outputs": [
    {
     "data": {
      "text/plain": [
       "Index(['Item_Identifier', 'Item_Weight', 'Item_Fat_Content', 'Item_Visibility',\n",
       "       'Item_Type', 'Item_MRP', 'Outlet_Identifier',\n",
       "       'Outlet_Establishment_Year', 'Outlet_Size', 'Outlet_Location_Type',\n",
       "       'Outlet_Type', 'Item_Outlet_Sales'],\n",
       "      dtype='object')"
      ]
     },
     "execution_count": 188,
     "metadata": {},
     "output_type": "execute_result"
    }
   ],
   "source": [
    "train.columns"
   ]
  },
  {
   "cell_type": "code",
   "execution_count": 189,
   "id": "744b04fd",
   "metadata": {},
   "outputs": [
    {
     "data": {
      "text/plain": [
       "0"
      ]
     },
     "execution_count": 189,
     "metadata": {},
     "output_type": "execute_result"
    }
   ],
   "source": [
    "train.duplicated().sum()"
   ]
  },
  {
   "cell_type": "code",
   "execution_count": 190,
   "id": "3cd9fae7",
   "metadata": {},
   "outputs": [
    {
     "data": {
      "text/plain": [
       "3493"
      ]
     },
     "execution_count": 190,
     "metadata": {},
     "output_type": "execute_result"
    }
   ],
   "source": [
    "train['Item_Outlet_Sales'].nunique()"
   ]
  },
  {
   "cell_type": "code",
   "execution_count": 191,
   "id": "7196ddb2",
   "metadata": {},
   "outputs": [
    {
     "data": {
      "text/html": [
       "<div>\n",
       "<style scoped>\n",
       "    .dataframe tbody tr th:only-of-type {\n",
       "        vertical-align: middle;\n",
       "    }\n",
       "\n",
       "    .dataframe tbody tr th {\n",
       "        vertical-align: top;\n",
       "    }\n",
       "\n",
       "    .dataframe thead th {\n",
       "        text-align: right;\n",
       "    }\n",
       "</style>\n",
       "<table border=\"1\" class=\"dataframe\">\n",
       "  <thead>\n",
       "    <tr style=\"text-align: right;\">\n",
       "      <th></th>\n",
       "      <th>Item_Identifier</th>\n",
       "      <th>Item_Weight</th>\n",
       "      <th>Item_Fat_Content</th>\n",
       "      <th>Item_Visibility</th>\n",
       "      <th>Item_Type</th>\n",
       "      <th>Item_MRP</th>\n",
       "      <th>Outlet_Identifier</th>\n",
       "      <th>Outlet_Establishment_Year</th>\n",
       "      <th>Outlet_Size</th>\n",
       "      <th>Outlet_Location_Type</th>\n",
       "      <th>Outlet_Type</th>\n",
       "      <th>Item_Outlet_Sales</th>\n",
       "    </tr>\n",
       "  </thead>\n",
       "  <tbody>\n",
       "    <tr>\n",
       "      <th>5201</th>\n",
       "      <td>FDC34</td>\n",
       "      <td>16.00</td>\n",
       "      <td>Regular</td>\n",
       "      <td>0.173109</td>\n",
       "      <td>Snack Foods</td>\n",
       "      <td>155.2972</td>\n",
       "      <td>OUT045</td>\n",
       "      <td>2002</td>\n",
       "      <td>NaN</td>\n",
       "      <td>Tier 2</td>\n",
       "      <td>Supermarket Type1</td>\n",
       "      <td>3894.9300</td>\n",
       "    </tr>\n",
       "    <tr>\n",
       "      <th>5077</th>\n",
       "      <td>DRC01</td>\n",
       "      <td>5.92</td>\n",
       "      <td>Regular</td>\n",
       "      <td>0.019200</td>\n",
       "      <td>Soft Drinks</td>\n",
       "      <td>47.7692</td>\n",
       "      <td>OUT046</td>\n",
       "      <td>1997</td>\n",
       "      <td>Small</td>\n",
       "      <td>Tier 1</td>\n",
       "      <td>Supermarket Type1</td>\n",
       "      <td>492.6920</td>\n",
       "    </tr>\n",
       "    <tr>\n",
       "      <th>5463</th>\n",
       "      <td>FDW55</td>\n",
       "      <td>12.60</td>\n",
       "      <td>Regular</td>\n",
       "      <td>0.000000</td>\n",
       "      <td>Fruits and Vegetables</td>\n",
       "      <td>248.8092</td>\n",
       "      <td>OUT035</td>\n",
       "      <td>2004</td>\n",
       "      <td>Small</td>\n",
       "      <td>Tier 2</td>\n",
       "      <td>Supermarket Type1</td>\n",
       "      <td>6723.2484</td>\n",
       "    </tr>\n",
       "    <tr>\n",
       "      <th>7887</th>\n",
       "      <td>NCP43</td>\n",
       "      <td>NaN</td>\n",
       "      <td>Low Fat</td>\n",
       "      <td>0.053414</td>\n",
       "      <td>Others</td>\n",
       "      <td>181.7660</td>\n",
       "      <td>OUT019</td>\n",
       "      <td>1985</td>\n",
       "      <td>Small</td>\n",
       "      <td>Tier 1</td>\n",
       "      <td>Grocery Store</td>\n",
       "      <td>179.7660</td>\n",
       "    </tr>\n",
       "    <tr>\n",
       "      <th>3160</th>\n",
       "      <td>NCP50</td>\n",
       "      <td>NaN</td>\n",
       "      <td>Low Fat</td>\n",
       "      <td>0.020460</td>\n",
       "      <td>Others</td>\n",
       "      <td>81.7618</td>\n",
       "      <td>OUT027</td>\n",
       "      <td>1985</td>\n",
       "      <td>Medium</td>\n",
       "      <td>Tier 3</td>\n",
       "      <td>Supermarket Type3</td>\n",
       "      <td>2175.1686</td>\n",
       "    </tr>\n",
       "  </tbody>\n",
       "</table>\n",
       "</div>"
      ],
      "text/plain": [
       "     Item_Identifier  Item_Weight Item_Fat_Content  Item_Visibility  \\\n",
       "5201           FDC34        16.00          Regular         0.173109   \n",
       "5077           DRC01         5.92          Regular         0.019200   \n",
       "5463           FDW55        12.60          Regular         0.000000   \n",
       "7887           NCP43          NaN          Low Fat         0.053414   \n",
       "3160           NCP50          NaN          Low Fat         0.020460   \n",
       "\n",
       "                  Item_Type  Item_MRP Outlet_Identifier  \\\n",
       "5201            Snack Foods  155.2972            OUT045   \n",
       "5077            Soft Drinks   47.7692            OUT046   \n",
       "5463  Fruits and Vegetables  248.8092            OUT035   \n",
       "7887                 Others  181.7660            OUT019   \n",
       "3160                 Others   81.7618            OUT027   \n",
       "\n",
       "      Outlet_Establishment_Year Outlet_Size Outlet_Location_Type  \\\n",
       "5201                       2002         NaN               Tier 2   \n",
       "5077                       1997       Small               Tier 1   \n",
       "5463                       2004       Small               Tier 2   \n",
       "7887                       1985       Small               Tier 1   \n",
       "3160                       1985      Medium               Tier 3   \n",
       "\n",
       "            Outlet_Type  Item_Outlet_Sales  \n",
       "5201  Supermarket Type1          3894.9300  \n",
       "5077  Supermarket Type1           492.6920  \n",
       "5463  Supermarket Type1          6723.2484  \n",
       "7887      Grocery Store           179.7660  \n",
       "3160  Supermarket Type3          2175.1686  "
      ]
     },
     "execution_count": 191,
     "metadata": {},
     "output_type": "execute_result"
    }
   ],
   "source": [
    "train.sample(5)"
   ]
  },
  {
   "cell_type": "code",
   "execution_count": 192,
   "id": "7a59abcb",
   "metadata": {},
   "outputs": [
    {
     "data": {
      "text/plain": [
       "5"
      ]
     },
     "execution_count": 192,
     "metadata": {},
     "output_type": "execute_result"
    }
   ],
   "source": [
    "train[\"Item_Fat_Content\"].nunique()"
   ]
  },
  {
   "cell_type": "code",
   "execution_count": 193,
   "id": "161ab2c8",
   "metadata": {},
   "outputs": [
    {
     "data": {
      "text/plain": [
       "array(['Low Fat', 'Regular', 'low fat', 'LF', 'reg'], dtype=object)"
      ]
     },
     "execution_count": 193,
     "metadata": {},
     "output_type": "execute_result"
    }
   ],
   "source": [
    "train[\"Item_Fat_Content\"].unique()"
   ]
  },
  {
   "cell_type": "code",
   "execution_count": 194,
   "id": "85740237",
   "metadata": {},
   "outputs": [
    {
     "data": {
      "text/plain": [
       "16"
      ]
     },
     "execution_count": 194,
     "metadata": {},
     "output_type": "execute_result"
    }
   ],
   "source": [
    "train[\"Item_Type\"].nunique()"
   ]
  },
  {
   "cell_type": "code",
   "execution_count": 195,
   "id": "67095ac7",
   "metadata": {},
   "outputs": [
    {
     "data": {
      "text/plain": [
       "array(['Dairy', 'Soft Drinks', 'Meat', 'Fruits and Vegetables',\n",
       "       'Household', 'Baking Goods', 'Snack Foods', 'Frozen Foods',\n",
       "       'Breakfast', 'Health and Hygiene', 'Hard Drinks', 'Canned',\n",
       "       'Breads', 'Starchy Foods', 'Others', 'Seafood'], dtype=object)"
      ]
     },
     "execution_count": 195,
     "metadata": {},
     "output_type": "execute_result"
    }
   ],
   "source": [
    "train[\"Item_Type\"].unique()"
   ]
  },
  {
   "cell_type": "code",
   "execution_count": 196,
   "id": "4ef9f6de",
   "metadata": {},
   "outputs": [
    {
     "data": {
      "image/png": "[encoded data removed]",
      "text/plain": [
       "<Figure size 648x216 with 1 Axes>"
      ]
     },
     "metadata": {},
     "output_type": "display_data"
    },
    {
     "name": "stdout",
     "output_type": "stream",
     "text": [
      "Item_Weight: \n",
      " 12.150    86\n",
      "17.600    82\n",
      "13.650    77\n",
      "11.800    76\n",
      "15.100    68\n",
      "          ..\n",
      "7.275      2\n",
      "7.685      1\n",
      "9.420      1\n",
      "6.520      1\n",
      "5.400      1\n",
      "Name: Item_Weight, Length: 415, dtype: int64\n"
     ]
    },
    {
     "data": {
      "image/png": "[encoded data removed]",
      "text/plain": [
       "<Figure size 648x216 with 1 Axes>"
      ]
     },
     "metadata": {},
     "output_type": "display_data"
    },
    {
     "name": "stdout",
     "output_type": "stream",
     "text": [
      "Item_Visibility: \n",
      " 0.000000    526\n",
      "0.076975      3\n",
      "0.162462      2\n",
      "0.076841      2\n",
      "0.073562      2\n",
      "           ... \n",
      "0.013957      1\n",
      "0.110460      1\n",
      "0.124646      1\n",
      "0.054142      1\n",
      "0.044878      1\n",
      "Name: Item_Visibility, Length: 7880, dtype: int64\n"
     ]
    },
    {
     "data": {
      "image/png": "[encoded data removed]",
      "text/plain": [
       "<Figure size 648x216 with 1 Axes>"
      ]
     },
     "metadata": {},
     "output_type": "display_data"
    },
    {
     "name": "stdout",
     "output_type": "stream",
     "text": [
      "Item_MRP: \n",
      " 172.0422    7\n",
      "170.5422    6\n",
      "196.5084    6\n",
      "188.1872    6\n",
      "142.0154    6\n",
      "           ..\n",
      "97.3384     1\n",
      "83.1934     1\n",
      "96.6752     1\n",
      "152.6682    1\n",
      "75.4670     1\n",
      "Name: Item_MRP, Length: 5938, dtype: int64\n"
     ]
    },
    {
     "data": {
      "image/png": "[encoded data removed]",
      "text/plain": [
       "<Figure size 648x216 with 1 Axes>"
      ]
     },
     "metadata": {},
     "output_type": "display_data"
    },
    {
     "name": "stdout",
     "output_type": "stream",
     "text": [
      "Outlet_Establishment_Year: \n",
      " 1985    1463\n",
      "1987     932\n",
      "1999     930\n",
      "1997     930\n",
      "2004     930\n",
      "2002     929\n",
      "2009     928\n",
      "2007     926\n",
      "1998     555\n",
      "Name: Outlet_Establishment_Year, dtype: int64\n"
     ]
    },
    {
     "data": {
      "image/png": "[encoded data removed]",
      "text/plain": [
       "<Figure size 648x216 with 1 Axes>"
      ]
     },
     "metadata": {},
     "output_type": "display_data"
    },
    {
     "name": "stdout",
     "output_type": "stream",
     "text": [
      "Item_Outlet_Sales: \n",
      " 958.7520     17\n",
      "1342.2528    16\n",
      "703.0848     15\n",
      "1845.5976    15\n",
      "1278.3360    14\n",
      "             ..\n",
      "4124.6310     1\n",
      "6622.7126     1\n",
      "1614.5650     1\n",
      "5602.7070     1\n",
      "2778.3834     1\n",
      "Name: Item_Outlet_Sales, Length: 3493, dtype: int64\n"
     ]
    }
   ],
   "source": [
    "def bar_plot(variable):\n",
    "    \n",
    "    var=train[variable]\n",
    "    var_Value=var.value_counts()\n",
    "    \n",
    "    #visualize\n",
    "    plt.figure(figsize=(9,3))\n",
    "    plt.bar(var_Value.index,var_Value.values)\n",
    "    \n",
    "    plt.xlabel(\"Item_Outlet_Sales\")\n",
    "    plt.ylabel(\"Item_Weight\")\n",
    "    plt.title(variable)\n",
    "    plt.show()\n",
    "    print(\"{}: \\n {}\".format(variable,var_Value))\n",
    "\n",
    "###########################################    \n",
    "\n",
    "for val in numerical_features:\n",
    "    bar_plot(val)"
   ]
  },
  {
   "cell_type": "code",
   "execution_count": 197,
   "id": "3a25b838",
   "metadata": {},
   "outputs": [
    {
     "name": "stdout",
     "output_type": "stream",
     "text": [
      "FDW13    10\n",
      "FDG33    10\n",
      "NCY18     9\n",
      "FDD38     9\n",
      "DRE49     9\n",
      "         ..\n",
      "FDY43     1\n",
      "FDQ60     1\n",
      "FDO33     1\n",
      "DRF48     1\n",
      "FDC23     1\n",
      "Name: Item_Identifier, Length: 1559, dtype: int64 \n",
      "\n",
      "Low Fat    5089\n",
      "Regular    2889\n",
      "LF          316\n",
      "reg         117\n",
      "low fat     112\n",
      "Name: Item_Fat_Content, dtype: int64 \n",
      "\n",
      "Fruits and Vegetables    1232\n",
      "Snack Foods              1200\n",
      "Household                 910\n",
      "Frozen Foods              856\n",
      "Dairy                     682\n",
      "Canned                    649\n",
      "Baking Goods              648\n",
      "Health and Hygiene        520\n",
      "Soft Drinks               445\n",
      "Meat                      425\n",
      "Breads                    251\n",
      "Hard Drinks               214\n",
      "Others                    169\n",
      "Starchy Foods             148\n",
      "Breakfast                 110\n",
      "Seafood                    64\n",
      "Name: Item_Type, dtype: int64 \n",
      "\n",
      "OUT027    935\n",
      "OUT013    932\n",
      "OUT049    930\n",
      "OUT046    930\n",
      "OUT035    930\n",
      "OUT045    929\n",
      "OUT018    928\n",
      "OUT017    926\n",
      "OUT010    555\n",
      "OUT019    528\n",
      "Name: Outlet_Identifier, dtype: int64 \n",
      "\n",
      "Medium    2793\n",
      "Small     2388\n",
      "High       932\n",
      "Name: Outlet_Size, dtype: int64 \n",
      "\n",
      "Tier 3    3350\n",
      "Tier 2    2785\n",
      "Tier 1    2388\n",
      "Name: Outlet_Location_Type, dtype: int64 \n",
      "\n",
      "Supermarket Type1    5577\n",
      "Grocery Store        1083\n",
      "Supermarket Type3     935\n",
      "Supermarket Type2     928\n",
      "Name: Outlet_Type, dtype: int64 \n",
      "\n"
     ]
    }
   ],
   "source": [
    "#category2=[\"Gender\", \"Customer Type\", \"Type of Travel\", \"Class\",\"Satisfaction\"]\n",
    "\n",
    "for c in cat_features:\n",
    "    print(\"{} \\n\".format(train[c].value_counts()))"
   ]
  },
  {
   "cell_type": "code",
   "execution_count": 198,
   "id": "9f2d8c7d",
   "metadata": {},
   "outputs": [
    {
     "data": {
      "text/plain": [
       "count    7060.000000\n",
       "mean       12.857645\n",
       "std         4.643456\n",
       "min         4.555000\n",
       "25%         8.773750\n",
       "50%        12.600000\n",
       "75%        16.850000\n",
       "max        21.350000\n",
       "Name: Item_Weight, dtype: float64"
      ]
     },
     "execution_count": 198,
     "metadata": {},
     "output_type": "execute_result"
    }
   ],
   "source": [
    "train.Item_Weight.describe()"
   ]
  },
  {
   "cell_type": "markdown",
   "id": "7b81fa85",
   "metadata": {},
   "source": [
    "Firstly we need to split our data to categorical and numerical data,\n",
    "\n",
    "using the .select_dtypes('dtype').columns.to_list() combination."
   ]
  },
  {
   "cell_type": "code",
   "execution_count": 199,
   "id": "0ca6f2c0",
   "metadata": {},
   "outputs": [
    {
     "data": {
      "text/plain": [
       "[Low Fat    5089\n",
       " Regular    2889\n",
       " LF          316\n",
       " reg         117\n",
       " low fat     112\n",
       " Name: Item_Fat_Content, dtype: int64,\n",
       " Fruits and Vegetables    1232\n",
       " Snack Foods              1200\n",
       " Household                 910\n",
       " Frozen Foods              856\n",
       " Dairy                     682\n",
       " Canned                    649\n",
       " Baking Goods              648\n",
       " Health and Hygiene        520\n",
       " Soft Drinks               445\n",
       " Meat                      425\n",
       " Breads                    251\n",
       " Hard Drinks               214\n",
       " Others                    169\n",
       " Starchy Foods             148\n",
       " Breakfast                 110\n",
       " Seafood                    64\n",
       " Name: Item_Type, dtype: int64,\n",
       " OUT027    935\n",
       " OUT013    932\n",
       " OUT049    930\n",
       " OUT046    930\n",
       " OUT035    930\n",
       " OUT045    929\n",
       " OUT018    928\n",
       " OUT017    926\n",
       " OUT010    555\n",
       " OUT019    528\n",
       " Name: Outlet_Identifier, dtype: int64,\n",
       " Medium    2793\n",
       " Small     2388\n",
       " High       932\n",
       " Name: Outlet_Size, dtype: int64,\n",
       " Tier 3    3350\n",
       " Tier 2    2785\n",
       " Tier 1    2388\n",
       " Name: Outlet_Location_Type, dtype: int64,\n",
       " Supermarket Type1    5577\n",
       " Grocery Store        1083\n",
       " Supermarket Type3     935\n",
       " Supermarket Type2     928\n",
       " Name: Outlet_Type, dtype: int64]"
      ]
     },
     "execution_count": 199,
     "metadata": {},
     "output_type": "execute_result"
    }
   ],
   "source": [
    "#list of all the numeric columns\n",
    "num = train.select_dtypes('number').columns.to_list()\n",
    "#list of all the categoric columns\n",
    "cat = train.select_dtypes('object').columns.to_list()\n",
    "\n",
    "#numeric df\n",
    "BM_num =  train[num]\n",
    "#categoric df\n",
    "BM_cat = train[cat]\n",
    "\n",
    "#print(num)\n",
    "#print(cat)\n",
    "\n",
    "[train[category].value_counts() for category in cat[1:]]"
   ]
  },
  {
   "cell_type": "code",
   "execution_count": 200,
   "id": "fffc606a",
   "metadata": {},
   "outputs": [
    {
     "data": {
      "text/plain": [
       "Low Fat    5517\n",
       "Regular    3006\n",
       "Name: Item_Fat_Content, dtype: int64"
      ]
     },
     "execution_count": 200,
     "metadata": {},
     "output_type": "execute_result"
    }
   ],
   "source": [
    "#train\n",
    "train['Item_Fat_Content'].replace(['LF', 'low fat', 'reg'], \n",
    "                                  ['Low Fat','Low Fat','Regular'],inplace = True)\n",
    "\n",
    "#check result\n",
    "train.Item_Fat_Content.value_counts()"
   ]
  },
  {
   "cell_type": "code",
   "execution_count": 201,
   "id": "4e26b1f3",
   "metadata": {},
   "outputs": [
    {
     "data": {
      "text/html": [
       "<div>\n",
       "<style scoped>\n",
       "    .dataframe tbody tr th:only-of-type {\n",
       "        vertical-align: middle;\n",
       "    }\n",
       "\n",
       "    .dataframe tbody tr th {\n",
       "        vertical-align: top;\n",
       "    }\n",
       "\n",
       "    .dataframe thead th {\n",
       "        text-align: right;\n",
       "    }\n",
       "</style>\n",
       "<table border=\"1\" class=\"dataframe\">\n",
       "  <thead>\n",
       "    <tr style=\"text-align: right;\">\n",
       "      <th></th>\n",
       "      <th>Item_Identifier</th>\n",
       "      <th>Item_Weight</th>\n",
       "      <th>Item_Fat_Content</th>\n",
       "      <th>Item_Visibility</th>\n",
       "      <th>Item_Type</th>\n",
       "      <th>Item_MRP</th>\n",
       "      <th>Outlet_Identifier</th>\n",
       "      <th>Outlet_Establishment_Year</th>\n",
       "      <th>Outlet_Size</th>\n",
       "      <th>Outlet_Location_Type</th>\n",
       "      <th>Outlet_Type</th>\n",
       "      <th>Item_Outlet_Sales</th>\n",
       "    </tr>\n",
       "  </thead>\n",
       "  <tbody>\n",
       "    <tr>\n",
       "      <th>0</th>\n",
       "      <td>FDA15</td>\n",
       "      <td>9.30</td>\n",
       "      <td>Low Fat</td>\n",
       "      <td>0.016047</td>\n",
       "      <td>Dairy</td>\n",
       "      <td>249.8092</td>\n",
       "      <td>OUT049</td>\n",
       "      <td>1999</td>\n",
       "      <td>Medium</td>\n",
       "      <td>Tier 1</td>\n",
       "      <td>Supermarket Type1</td>\n",
       "      <td>3735.1380</td>\n",
       "    </tr>\n",
       "    <tr>\n",
       "      <th>1</th>\n",
       "      <td>DRC01</td>\n",
       "      <td>5.92</td>\n",
       "      <td>Regular</td>\n",
       "      <td>0.019278</td>\n",
       "      <td>Soft Drinks</td>\n",
       "      <td>48.2692</td>\n",
       "      <td>OUT018</td>\n",
       "      <td>2009</td>\n",
       "      <td>Medium</td>\n",
       "      <td>Tier 3</td>\n",
       "      <td>Supermarket Type2</td>\n",
       "      <td>443.4228</td>\n",
       "    </tr>\n",
       "    <tr>\n",
       "      <th>2</th>\n",
       "      <td>FDN15</td>\n",
       "      <td>17.50</td>\n",
       "      <td>Low Fat</td>\n",
       "      <td>0.016760</td>\n",
       "      <td>Meat</td>\n",
       "      <td>141.6180</td>\n",
       "      <td>OUT049</td>\n",
       "      <td>1999</td>\n",
       "      <td>Medium</td>\n",
       "      <td>Tier 1</td>\n",
       "      <td>Supermarket Type1</td>\n",
       "      <td>2097.2700</td>\n",
       "    </tr>\n",
       "    <tr>\n",
       "      <th>3</th>\n",
       "      <td>FDX07</td>\n",
       "      <td>19.20</td>\n",
       "      <td>Regular</td>\n",
       "      <td>0.000000</td>\n",
       "      <td>Fruits and Vegetables</td>\n",
       "      <td>182.0950</td>\n",
       "      <td>OUT010</td>\n",
       "      <td>1998</td>\n",
       "      <td>NaN</td>\n",
       "      <td>Tier 3</td>\n",
       "      <td>Grocery Store</td>\n",
       "      <td>732.3800</td>\n",
       "    </tr>\n",
       "    <tr>\n",
       "      <th>4</th>\n",
       "      <td>NCD19</td>\n",
       "      <td>8.93</td>\n",
       "      <td>Low Fat</td>\n",
       "      <td>0.000000</td>\n",
       "      <td>Household</td>\n",
       "      <td>53.8614</td>\n",
       "      <td>OUT013</td>\n",
       "      <td>1987</td>\n",
       "      <td>High</td>\n",
       "      <td>Tier 3</td>\n",
       "      <td>Supermarket Type1</td>\n",
       "      <td>994.7052</td>\n",
       "    </tr>\n",
       "  </tbody>\n",
       "</table>\n",
       "</div>"
      ],
      "text/plain": [
       "  Item_Identifier  Item_Weight Item_Fat_Content  Item_Visibility  \\\n",
       "0           FDA15         9.30          Low Fat         0.016047   \n",
       "1           DRC01         5.92          Regular         0.019278   \n",
       "2           FDN15        17.50          Low Fat         0.016760   \n",
       "3           FDX07        19.20          Regular         0.000000   \n",
       "4           NCD19         8.93          Low Fat         0.000000   \n",
       "\n",
       "               Item_Type  Item_MRP Outlet_Identifier  \\\n",
       "0                  Dairy  249.8092            OUT049   \n",
       "1            Soft Drinks   48.2692            OUT018   \n",
       "2                   Meat  141.6180            OUT049   \n",
       "3  Fruits and Vegetables  182.0950            OUT010   \n",
       "4              Household   53.8614            OUT013   \n",
       "\n",
       "   Outlet_Establishment_Year Outlet_Size Outlet_Location_Type  \\\n",
       "0                       1999      Medium               Tier 1   \n",
       "1                       2009      Medium               Tier 3   \n",
       "2                       1999      Medium               Tier 1   \n",
       "3                       1998         NaN               Tier 3   \n",
       "4                       1987        High               Tier 3   \n",
       "\n",
       "         Outlet_Type  Item_Outlet_Sales  \n",
       "0  Supermarket Type1          3735.1380  \n",
       "1  Supermarket Type2           443.4228  \n",
       "2  Supermarket Type1          2097.2700  \n",
       "3      Grocery Store           732.3800  \n",
       "4  Supermarket Type1           994.7052  "
      ]
     },
     "execution_count": 201,
     "metadata": {},
     "output_type": "execute_result"
    }
   ],
   "source": [
    "train.head()"
   ]
  },
  {
   "cell_type": "markdown",
   "id": "f89f70fa",
   "metadata": {},
   "source": [
    "`Outlet_Establishment_Year` is quite useless as it is, making a new column with the age the new name will be `Outlet_Age`"
   ]
  },
  {
   "cell_type": "code",
   "execution_count": 202,
   "id": "a5b24759",
   "metadata": {},
   "outputs": [],
   "source": [
    "#creating our new column for train datasets\n",
    "train['Outlet_Age']= train['Outlet_Establishment_Year'].apply(lambda year: 2020 - year)\n",
    "##uncomment to check result\n",
    "#tr_df['Outlet_Age'].head\n",
    "#te_df['Outlet_Age'].head"
   ]
  },
  {
   "cell_type": "code",
   "execution_count": 203,
   "id": "823041fb",
   "metadata": {},
   "outputs": [
    {
     "data": {
      "text/html": [
       "<div>\n",
       "<style scoped>\n",
       "    .dataframe tbody tr th:only-of-type {\n",
       "        vertical-align: middle;\n",
       "    }\n",
       "\n",
       "    .dataframe tbody tr th {\n",
       "        vertical-align: top;\n",
       "    }\n",
       "\n",
       "    .dataframe thead th {\n",
       "        text-align: right;\n",
       "    }\n",
       "</style>\n",
       "<table border=\"1\" class=\"dataframe\">\n",
       "  <thead>\n",
       "    <tr style=\"text-align: right;\">\n",
       "      <th></th>\n",
       "      <th>Item_Identifier</th>\n",
       "      <th>Item_Weight</th>\n",
       "      <th>Item_Fat_Content</th>\n",
       "      <th>Item_Visibility</th>\n",
       "      <th>Item_Type</th>\n",
       "      <th>Item_MRP</th>\n",
       "      <th>Outlet_Identifier</th>\n",
       "      <th>Outlet_Establishment_Year</th>\n",
       "      <th>Outlet_Size</th>\n",
       "      <th>Outlet_Location_Type</th>\n",
       "      <th>Outlet_Type</th>\n",
       "      <th>Item_Outlet_Sales</th>\n",
       "      <th>Outlet_Age</th>\n",
       "    </tr>\n",
       "  </thead>\n",
       "  <tbody>\n",
       "    <tr>\n",
       "      <th>0</th>\n",
       "      <td>FDA15</td>\n",
       "      <td>9.30</td>\n",
       "      <td>Low Fat</td>\n",
       "      <td>0.016047</td>\n",
       "      <td>Dairy</td>\n",
       "      <td>249.8092</td>\n",
       "      <td>OUT049</td>\n",
       "      <td>1999</td>\n",
       "      <td>Medium</td>\n",
       "      <td>Tier 1</td>\n",
       "      <td>Supermarket Type1</td>\n",
       "      <td>3735.1380</td>\n",
       "      <td>21</td>\n",
       "    </tr>\n",
       "    <tr>\n",
       "      <th>1</th>\n",
       "      <td>DRC01</td>\n",
       "      <td>5.92</td>\n",
       "      <td>Regular</td>\n",
       "      <td>0.019278</td>\n",
       "      <td>Soft Drinks</td>\n",
       "      <td>48.2692</td>\n",
       "      <td>OUT018</td>\n",
       "      <td>2009</td>\n",
       "      <td>Medium</td>\n",
       "      <td>Tier 3</td>\n",
       "      <td>Supermarket Type2</td>\n",
       "      <td>443.4228</td>\n",
       "      <td>11</td>\n",
       "    </tr>\n",
       "  </tbody>\n",
       "</table>\n",
       "</div>"
      ],
      "text/plain": [
       "  Item_Identifier  Item_Weight Item_Fat_Content  Item_Visibility    Item_Type  \\\n",
       "0           FDA15         9.30          Low Fat         0.016047        Dairy   \n",
       "1           DRC01         5.92          Regular         0.019278  Soft Drinks   \n",
       "\n",
       "   Item_MRP Outlet_Identifier  Outlet_Establishment_Year Outlet_Size  \\\n",
       "0  249.8092            OUT049                       1999      Medium   \n",
       "1   48.2692            OUT018                       2009      Medium   \n",
       "\n",
       "  Outlet_Location_Type        Outlet_Type  Item_Outlet_Sales  Outlet_Age  \n",
       "0               Tier 1  Supermarket Type1          3735.1380          21  \n",
       "1               Tier 3  Supermarket Type2           443.4228          11  "
      ]
     },
     "execution_count": 203,
     "metadata": {},
     "output_type": "execute_result"
    }
   ],
   "source": [
    "train.head(2)"
   ]
  },
  {
   "cell_type": "markdown",
   "id": "39404af9",
   "metadata": {},
   "source": [
    "# Data Visualization"
   ]
  },
  {
   "cell_type": "markdown",
   "id": "d2bf134d",
   "metadata": {},
   "source": [
    "Univariate Plots\n",
    "-\n",
    "For starters we will create countplots for the categorical columns:"
   ]
  },
  {
   "cell_type": "code",
   "execution_count": 204,
   "id": "d1d2e82b",
   "metadata": {},
   "outputs": [
    {
     "data": {
      "image/png": "[encoded data removed]",
      "text/plain": [
       "<Figure size 432x288 with 1 Axes>"
      ]
     },
     "metadata": {},
     "output_type": "display_data"
    }
   ],
   "source": [
    "#categorical columns:\n",
    "['Item_Identifier', 'Item_Fat_Content', 'Item_Type', 'Outlet_Identifier', \n",
    " 'Outlet_Size', 'Outlet_Location_Type', 'Outlet_Type']\n",
    " \n",
    "plt.figure(figsize=(6,4))\n",
    "sns.countplot(x='Item_Fat_Content' , data=train ,palette='mako')\n",
    "plt.xlabel('Item_Fat_Content', fontsize=14)\n",
    "plt.show()"
   ]
  },
  {
   "cell_type": "code",
   "execution_count": 205,
   "id": "5f0c1df6",
   "metadata": {},
   "outputs": [
    {
     "data": {
      "image/png": "[encoded data removed]",
      "text/plain": [
       "<Figure size 1440x720 with 1 Axes>"
      ]
     },
     "metadata": {},
     "output_type": "display_data"
    }
   ],
   "source": [
    "plt.figure(figsize=(20,10))\n",
    "sns.countplot(x='Item_Type' , data=train ,palette='summer')\n",
    "plt.xlabel('Item_Type', fontsize=14)\n",
    "plt.show()"
   ]
  },
  {
   "cell_type": "code",
   "execution_count": 206,
   "id": "38ce16bb",
   "metadata": {},
   "outputs": [
    {
     "data": {
      "image/png": "[encoded data removed]",
      "text/plain": [
       "<Figure size 1080x288 with 1 Axes>"
      ]
     },
     "metadata": {},
     "output_type": "display_data"
    }
   ],
   "source": [
    "plt.figure(figsize=(15,4))\n",
    "sns.countplot(x='Outlet_Identifier' , data=train ,palette='winter')\n",
    "plt.xlabel('Outlet_Identifier', fontsize=14)\n",
    "plt.show()"
   ]
  },
  {
   "cell_type": "code",
   "execution_count": 207,
   "id": "cc93ed6a",
   "metadata": {},
   "outputs": [
    {
     "data": {
      "image/png": "[encoded data removed]",
      "text/plain": [
       "<Figure size 720x288 with 1 Axes>"
      ]
     },
     "metadata": {},
     "output_type": "display_data"
    }
   ],
   "source": [
    "plt.figure(figsize=(10,4))\n",
    "sns.countplot(x='Outlet_Size' , data=train ,palette='autumn')\n",
    "plt.xlabel('Outlet_Size', fontsize=14)\n",
    "plt.show()"
   ]
  },
  {
   "cell_type": "code",
   "execution_count": 208,
   "id": "27dd8d14",
   "metadata": {},
   "outputs": [
    {
     "data": {
      "image/png": "[encoded data removed]",
      "text/plain": [
       "<Figure size 720x288 with 1 Axes>"
      ]
     },
     "metadata": {},
     "output_type": "display_data"
    }
   ],
   "source": [
    "plt.figure(figsize=(10,4))\n",
    "sns.countplot(x='Outlet_Location_Type' , data=train ,palette='twilight_shifted')\n",
    "plt.xlabel('Outlet_Location_Type', fontsize=14)\n",
    "plt.show()"
   ]
  },
  {
   "cell_type": "code",
   "execution_count": 209,
   "id": "6bc1a026",
   "metadata": {},
   "outputs": [
    {
     "data": {
      "image/png": "[encoded data removed]",
      "text/plain": [
       "<Figure size 720x288 with 1 Axes>"
      ]
     },
     "metadata": {},
     "output_type": "display_data"
    }
   ],
   "source": [
    "plt.figure(figsize=(10,4))\n",
    "sns.countplot(x='Outlet_Type' , data=train ,palette='rocket')\n",
    "plt.xlabel('Outlet_Type', fontsize=14)\n",
    "plt.show()"
   ]
  },
  {
   "cell_type": "markdown",
   "id": "4b22b12e",
   "metadata": {},
   "source": [
    "Categoric columns realizations\n",
    "-\n",
    "* `Item_Fat_Content` - Most items sold are low fat.\n",
    "* `Item_Type` - Item types that are distictly popular are `fruits and vegetables` and `snack foods`. \n",
    "* `Outlet_Identifier` - Sold items are ditributed evenly among outlets excluding `OUT010` and `OUT019` that are significanly lower. \n",
    "* `Outlet_Size` - Bigmart outlets are mostly medium sized in our data. \n",
    "* `Outlet_Location_Type` - The most common type is `Tier3`.\n",
    "* `Outlet_Type` - By a wide margin the mode outlet type is `Supermarket Type1`.\n",
    "\n",
    "Now for the numerical columns:\n",
    "-\n"
   ]
  },
  {
   "cell_type": "code",
   "execution_count": 210,
   "id": "c0cce50e",
   "metadata": {},
   "outputs": [
    {
     "data": {
      "image/png": "[encoded data removed]",
      "text/plain": [
       "<Figure size 432x288 with 1 Axes>"
      ]
     },
     "metadata": {},
     "output_type": "display_data"
    }
   ],
   "source": [
    "#list of all the numeric columns\n",
    "num = train.select_dtypes('number').columns.to_list()\n",
    "#numeric df\n",
    "BM_num =  train[num]\n",
    "\n",
    "plt.hist(train['Outlet_Age'])\n",
    "plt.title(\"Outlet_Age\")\n",
    "plt.show()"
   ]
  },
  {
   "cell_type": "code",
   "execution_count": 211,
   "id": "ba909d2c",
   "metadata": {},
   "outputs": [
    {
     "data": {
      "image/png": "[encoded data removed]",
      "text/plain": [
       "<Figure size 432x288 with 1 Axes>"
      ]
     },
     "metadata": {},
     "output_type": "display_data"
    },
    {
     "data": {
      "image/png": "[encoded data removed]",
      "text/plain": [
       "<Figure size 432x288 with 1 Axes>"
      ]
     },
     "metadata": {},
     "output_type": "display_data"
    },
    {
     "data": {
      "image/png": "[encoded data removed]",
      "text/plain": [
       "<Figure size 432x288 with 1 Axes>"
      ]
     },
     "metadata": {},
     "output_type": "display_data"
    }
   ],
   "source": [
    "#because of the variability of the unique values of the numeric columns a scatter plot with the target value will be of use\n",
    "for numeric in BM_num[num[:3]]:\n",
    "    plt.scatter(BM_num[numeric], BM_num['Item_Outlet_Sales'])\n",
    "    plt.title(numeric)\n",
    "    plt.ylabel('Item_Outlet_Sales')\n",
    "    plt.show()"
   ]
  },
  {
   "cell_type": "markdown",
   "id": "7c11096a",
   "metadata": {},
   "source": [
    " multivariate plots\n",
    "-\n",
    "I want to check the following relationships with `Item_Outlet_Sales`:\n",
    "* Sales per item type\n",
    "* Sales per outlet\n",
    "* Sales per outlet type\n",
    "* Sales per outlet size\n",
    "* Sales per location type"
   ]
  },
  {
   "cell_type": "code",
   "execution_count": 212,
   "id": "53a2fd19",
   "metadata": {},
   "outputs": [
    {
     "name": "stderr",
     "output_type": "stream",
     "text": [
      "No handles with labels found to put in legend.\n"
     ]
    },
    {
     "data": {
      "image/png": "[encoded data removed]",
      "text/plain": [
       "<Figure size 1944x720 with 1 Axes>"
      ]
     },
     "metadata": {},
     "output_type": "display_data"
    }
   ],
   "source": [
    "plt.figure(figsize=(27,10))\n",
    "sns.barplot('Item_Type' ,'Item_Outlet_Sales', data=train ,palette='gist_rainbow_r')\n",
    "plt.xlabel('Item_Type', fontsize=14)\n",
    "plt.legend()\n",
    "plt.show()"
   ]
  },
  {
   "cell_type": "code",
   "execution_count": 213,
   "id": "c320f6e3",
   "metadata": {},
   "outputs": [
    {
     "name": "stderr",
     "output_type": "stream",
     "text": [
      "No handles with labels found to put in legend.\n"
     ]
    },
    {
     "data": {
      "image/png": "[encoded data removed]",
      "text/plain": [
       "<Figure size 1944x720 with 1 Axes>"
      ]
     },
     "metadata": {},
     "output_type": "display_data"
    }
   ],
   "source": [
    "plt.figure(figsize=(27,10))\n",
    "sns.barplot('Outlet_Identifier' ,'Item_Outlet_Sales', data=train ,palette='gist_rainbow')\n",
    "plt.xlabel('Outlet_Identifier', fontsize=14)\n",
    "plt.legend()\n",
    "plt.show()"
   ]
  },
  {
   "cell_type": "code",
   "execution_count": 214,
   "id": "bd3d494a",
   "metadata": {},
   "outputs": [
    {
     "name": "stderr",
     "output_type": "stream",
     "text": [
      "No handles with labels found to put in legend.\n"
     ]
    },
    {
     "data": {
      "image/png": "[encoded data removed]",
      "text/plain": [
       "<Figure size 720x360 with 1 Axes>"
      ]
     },
     "metadata": {},
     "output_type": "display_data"
    }
   ],
   "source": [
    "plt.figure(figsize=(10,5))\n",
    "sns.barplot('Outlet_Type' ,'Item_Outlet_Sales', data=train ,palette='nipy_spectral')\n",
    "plt.xlabel('Outlet_Type', fontsize=14)\n",
    "plt.legend()\n",
    "plt.show()"
   ]
  },
  {
   "cell_type": "code",
   "execution_count": 215,
   "id": "65cafb27",
   "metadata": {},
   "outputs": [
    {
     "name": "stderr",
     "output_type": "stream",
     "text": [
      "No handles with labels found to put in legend.\n"
     ]
    },
    {
     "data": {
      "image/png": "[encoded data removed]",
      "text/plain": [
       "<Figure size 720x360 with 1 Axes>"
      ]
     },
     "metadata": {},
     "output_type": "display_data"
    }
   ],
   "source": [
    "plt.figure(figsize=(10,5))\n",
    "sns.barplot('Outlet_Size' ,'Item_Outlet_Sales', data=train ,palette='YlOrRd')\n",
    "plt.xlabel('Outlet_Size', fontsize=14)\n",
    "plt.legend()\n",
    "plt.show()"
   ]
  },
  {
   "cell_type": "code",
   "execution_count": 216,
   "id": "7a5ffb58",
   "metadata": {},
   "outputs": [
    {
     "name": "stderr",
     "output_type": "stream",
     "text": [
      "No handles with labels found to put in legend.\n"
     ]
    },
    {
     "data": {
      "image/png": "[encoded data removed]",
      "text/plain": [
       "<Figure size 720x360 with 1 Axes>"
      ]
     },
     "metadata": {},
     "output_type": "display_data"
    }
   ],
   "source": [
    "plt.figure(figsize=(10,5))\n",
    "sns.barplot('Outlet_Location_Type' ,'Item_Outlet_Sales', data=train ,palette='Spectral')\n",
    "plt.xlabel('Outlet_Location_Type', fontsize=14)\n",
    "plt.legend()\n",
    "plt.show()"
   ]
  },
  {
   "cell_type": "markdown",
   "id": "35239b92",
   "metadata": {},
   "source": [
    "Realizations:\n",
    "-\n",
    "* The difference in item types by sales is very small.\n",
    "* Outlet 27 is the most profitable and there is a big diffrence between each specific outlet sales.\n",
    "* Suprisingly supermarket type 3 is the most profitable and not type 1.\n",
    "* Medium and high outlet sizes are pretty much even in sales.\n",
    "* Tier 2 and 3 are almost even being the highest in sales (2 is slightly larger). "
   ]
  },
  {
   "cell_type": "markdown",
   "id": "05406ae0",
   "metadata": {},
   "source": [
    "# correlation matrix"
   ]
  },
  {
   "cell_type": "code",
   "execution_count": 217,
   "id": "20b87523",
   "metadata": {},
   "outputs": [
    {
     "data": {
      "text/plain": [
       "<AxesSubplot:>"
      ]
     },
     "execution_count": 217,
     "metadata": {},
     "output_type": "execute_result"
    },
    {
     "data": {
      "image/png": "[encoded data removed]",
      "text/plain": [
       "<Figure size 432x288 with 2 Axes>"
      ]
     },
     "metadata": {},
     "output_type": "display_data"
    }
   ],
   "source": [
    "#plotting the correlation matrix\n",
    "sns.heatmap(train.corr() ,cmap='rocket')"
   ]
  },
  {
   "cell_type": "markdown",
   "id": "7dc71fd7",
   "metadata": {},
   "source": [
    "# Missing Values"
   ]
  },
  {
   "cell_type": "code",
   "execution_count": null,
   "id": "c123eac0",
   "metadata": {},
   "outputs": [],
   "source": []
  },
  {
   "cell_type": "code",
   "execution_count": 218,
   "id": "e9abd3ef",
   "metadata": {},
   "outputs": [
    {
     "data": {
      "text/plain": [
       "<AxesSubplot:>"
      ]
     },
     "execution_count": 218,
     "metadata": {},
     "output_type": "execute_result"
    },
    {
     "data": {
      "image/png": "[encoded data removed]",
      "text/plain": [
       "<Figure size 720x432 with 1 Axes>"
      ]
     },
     "metadata": {},
     "output_type": "display_data"
    }
   ],
   "source": [
    "plt.figure(figsize = (10,6))\n",
    "sns.heatmap(train.isnull(), yticklabels=False,cbar = False,cmap ='viridis')"
   ]
  },
  {
   "cell_type": "markdown",
   "id": "2a718900",
   "metadata": {},
   "source": [
    "### **Observation:**\n",
    "* Yes our dataset contain missing values.\n",
    "* Item_weight and Outlet_Size features contain missing values"
   ]
  },
  {
   "cell_type": "markdown",
   "id": "d571f661",
   "metadata": {},
   "source": [
    "* **Let's calculate the percentage of missing values**"
   ]
  },
  {
   "cell_type": "code",
   "execution_count": 219,
   "id": "8d935a8b",
   "metadata": {},
   "outputs": [],
   "source": [
    "def missing_percent():\n",
    "  miss_item_weight = (train['Item_Weight'].isnull().sum()/len(train))*100\n",
    "  miss_Outlet_Size = (train['Outlet_Size'].isnull().sum()/len(train))*100\n",
    "\n",
    "  print('% of missing values in Item_Weight: ' + str(miss_item_weight))\n",
    "  print('% of missing values in Outlet_Size: ' +str(miss_Outlet_Size))"
   ]
  },
  {
   "cell_type": "code",
   "execution_count": 220,
   "id": "3ab39035",
   "metadata": {},
   "outputs": [
    {
     "name": "stdout",
     "output_type": "stream",
     "text": [
      "% of missing values in Item_Weight: 17.165317376510618\n",
      "% of missing values in Outlet_Size: 28.27642848762173\n"
     ]
    }
   ],
   "source": [
    "missing_percent()"
   ]
  },
  {
   "cell_type": "markdown",
   "id": "88b5140c",
   "metadata": {},
   "source": [
    "### **Observations:**\n",
    "* Since the percentage of missing values is very high so we can't drop these values otherwise we can miss some important information. Only way is to handle the missing values using some technique.\n",
    "\n",
    "### **Things to invetigate:**\n",
    "* Do the missing values of Item weight have some relation with sales of the items or any other feature.\n",
    "* Do the missing values of Outlet size have some relation with any other feature.\n"
   ]
  },
  {
   "cell_type": "code",
   "execution_count": 221,
   "id": "5a67b0b1",
   "metadata": {},
   "outputs": [
    {
     "data": {
      "text/plain": [
       "<seaborn.axisgrid.FacetGrid at 0x1e09a462a30>"
      ]
     },
     "execution_count": 221,
     "metadata": {},
     "output_type": "execute_result"
    },
    {
     "data": {
      "image/png": "[encoded data removed]",
      "text/plain": [
       "<Figure size 786.35x360 with 1 Axes>"
      ]
     },
     "metadata": {},
     "output_type": "display_data"
    }
   ],
   "source": [
    "sns.displot(\n",
    "    data=train.isna().melt(value_name=\"missing\"),\n",
    "    y=\"variable\",\n",
    "    hue=\"missing\",\n",
    "    multiple=\"fill\",\n",
    "    aspect=2\n",
    ")"
   ]
  },
  {
   "cell_type": "markdown",
   "id": "5a7fdb3b",
   "metadata": {},
   "source": [
    "Fill Nan Values with median\n",
    "-\n"
   ]
  },
  {
   "cell_type": "code",
   "execution_count": 222,
   "id": "bb9ac004",
   "metadata": {},
   "outputs": [],
   "source": [
    "train[\"Item_Weight\"]=train[\"Item_Weight\"].fillna(train[\"Item_Weight\"].mean())"
   ]
  },
  {
   "cell_type": "code",
   "execution_count": 223,
   "id": "d2802407",
   "metadata": {},
   "outputs": [
    {
     "data": {
      "text/plain": [
       "<seaborn.axisgrid.FacetGrid at 0x1e09a482fd0>"
      ]
     },
     "execution_count": 223,
     "metadata": {},
     "output_type": "execute_result"
    },
    {
     "data": {
      "image/png": "[encoded data removed]",
      "text/plain": [
       "<Figure size 786.35x360 with 1 Axes>"
      ]
     },
     "metadata": {},
     "output_type": "display_data"
    }
   ],
   "source": [
    "sns.displot(\n",
    "    data=train.isna().melt(value_name=\"missing\"),\n",
    "    y=\"variable\",\n",
    "    hue=\"missing\",\n",
    "    multiple=\"fill\",\n",
    "    aspect=2\n",
    ")"
   ]
  },
  {
   "cell_type": "markdown",
   "id": "1899e837",
   "metadata": {},
   "source": [
    "Outlet_Size\n",
    "-\n",
    "`Outlet_Size` is a categorical column, therefore we will impute missing values with `Medium` the **mode value**"
   ]
  },
  {
   "cell_type": "code",
   "execution_count": 224,
   "id": "e83edb45",
   "metadata": {},
   "outputs": [
    {
     "name": "stdout",
     "output_type": "stream",
     "text": [
      "train mode ['Medium']\n"
     ]
    }
   ],
   "source": [
    "print(\"train mode\", [train['Outlet_Size'].mode().values[0]])\n",
    "       "
   ]
  },
  {
   "cell_type": "code",
   "execution_count": 225,
   "id": "9acba6bc",
   "metadata": {},
   "outputs": [
    {
     "data": {
      "text/plain": [
       "0"
      ]
     },
     "execution_count": 225,
     "metadata": {},
     "output_type": "execute_result"
    }
   ],
   "source": [
    "#train\n",
    "train['Outlet_Size'] = train['Outlet_Size'].fillna(\n",
    "train['Outlet_Size'].dropna().mode().values[0])\n",
    "\n",
    "#checking if we filled missing values\n",
    "train['Outlet_Size'].isnull().sum()"
   ]
  },
  {
   "cell_type": "code",
   "execution_count": 226,
   "id": "f387a67b",
   "metadata": {},
   "outputs": [
    {
     "data": {
      "text/plain": [
       "<seaborn.axisgrid.FacetGrid at 0x1e09a484e50>"
      ]
     },
     "execution_count": 226,
     "metadata": {},
     "output_type": "execute_result"
    },
    {
     "data": {
      "image/png": "[encoded data removed]",
      "text/plain": [
       "<Figure size 786.35x360 with 1 Axes>"
      ]
     },
     "metadata": {},
     "output_type": "display_data"
    }
   ],
   "source": [
    "sns.displot(\n",
    "    data=train.isna().melt(value_name=\"missing\"),\n",
    "    y=\"variable\",\n",
    "    hue=\"missing\",\n",
    "    multiple=\"fill\",\n",
    "    aspect=2\n",
    ")"
   ]
  },
  {
   "cell_type": "code",
   "execution_count": 227,
   "id": "06e4630a",
   "metadata": {},
   "outputs": [
    {
     "data": {
      "text/plain": [
       "Text(0.5, 1.0, 'Item_Weight Boxplot')"
      ]
     },
     "execution_count": 227,
     "metadata": {},
     "output_type": "execute_result"
    },
    {
     "data": {
      "image/png": "[encoded data removed]",
      "text/plain": [
       "<Figure size 432x288 with 1 Axes>"
      ]
     },
     "metadata": {},
     "output_type": "display_data"
    }
   ],
   "source": [
    "# I personally prefer a vertical view and a cyan color\n",
    "sns.boxplot(data=train['Item_Weight'],orient=\"v\", color = 'c')\n",
    "plt.title(\"Item_Weight Boxplot\")"
   ]
  },
  {
   "cell_type": "code",
   "execution_count": null,
   "id": "d6c86f96",
   "metadata": {},
   "outputs": [],
   "source": []
  },
  {
   "cell_type": "code",
   "execution_count": 228,
   "id": "a4015111",
   "metadata": {},
   "outputs": [
    {
     "data": {
      "text/plain": [
       "Item_Identifier              0\n",
       "Item_Weight                  0\n",
       "Item_Fat_Content             0\n",
       "Item_Visibility              0\n",
       "Item_Type                    0\n",
       "Item_MRP                     0\n",
       "Outlet_Identifier            0\n",
       "Outlet_Establishment_Year    0\n",
       "Outlet_Size                  0\n",
       "Outlet_Location_Type         0\n",
       "Outlet_Type                  0\n",
       "Item_Outlet_Sales            0\n",
       "Outlet_Age                   0\n",
       "dtype: int64"
      ]
     },
     "execution_count": 228,
     "metadata": {},
     "output_type": "execute_result"
    }
   ],
   "source": [
    "train.isnull().sum()"
   ]
  },
  {
   "cell_type": "markdown",
   "id": "332b3580",
   "metadata": {},
   "source": [
    "# Feature Engineering\n"
   ]
  },
  {
   "cell_type": "markdown",
   "id": "86db68eb",
   "metadata": {},
   "source": [
    "### Feature Engineering\n",
    "\n",
    "**Categorical values**:\n",
    "\n",
    "We have 7 columns we need to delete or encode.\n",
    "\n",
    "* Ordinal variables:\n",
    "    * `Item_Fat_Content`  \n",
    "    * `Outlet_Size`  \n",
    "    * `Outlet_Location_Type`\n",
    "    \n",
    "* Nominal variables:\n",
    "    * `Item_Identifier `  \n",
    "    * `Item_Type`\n",
    "    * `Outlet_Identifier`\n",
    "    * `Outlet_Type`\n",
    "\n",
    "**Numeric values**:\n",
    "\n",
    "* From the numeric variables `Outlet_Establishment_Year` is no longer needed\n",
    "\n",
    "**Conclusion:**\n",
    "\n",
    "In my FE process i have decided:\n",
    "\n",
    "1. The columns `Outlet_Establishment_Year`, `Item_Identifier ` and `Outlet_Identifier` don't have significant values so we will drop them.\n",
    "2. All Ordinal variables will be Label encoded.\n",
    "3. The columns `Outlet_Type` and `Item_Type`  will be One Hot encoded.\n",
    "\n"
   ]
  },
  {
   "cell_type": "code",
   "execution_count": 251,
   "id": "44c4438a",
   "metadata": {},
   "outputs": [],
   "source": [
    "# Dropping irrelevant columns\n",
    "\n",
    "train  = train.drop(['Item_Identifier'],axis=1)\n",
    "\n",
    "#te_fe = te_fe.drop(['Item_Identifier','Outlet_Identifier','Outlet_Establishment_Year','Outlet_Type','Item_Type'],axis=1)"
   ]
  },
  {
   "cell_type": "code",
   "execution_count": 255,
   "id": "534dd6c0",
   "metadata": {},
   "outputs": [],
   "source": [
    "train_data_num = train.select_dtypes(\"float64\")\n",
    "train_data_cat = train.select_dtypes(\"object\")\n"
   ]
  },
  {
   "cell_type": "code",
   "execution_count": 256,
   "id": "f7c32223",
   "metadata": {},
   "outputs": [
    {
     "data": {
      "text/html": [
       "<div>\n",
       "<style scoped>\n",
       "    .dataframe tbody tr th:only-of-type {\n",
       "        vertical-align: middle;\n",
       "    }\n",
       "\n",
       "    .dataframe tbody tr th {\n",
       "        vertical-align: top;\n",
       "    }\n",
       "\n",
       "    .dataframe thead th {\n",
       "        text-align: right;\n",
       "    }\n",
       "</style>\n",
       "<table border=\"1\" class=\"dataframe\">\n",
       "  <thead>\n",
       "    <tr style=\"text-align: right;\">\n",
       "      <th></th>\n",
       "      <th>Item_Weight</th>\n",
       "      <th>Item_Visibility</th>\n",
       "      <th>Item_MRP</th>\n",
       "      <th>Item_Outlet_Sales</th>\n",
       "    </tr>\n",
       "  </thead>\n",
       "  <tbody>\n",
       "    <tr>\n",
       "      <th>0</th>\n",
       "      <td>9.30</td>\n",
       "      <td>0.016047</td>\n",
       "      <td>249.8092</td>\n",
       "      <td>3735.1380</td>\n",
       "    </tr>\n",
       "    <tr>\n",
       "      <th>1</th>\n",
       "      <td>5.92</td>\n",
       "      <td>0.019278</td>\n",
       "      <td>48.2692</td>\n",
       "      <td>443.4228</td>\n",
       "    </tr>\n",
       "  </tbody>\n",
       "</table>\n",
       "</div>"
      ],
      "text/plain": [
       "   Item_Weight  Item_Visibility  Item_MRP  Item_Outlet_Sales\n",
       "0         9.30         0.016047  249.8092          3735.1380\n",
       "1         5.92         0.019278   48.2692           443.4228"
      ]
     },
     "execution_count": 256,
     "metadata": {},
     "output_type": "execute_result"
    }
   ],
   "source": [
    "train_data_num.head(2)"
   ]
  },
  {
   "cell_type": "code",
   "execution_count": 257,
   "id": "1ad78575",
   "metadata": {},
   "outputs": [
    {
     "data": {
      "text/html": [
       "<div>\n",
       "<style scoped>\n",
       "    .dataframe tbody tr th:only-of-type {\n",
       "        vertical-align: middle;\n",
       "    }\n",
       "\n",
       "    .dataframe tbody tr th {\n",
       "        vertical-align: top;\n",
       "    }\n",
       "\n",
       "    .dataframe thead th {\n",
       "        text-align: right;\n",
       "    }\n",
       "</style>\n",
       "<table border=\"1\" class=\"dataframe\">\n",
       "  <thead>\n",
       "    <tr style=\"text-align: right;\">\n",
       "      <th></th>\n",
       "      <th>Item_Fat_Content</th>\n",
       "      <th>Item_Type</th>\n",
       "      <th>Outlet_Identifier</th>\n",
       "      <th>Outlet_Size</th>\n",
       "      <th>Outlet_Location_Type</th>\n",
       "      <th>Outlet_Type</th>\n",
       "    </tr>\n",
       "  </thead>\n",
       "  <tbody>\n",
       "    <tr>\n",
       "      <th>0</th>\n",
       "      <td>Low Fat</td>\n",
       "      <td>Dairy</td>\n",
       "      <td>OUT049</td>\n",
       "      <td>Medium</td>\n",
       "      <td>Tier 1</td>\n",
       "      <td>Supermarket Type1</td>\n",
       "    </tr>\n",
       "    <tr>\n",
       "      <th>1</th>\n",
       "      <td>Regular</td>\n",
       "      <td>Soft Drinks</td>\n",
       "      <td>OUT018</td>\n",
       "      <td>Medium</td>\n",
       "      <td>Tier 3</td>\n",
       "      <td>Supermarket Type2</td>\n",
       "    </tr>\n",
       "  </tbody>\n",
       "</table>\n",
       "</div>"
      ],
      "text/plain": [
       "  Item_Fat_Content    Item_Type Outlet_Identifier Outlet_Size  \\\n",
       "0          Low Fat        Dairy            OUT049      Medium   \n",
       "1          Regular  Soft Drinks            OUT018      Medium   \n",
       "\n",
       "  Outlet_Location_Type        Outlet_Type  \n",
       "0               Tier 1  Supermarket Type1  \n",
       "1               Tier 3  Supermarket Type2  "
      ]
     },
     "execution_count": 257,
     "metadata": {},
     "output_type": "execute_result"
    }
   ],
   "source": [
    "train_data_cat.head(2)"
   ]
  },
  {
   "cell_type": "code",
   "execution_count": 258,
   "id": "e7acf388",
   "metadata": {},
   "outputs": [
    {
     "data": {
      "text/plain": [
       "(8523, 6)"
      ]
     },
     "execution_count": 258,
     "metadata": {},
     "output_type": "execute_result"
    }
   ],
   "source": [
    "train_data_cat.shape"
   ]
  },
  {
   "cell_type": "markdown",
   "id": "b71ba03d",
   "metadata": {},
   "source": [
    "# Categorical encoding"
   ]
  },
  {
   "cell_type": "markdown",
   "id": "5e8c8e37",
   "metadata": {},
   "source": [
    "Dropping Irrelevant Columns\n",
    "-\n"
   ]
  },
  {
   "cell_type": "code",
   "execution_count": 260,
   "id": "d4c73251",
   "metadata": {},
   "outputs": [
    {
     "data": {
      "text/html": [
       "<div>\n",
       "<style scoped>\n",
       "    .dataframe tbody tr th:only-of-type {\n",
       "        vertical-align: middle;\n",
       "    }\n",
       "\n",
       "    .dataframe tbody tr th {\n",
       "        vertical-align: top;\n",
       "    }\n",
       "\n",
       "    .dataframe thead th {\n",
       "        text-align: right;\n",
       "    }\n",
       "</style>\n",
       "<table border=\"1\" class=\"dataframe\">\n",
       "  <thead>\n",
       "    <tr style=\"text-align: right;\">\n",
       "      <th></th>\n",
       "      <th>Item_Fat_Content_Low Fat</th>\n",
       "      <th>Item_Fat_Content_Regular</th>\n",
       "      <th>Item_Type_Baking Goods</th>\n",
       "      <th>Item_Type_Breads</th>\n",
       "      <th>Item_Type_Breakfast</th>\n",
       "      <th>Item_Type_Canned</th>\n",
       "      <th>Item_Type_Dairy</th>\n",
       "      <th>Item_Type_Frozen Foods</th>\n",
       "      <th>Item_Type_Fruits and Vegetables</th>\n",
       "      <th>Item_Type_Hard Drinks</th>\n",
       "      <th>...</th>\n",
       "      <th>Outlet_Size_High</th>\n",
       "      <th>Outlet_Size_Medium</th>\n",
       "      <th>Outlet_Size_Small</th>\n",
       "      <th>Outlet_Location_Type_Tier 1</th>\n",
       "      <th>Outlet_Location_Type_Tier 2</th>\n",
       "      <th>Outlet_Location_Type_Tier 3</th>\n",
       "      <th>Outlet_Type_Grocery Store</th>\n",
       "      <th>Outlet_Type_Supermarket Type1</th>\n",
       "      <th>Outlet_Type_Supermarket Type2</th>\n",
       "      <th>Outlet_Type_Supermarket Type3</th>\n",
       "    </tr>\n",
       "  </thead>\n",
       "  <tbody>\n",
       "    <tr>\n",
       "      <th>0</th>\n",
       "      <td>1</td>\n",
       "      <td>0</td>\n",
       "      <td>0</td>\n",
       "      <td>0</td>\n",
       "      <td>0</td>\n",
       "      <td>0</td>\n",
       "      <td>1</td>\n",
       "      <td>0</td>\n",
       "      <td>0</td>\n",
       "      <td>0</td>\n",
       "      <td>...</td>\n",
       "      <td>0</td>\n",
       "      <td>1</td>\n",
       "      <td>0</td>\n",
       "      <td>1</td>\n",
       "      <td>0</td>\n",
       "      <td>0</td>\n",
       "      <td>0</td>\n",
       "      <td>1</td>\n",
       "      <td>0</td>\n",
       "      <td>0</td>\n",
       "    </tr>\n",
       "    <tr>\n",
       "      <th>1</th>\n",
       "      <td>0</td>\n",
       "      <td>1</td>\n",
       "      <td>0</td>\n",
       "      <td>0</td>\n",
       "      <td>0</td>\n",
       "      <td>0</td>\n",
       "      <td>0</td>\n",
       "      <td>0</td>\n",
       "      <td>0</td>\n",
       "      <td>0</td>\n",
       "      <td>...</td>\n",
       "      <td>0</td>\n",
       "      <td>1</td>\n",
       "      <td>0</td>\n",
       "      <td>0</td>\n",
       "      <td>0</td>\n",
       "      <td>1</td>\n",
       "      <td>0</td>\n",
       "      <td>0</td>\n",
       "      <td>1</td>\n",
       "      <td>0</td>\n",
       "    </tr>\n",
       "    <tr>\n",
       "      <th>2</th>\n",
       "      <td>1</td>\n",
       "      <td>0</td>\n",
       "      <td>0</td>\n",
       "      <td>0</td>\n",
       "      <td>0</td>\n",
       "      <td>0</td>\n",
       "      <td>0</td>\n",
       "      <td>0</td>\n",
       "      <td>0</td>\n",
       "      <td>0</td>\n",
       "      <td>...</td>\n",
       "      <td>0</td>\n",
       "      <td>1</td>\n",
       "      <td>0</td>\n",
       "      <td>1</td>\n",
       "      <td>0</td>\n",
       "      <td>0</td>\n",
       "      <td>0</td>\n",
       "      <td>1</td>\n",
       "      <td>0</td>\n",
       "      <td>0</td>\n",
       "    </tr>\n",
       "    <tr>\n",
       "      <th>3</th>\n",
       "      <td>0</td>\n",
       "      <td>1</td>\n",
       "      <td>0</td>\n",
       "      <td>0</td>\n",
       "      <td>0</td>\n",
       "      <td>0</td>\n",
       "      <td>0</td>\n",
       "      <td>0</td>\n",
       "      <td>1</td>\n",
       "      <td>0</td>\n",
       "      <td>...</td>\n",
       "      <td>0</td>\n",
       "      <td>1</td>\n",
       "      <td>0</td>\n",
       "      <td>0</td>\n",
       "      <td>0</td>\n",
       "      <td>1</td>\n",
       "      <td>1</td>\n",
       "      <td>0</td>\n",
       "      <td>0</td>\n",
       "      <td>0</td>\n",
       "    </tr>\n",
       "    <tr>\n",
       "      <th>4</th>\n",
       "      <td>1</td>\n",
       "      <td>0</td>\n",
       "      <td>0</td>\n",
       "      <td>0</td>\n",
       "      <td>0</td>\n",
       "      <td>0</td>\n",
       "      <td>0</td>\n",
       "      <td>0</td>\n",
       "      <td>0</td>\n",
       "      <td>0</td>\n",
       "      <td>...</td>\n",
       "      <td>1</td>\n",
       "      <td>0</td>\n",
       "      <td>0</td>\n",
       "      <td>0</td>\n",
       "      <td>0</td>\n",
       "      <td>1</td>\n",
       "      <td>0</td>\n",
       "      <td>1</td>\n",
       "      <td>0</td>\n",
       "      <td>0</td>\n",
       "    </tr>\n",
       "  </tbody>\n",
       "</table>\n",
       "<p>5 rows × 38 columns</p>\n",
       "</div>"
      ],
      "text/plain": [
       "   Item_Fat_Content_Low Fat  Item_Fat_Content_Regular  Item_Type_Baking Goods  \\\n",
       "0                         1                         0                       0   \n",
       "1                         0                         1                       0   \n",
       "2                         1                         0                       0   \n",
       "3                         0                         1                       0   \n",
       "4                         1                         0                       0   \n",
       "\n",
       "   Item_Type_Breads  Item_Type_Breakfast  Item_Type_Canned  Item_Type_Dairy  \\\n",
       "0                 0                    0                 0                1   \n",
       "1                 0                    0                 0                0   \n",
       "2                 0                    0                 0                0   \n",
       "3                 0                    0                 0                0   \n",
       "4                 0                    0                 0                0   \n",
       "\n",
       "   Item_Type_Frozen Foods  Item_Type_Fruits and Vegetables  \\\n",
       "0                       0                                0   \n",
       "1                       0                                0   \n",
       "2                       0                                0   \n",
       "3                       0                                1   \n",
       "4                       0                                0   \n",
       "\n",
       "   Item_Type_Hard Drinks  ...  Outlet_Size_High  Outlet_Size_Medium  \\\n",
       "0                      0  ...                 0                   1   \n",
       "1                      0  ...                 0                   1   \n",
       "2                      0  ...                 0                   1   \n",
       "3                      0  ...                 0                   1   \n",
       "4                      0  ...                 1                   0   \n",
       "\n",
       "   Outlet_Size_Small  Outlet_Location_Type_Tier 1  \\\n",
       "0                  0                            1   \n",
       "1                  0                            0   \n",
       "2                  0                            1   \n",
       "3                  0                            0   \n",
       "4                  0                            0   \n",
       "\n",
       "   Outlet_Location_Type_Tier 2  Outlet_Location_Type_Tier 3  \\\n",
       "0                            0                            0   \n",
       "1                            0                            1   \n",
       "2                            0                            0   \n",
       "3                            0                            1   \n",
       "4                            0                            1   \n",
       "\n",
       "   Outlet_Type_Grocery Store  Outlet_Type_Supermarket Type1  \\\n",
       "0                          0                              1   \n",
       "1                          0                              0   \n",
       "2                          0                              1   \n",
       "3                          1                              0   \n",
       "4                          0                              1   \n",
       "\n",
       "   Outlet_Type_Supermarket Type2  Outlet_Type_Supermarket Type3  \n",
       "0                              0                              0  \n",
       "1                              1                              0  \n",
       "2                              0                              0  \n",
       "3                              0                              0  \n",
       "4                              0                              0  \n",
       "\n",
       "[5 rows x 38 columns]"
      ]
     },
     "execution_count": 260,
     "metadata": {},
     "output_type": "execute_result"
    }
   ],
   "source": [
    "train_data_cata_encoded=pd.get_dummies(train_data_cat, columns=train_data_cat.columns.to_list())\n",
    "train_data_cata_encoded.head()"
   ]
  },
  {
   "cell_type": "markdown",
   "id": "440aa489",
   "metadata": {},
   "source": [
    "# Concatenate Data"
   ]
  },
  {
   "cell_type": "code",
   "execution_count": 261,
   "id": "bd72ef8a",
   "metadata": {},
   "outputs": [
    {
     "data": {
      "text/html": [
       "<div>\n",
       "<style scoped>\n",
       "    .dataframe tbody tr th:only-of-type {\n",
       "        vertical-align: middle;\n",
       "    }\n",
       "\n",
       "    .dataframe tbody tr th {\n",
       "        vertical-align: top;\n",
       "    }\n",
       "\n",
       "    .dataframe thead th {\n",
       "        text-align: right;\n",
       "    }\n",
       "</style>\n",
       "<table border=\"1\" class=\"dataframe\">\n",
       "  <thead>\n",
       "    <tr style=\"text-align: right;\">\n",
       "      <th></th>\n",
       "      <th>Item_Fat_Content_Low Fat</th>\n",
       "      <th>Item_Fat_Content_Regular</th>\n",
       "      <th>Item_Type_Baking Goods</th>\n",
       "      <th>Item_Type_Breads</th>\n",
       "      <th>Item_Type_Breakfast</th>\n",
       "      <th>Item_Type_Canned</th>\n",
       "      <th>Item_Type_Dairy</th>\n",
       "      <th>Item_Type_Frozen Foods</th>\n",
       "      <th>Item_Type_Fruits and Vegetables</th>\n",
       "      <th>Item_Type_Hard Drinks</th>\n",
       "      <th>...</th>\n",
       "      <th>Outlet_Location_Type_Tier 2</th>\n",
       "      <th>Outlet_Location_Type_Tier 3</th>\n",
       "      <th>Outlet_Type_Grocery Store</th>\n",
       "      <th>Outlet_Type_Supermarket Type1</th>\n",
       "      <th>Outlet_Type_Supermarket Type2</th>\n",
       "      <th>Outlet_Type_Supermarket Type3</th>\n",
       "      <th>Item_Weight</th>\n",
       "      <th>Item_Visibility</th>\n",
       "      <th>Item_MRP</th>\n",
       "      <th>Item_Outlet_Sales</th>\n",
       "    </tr>\n",
       "  </thead>\n",
       "  <tbody>\n",
       "    <tr>\n",
       "      <th>0</th>\n",
       "      <td>1</td>\n",
       "      <td>0</td>\n",
       "      <td>0</td>\n",
       "      <td>0</td>\n",
       "      <td>0</td>\n",
       "      <td>0</td>\n",
       "      <td>1</td>\n",
       "      <td>0</td>\n",
       "      <td>0</td>\n",
       "      <td>0</td>\n",
       "      <td>...</td>\n",
       "      <td>0</td>\n",
       "      <td>0</td>\n",
       "      <td>0</td>\n",
       "      <td>1</td>\n",
       "      <td>0</td>\n",
       "      <td>0</td>\n",
       "      <td>9.30</td>\n",
       "      <td>0.016047</td>\n",
       "      <td>249.8092</td>\n",
       "      <td>3735.1380</td>\n",
       "    </tr>\n",
       "    <tr>\n",
       "      <th>1</th>\n",
       "      <td>0</td>\n",
       "      <td>1</td>\n",
       "      <td>0</td>\n",
       "      <td>0</td>\n",
       "      <td>0</td>\n",
       "      <td>0</td>\n",
       "      <td>0</td>\n",
       "      <td>0</td>\n",
       "      <td>0</td>\n",
       "      <td>0</td>\n",
       "      <td>...</td>\n",
       "      <td>0</td>\n",
       "      <td>1</td>\n",
       "      <td>0</td>\n",
       "      <td>0</td>\n",
       "      <td>1</td>\n",
       "      <td>0</td>\n",
       "      <td>5.92</td>\n",
       "      <td>0.019278</td>\n",
       "      <td>48.2692</td>\n",
       "      <td>443.4228</td>\n",
       "    </tr>\n",
       "    <tr>\n",
       "      <th>2</th>\n",
       "      <td>1</td>\n",
       "      <td>0</td>\n",
       "      <td>0</td>\n",
       "      <td>0</td>\n",
       "      <td>0</td>\n",
       "      <td>0</td>\n",
       "      <td>0</td>\n",
       "      <td>0</td>\n",
       "      <td>0</td>\n",
       "      <td>0</td>\n",
       "      <td>...</td>\n",
       "      <td>0</td>\n",
       "      <td>0</td>\n",
       "      <td>0</td>\n",
       "      <td>1</td>\n",
       "      <td>0</td>\n",
       "      <td>0</td>\n",
       "      <td>17.50</td>\n",
       "      <td>0.016760</td>\n",
       "      <td>141.6180</td>\n",
       "      <td>2097.2700</td>\n",
       "    </tr>\n",
       "    <tr>\n",
       "      <th>3</th>\n",
       "      <td>0</td>\n",
       "      <td>1</td>\n",
       "      <td>0</td>\n",
       "      <td>0</td>\n",
       "      <td>0</td>\n",
       "      <td>0</td>\n",
       "      <td>0</td>\n",
       "      <td>0</td>\n",
       "      <td>1</td>\n",
       "      <td>0</td>\n",
       "      <td>...</td>\n",
       "      <td>0</td>\n",
       "      <td>1</td>\n",
       "      <td>1</td>\n",
       "      <td>0</td>\n",
       "      <td>0</td>\n",
       "      <td>0</td>\n",
       "      <td>19.20</td>\n",
       "      <td>0.000000</td>\n",
       "      <td>182.0950</td>\n",
       "      <td>732.3800</td>\n",
       "    </tr>\n",
       "    <tr>\n",
       "      <th>4</th>\n",
       "      <td>1</td>\n",
       "      <td>0</td>\n",
       "      <td>0</td>\n",
       "      <td>0</td>\n",
       "      <td>0</td>\n",
       "      <td>0</td>\n",
       "      <td>0</td>\n",
       "      <td>0</td>\n",
       "      <td>0</td>\n",
       "      <td>0</td>\n",
       "      <td>...</td>\n",
       "      <td>0</td>\n",
       "      <td>1</td>\n",
       "      <td>0</td>\n",
       "      <td>1</td>\n",
       "      <td>0</td>\n",
       "      <td>0</td>\n",
       "      <td>8.93</td>\n",
       "      <td>0.000000</td>\n",
       "      <td>53.8614</td>\n",
       "      <td>994.7052</td>\n",
       "    </tr>\n",
       "  </tbody>\n",
       "</table>\n",
       "<p>5 rows × 42 columns</p>\n",
       "</div>"
      ],
      "text/plain": [
       "   Item_Fat_Content_Low Fat  Item_Fat_Content_Regular  Item_Type_Baking Goods  \\\n",
       "0                         1                         0                       0   \n",
       "1                         0                         1                       0   \n",
       "2                         1                         0                       0   \n",
       "3                         0                         1                       0   \n",
       "4                         1                         0                       0   \n",
       "\n",
       "   Item_Type_Breads  Item_Type_Breakfast  Item_Type_Canned  Item_Type_Dairy  \\\n",
       "0                 0                    0                 0                1   \n",
       "1                 0                    0                 0                0   \n",
       "2                 0                    0                 0                0   \n",
       "3                 0                    0                 0                0   \n",
       "4                 0                    0                 0                0   \n",
       "\n",
       "   Item_Type_Frozen Foods  Item_Type_Fruits and Vegetables  \\\n",
       "0                       0                                0   \n",
       "1                       0                                0   \n",
       "2                       0                                0   \n",
       "3                       0                                1   \n",
       "4                       0                                0   \n",
       "\n",
       "   Item_Type_Hard Drinks  ...  Outlet_Location_Type_Tier 2  \\\n",
       "0                      0  ...                            0   \n",
       "1                      0  ...                            0   \n",
       "2                      0  ...                            0   \n",
       "3                      0  ...                            0   \n",
       "4                      0  ...                            0   \n",
       "\n",
       "   Outlet_Location_Type_Tier 3  Outlet_Type_Grocery Store  \\\n",
       "0                            0                          0   \n",
       "1                            1                          0   \n",
       "2                            0                          0   \n",
       "3                            1                          1   \n",
       "4                            1                          0   \n",
       "\n",
       "   Outlet_Type_Supermarket Type1  Outlet_Type_Supermarket Type2  \\\n",
       "0                              1                              0   \n",
       "1                              0                              1   \n",
       "2                              1                              0   \n",
       "3                              0                              0   \n",
       "4                              1                              0   \n",
       "\n",
       "   Outlet_Type_Supermarket Type3  Item_Weight  Item_Visibility  Item_MRP  \\\n",
       "0                              0         9.30         0.016047  249.8092   \n",
       "1                              0         5.92         0.019278   48.2692   \n",
       "2                              0        17.50         0.016760  141.6180   \n",
       "3                              0        19.20         0.000000  182.0950   \n",
       "4                              0         8.93         0.000000   53.8614   \n",
       "\n",
       "   Item_Outlet_Sales  \n",
       "0          3735.1380  \n",
       "1           443.4228  \n",
       "2          2097.2700  \n",
       "3           732.3800  \n",
       "4           994.7052  \n",
       "\n",
       "[5 rows x 42 columns]"
      ]
     },
     "execution_count": 261,
     "metadata": {},
     "output_type": "execute_result"
    }
   ],
   "source": [
    "data=pd.concat([train_data_cata_encoded,train_data_num],axis=1,join=\"outer\")\n",
    "data.head()"
   ]
  },
  {
   "cell_type": "code",
   "execution_count": 262,
   "id": "aeba7753",
   "metadata": {},
   "outputs": [
    {
     "data": {
      "text/plain": [
       "Index(['Item_Fat_Content_Low Fat', 'Item_Fat_Content_Regular',\n",
       "       'Item_Type_Baking Goods', 'Item_Type_Breads', 'Item_Type_Breakfast',\n",
       "       'Item_Type_Canned', 'Item_Type_Dairy', 'Item_Type_Frozen Foods',\n",
       "       'Item_Type_Fruits and Vegetables', 'Item_Type_Hard Drinks',\n",
       "       'Item_Type_Health and Hygiene', 'Item_Type_Household', 'Item_Type_Meat',\n",
       "       'Item_Type_Others', 'Item_Type_Seafood', 'Item_Type_Snack Foods',\n",
       "       'Item_Type_Soft Drinks', 'Item_Type_Starchy Foods',\n",
       "       'Outlet_Identifier_OUT010', 'Outlet_Identifier_OUT013',\n",
       "       'Outlet_Identifier_OUT017', 'Outlet_Identifier_OUT018',\n",
       "       'Outlet_Identifier_OUT019', 'Outlet_Identifier_OUT027',\n",
       "       'Outlet_Identifier_OUT035', 'Outlet_Identifier_OUT045',\n",
       "       'Outlet_Identifier_OUT046', 'Outlet_Identifier_OUT049',\n",
       "       'Outlet_Size_High', 'Outlet_Size_Medium', 'Outlet_Size_Small',\n",
       "       'Outlet_Location_Type_Tier 1', 'Outlet_Location_Type_Tier 2',\n",
       "       'Outlet_Location_Type_Tier 3', 'Outlet_Type_Grocery Store',\n",
       "       'Outlet_Type_Supermarket Type1', 'Outlet_Type_Supermarket Type2',\n",
       "       'Outlet_Type_Supermarket Type3', 'Item_Weight', 'Item_Visibility',\n",
       "       'Item_MRP', 'Item_Outlet_Sales'],\n",
       "      dtype='object')"
      ]
     },
     "execution_count": 262,
     "metadata": {},
     "output_type": "execute_result"
    }
   ],
   "source": [
    "data.columns"
   ]
  },
  {
   "cell_type": "markdown",
   "id": "3255f6fa",
   "metadata": {},
   "source": [
    "# Buid Models"
   ]
  },
  {
   "cell_type": "code",
   "execution_count": 264,
   "id": "131072dd",
   "metadata": {},
   "outputs": [
    {
     "data": {
      "text/plain": [
       "(8523, 42)"
      ]
     },
     "execution_count": 264,
     "metadata": {},
     "output_type": "execute_result"
    }
   ],
   "source": [
    "data.shape"
   ]
  },
  {
   "cell_type": "code",
   "execution_count": 268,
   "id": "a2257653",
   "metadata": {},
   "outputs": [],
   "source": [
    "y = data['Item_Outlet_Sales']\n",
    "x = data.drop('Item_Outlet_Sales', axis = 1)"
   ]
  },
  {
   "cell_type": "code",
   "execution_count": 269,
   "id": "c32d0e69",
   "metadata": {},
   "outputs": [
    {
     "name": "stdout",
     "output_type": "stream",
     "text": [
      "(8523, 41)\n",
      "(8523,)\n"
     ]
    }
   ],
   "source": [
    "print(x.shape)\n",
    "print(y.shape)"
   ]
  },
  {
   "cell_type": "code",
   "execution_count": 270,
   "id": "f061a533",
   "metadata": {},
   "outputs": [
    {
     "data": {
      "text/html": [
       "<div>\n",
       "<style scoped>\n",
       "    .dataframe tbody tr th:only-of-type {\n",
       "        vertical-align: middle;\n",
       "    }\n",
       "\n",
       "    .dataframe tbody tr th {\n",
       "        vertical-align: top;\n",
       "    }\n",
       "\n",
       "    .dataframe thead th {\n",
       "        text-align: right;\n",
       "    }\n",
       "</style>\n",
       "<table border=\"1\" class=\"dataframe\">\n",
       "  <thead>\n",
       "    <tr style=\"text-align: right;\">\n",
       "      <th></th>\n",
       "      <th>Item_Fat_Content_Low Fat</th>\n",
       "      <th>Item_Fat_Content_Regular</th>\n",
       "      <th>Item_Type_Baking Goods</th>\n",
       "      <th>Item_Type_Breads</th>\n",
       "      <th>Item_Type_Breakfast</th>\n",
       "      <th>Item_Type_Canned</th>\n",
       "      <th>Item_Type_Dairy</th>\n",
       "      <th>Item_Type_Frozen Foods</th>\n",
       "      <th>Item_Type_Fruits and Vegetables</th>\n",
       "      <th>Item_Type_Hard Drinks</th>\n",
       "      <th>...</th>\n",
       "      <th>Outlet_Location_Type_Tier 1</th>\n",
       "      <th>Outlet_Location_Type_Tier 2</th>\n",
       "      <th>Outlet_Location_Type_Tier 3</th>\n",
       "      <th>Outlet_Type_Grocery Store</th>\n",
       "      <th>Outlet_Type_Supermarket Type1</th>\n",
       "      <th>Outlet_Type_Supermarket Type2</th>\n",
       "      <th>Outlet_Type_Supermarket Type3</th>\n",
       "      <th>Item_Weight</th>\n",
       "      <th>Item_Visibility</th>\n",
       "      <th>Item_MRP</th>\n",
       "    </tr>\n",
       "  </thead>\n",
       "  <tbody>\n",
       "    <tr>\n",
       "      <th>0</th>\n",
       "      <td>1</td>\n",
       "      <td>0</td>\n",
       "      <td>0</td>\n",
       "      <td>0</td>\n",
       "      <td>0</td>\n",
       "      <td>0</td>\n",
       "      <td>1</td>\n",
       "      <td>0</td>\n",
       "      <td>0</td>\n",
       "      <td>0</td>\n",
       "      <td>...</td>\n",
       "      <td>1</td>\n",
       "      <td>0</td>\n",
       "      <td>0</td>\n",
       "      <td>0</td>\n",
       "      <td>1</td>\n",
       "      <td>0</td>\n",
       "      <td>0</td>\n",
       "      <td>9.30</td>\n",
       "      <td>0.016047</td>\n",
       "      <td>249.8092</td>\n",
       "    </tr>\n",
       "    <tr>\n",
       "      <th>1</th>\n",
       "      <td>0</td>\n",
       "      <td>1</td>\n",
       "      <td>0</td>\n",
       "      <td>0</td>\n",
       "      <td>0</td>\n",
       "      <td>0</td>\n",
       "      <td>0</td>\n",
       "      <td>0</td>\n",
       "      <td>0</td>\n",
       "      <td>0</td>\n",
       "      <td>...</td>\n",
       "      <td>0</td>\n",
       "      <td>0</td>\n",
       "      <td>1</td>\n",
       "      <td>0</td>\n",
       "      <td>0</td>\n",
       "      <td>1</td>\n",
       "      <td>0</td>\n",
       "      <td>5.92</td>\n",
       "      <td>0.019278</td>\n",
       "      <td>48.2692</td>\n",
       "    </tr>\n",
       "  </tbody>\n",
       "</table>\n",
       "<p>2 rows × 41 columns</p>\n",
       "</div>"
      ],
      "text/plain": [
       "   Item_Fat_Content_Low Fat  Item_Fat_Content_Regular  Item_Type_Baking Goods  \\\n",
       "0                         1                         0                       0   \n",
       "1                         0                         1                       0   \n",
       "\n",
       "   Item_Type_Breads  Item_Type_Breakfast  Item_Type_Canned  Item_Type_Dairy  \\\n",
       "0                 0                    0                 0                1   \n",
       "1                 0                    0                 0                0   \n",
       "\n",
       "   Item_Type_Frozen Foods  Item_Type_Fruits and Vegetables  \\\n",
       "0                       0                                0   \n",
       "1                       0                                0   \n",
       "\n",
       "   Item_Type_Hard Drinks  ...  Outlet_Location_Type_Tier 1  \\\n",
       "0                      0  ...                            1   \n",
       "1                      0  ...                            0   \n",
       "\n",
       "   Outlet_Location_Type_Tier 2  Outlet_Location_Type_Tier 3  \\\n",
       "0                            0                            0   \n",
       "1                            0                            1   \n",
       "\n",
       "   Outlet_Type_Grocery Store  Outlet_Type_Supermarket Type1  \\\n",
       "0                          0                              1   \n",
       "1                          0                              0   \n",
       "\n",
       "   Outlet_Type_Supermarket Type2  Outlet_Type_Supermarket Type3  Item_Weight  \\\n",
       "0                              0                              0         9.30   \n",
       "1                              1                              0         5.92   \n",
       "\n",
       "   Item_Visibility  Item_MRP  \n",
       "0         0.016047  249.8092  \n",
       "1         0.019278   48.2692  \n",
       "\n",
       "[2 rows x 41 columns]"
      ]
     },
     "execution_count": 270,
     "metadata": {},
     "output_type": "execute_result"
    }
   ],
   "source": [
    "x.head(2)"
   ]
  },
  {
   "cell_type": "code",
   "execution_count": 272,
   "id": "3f796670",
   "metadata": {},
   "outputs": [
    {
     "data": {
      "text/plain": [
       "0    3735.1380\n",
       "1     443.4228\n",
       "2    2097.2700\n",
       "3     732.3800\n",
       "4     994.7052\n",
       "Name: Item_Outlet_Sales, dtype: float64"
      ]
     },
     "execution_count": 272,
     "metadata": {},
     "output_type": "execute_result"
    }
   ],
   "source": [
    "y.head(5)"
   ]
  },
  {
   "cell_type": "code",
   "execution_count": 273,
   "id": "212ab07b",
   "metadata": {},
   "outputs": [],
   "source": [
    "X_train, X_test, y_train, y_test = train_test_split(X, y, test_size = 0.3, random_state = 0)"
   ]
  },
  {
   "cell_type": "code",
   "execution_count": 274,
   "id": "42ecd9b0",
   "metadata": {},
   "outputs": [],
   "source": [
    "def cross_val(model_name,model,X,y,cv):\n",
    "    \n",
    "    scores = CVS(model, X, y, cv=cv)\n",
    "    print(f'{model_name} Scores:')\n",
    "    for i in scores:\n",
    "        print(round(i,2))\n",
    "    print(f'Average {model_name} score: {round(scores.mean(),4)}')"
   ]
  },
  {
   "cell_type": "markdown",
   "id": "3a2060d0",
   "metadata": {},
   "source": [
    "# Linear Regression"
   ]
  },
  {
   "cell_type": "code",
   "execution_count": 281,
   "id": "56607165",
   "metadata": {},
   "outputs": [],
   "source": [
    "from sklearn.linear_model import LinearRegression\n",
    "from sklearn import metrics"
   ]
  },
  {
   "cell_type": "markdown",
   "id": "d787d5ff",
   "metadata": {},
   "source": [
    "## Linear Regression\n",
    "\n",
    "![](https://cdn.filestackcontent.com/WCbMsxiSLW2H1SyqunQm)\n",
    "\n",
    "In statistics, linear regression is a linear approach to modelling the relationship between a scalar response (or dependent variable) and one or more explanatory variables (or independent variables).\n",
    "\n",
    "Linear regression was the first type of regression analysis to be studied rigorously, and to be used extensively in practical applications. This is because models which depend linearly on their unknown parameters are easier to fit than models which are non-linearly related to their parameters and because the statistical properties of the resulting estimators are easier to determine.\n"
   ]
  },
  {
   "cell_type": "code",
   "execution_count": 282,
   "id": "74490d36",
   "metadata": {},
   "outputs": [
    {
     "name": "stdout",
     "output_type": "stream",
     "text": [
      " Mean Absolute Error: 861.71\n",
      "\n",
      " Mean Squared Error: 1333256.85\n",
      "\n",
      " R^2 Score: 0.5622\n",
      "\n",
      "LinearRegression(normalize=True) Scores:\n",
      "0.57\n",
      "0.55\n",
      "0.55\n",
      "0.56\n",
      "0.56\n",
      "Average LinearRegression(normalize=True) score: 0.5589\n"
     ]
    }
   ],
   "source": [
    "#model\n",
    "LR = LinearRegression(normalize=True)\n",
    "\n",
    "#fit\n",
    "LR.fit(X_train, y_train)\n",
    "\n",
    "#predict\n",
    "y_predict = LR.predict(X_test)\n",
    "\n",
    "#score variables\n",
    "LR_MAE = round(MAE(y_test, y_predict),2)\n",
    "LR_MSE = round(MSE(y_test, y_predict),2)\n",
    "LR_R_2 = round(R2(y_test, y_predict),4)\n",
    "LR_CS  = round(CVS(LR, X, y, cv=5).mean(),4)\n",
    "\n",
    "print(f\" Mean Absolute Error: {LR_MAE}\\n\")\n",
    "print(f\" Mean Squared Error: {LR_MSE}\\n\")\n",
    "print(f\" R^2 Score: {LR_R_2}\\n\")\n",
    "cross_val(LR,LinearRegression(),X,y,5)"
   ]
  },
  {
   "cell_type": "code",
   "execution_count": 283,
   "id": "4e11daf2",
   "metadata": {},
   "outputs": [
    {
     "data": {
      "text/html": [
       "<div>\n",
       "<style scoped>\n",
       "    .dataframe tbody tr th:only-of-type {\n",
       "        vertical-align: middle;\n",
       "    }\n",
       "\n",
       "    .dataframe tbody tr th {\n",
       "        vertical-align: top;\n",
       "    }\n",
       "\n",
       "    .dataframe thead th {\n",
       "        text-align: right;\n",
       "    }\n",
       "</style>\n",
       "<table border=\"1\" class=\"dataframe\">\n",
       "  <thead>\n",
       "    <tr style=\"text-align: right;\">\n",
       "      <th></th>\n",
       "      <th>y_test</th>\n",
       "      <th>prediction</th>\n",
       "    </tr>\n",
       "  </thead>\n",
       "  <tbody>\n",
       "    <tr>\n",
       "      <th>4931</th>\n",
       "      <td>1426.1436</td>\n",
       "      <td>2440.0</td>\n",
       "    </tr>\n",
       "    <tr>\n",
       "      <th>4148</th>\n",
       "      <td>1201.7690</td>\n",
       "      <td>2508.0</td>\n",
       "    </tr>\n",
       "    <tr>\n",
       "      <th>7423</th>\n",
       "      <td>1836.2764</td>\n",
       "      <td>2192.0</td>\n",
       "    </tr>\n",
       "    <tr>\n",
       "      <th>4836</th>\n",
       "      <td>2410.8618</td>\n",
       "      <td>2412.0</td>\n",
       "    </tr>\n",
       "    <tr>\n",
       "      <th>944</th>\n",
       "      <td>1549.9824</td>\n",
       "      <td>3032.0</td>\n",
       "    </tr>\n",
       "  </tbody>\n",
       "</table>\n",
       "</div>"
      ],
      "text/plain": [
       "         y_test  prediction\n",
       "4931  1426.1436      2440.0\n",
       "4148  1201.7690      2508.0\n",
       "7423  1836.2764      2192.0\n",
       "4836  2410.8618      2412.0\n",
       "944   1549.9824      3032.0"
      ]
     },
     "execution_count": 283,
     "metadata": {},
     "output_type": "execute_result"
    }
   ],
   "source": [
    "Linear_Regression=pd.DataFrame({'y_test':y_test,'prediction':y_predict})\n",
    "Linear_Regression.head()"
   ]
  },
  {
   "cell_type": "code",
   "execution_count": 284,
   "id": "d387c64f",
   "metadata": {},
   "outputs": [],
   "source": [
    "def evaluate(y_test,y_predict):\n",
    "    print(\"MAE \",metrics.mean_absolute_error(y_predict,y_test))\n",
    "    print(\"MSE\",metrics.mean_squared_error(y_predict,y_test))\n",
    "    print(\"RMSE \",np.sqrt(metrics.mean_squared_error(y_predict,y_test)))"
   ]
  },
  {
   "cell_type": "code",
   "execution_count": 288,
   "id": "139f0f6e",
   "metadata": {},
   "outputs": [
    {
     "name": "stdout",
     "output_type": "stream",
     "text": [
      "0.5633974724933987\n",
      "MAE  861.3310520668505\n",
      "MSE 1331589.9630848635\n",
      "RMSE  1153.9453899924656\n"
     ]
    }
   ],
   "source": [
    "lr = LinearRegression().fit(X_train, y_train)\n",
    "accuracy = lr.score(X_train, y_train)\n",
    "print(accuracy)\n",
    "\n",
    "###########################\n",
    "\n",
    "y_predict=lr.predict(X_test)\n",
    "evaluate(y_test,y_predict)"
   ]
  },
  {
   "cell_type": "markdown",
   "id": "29779a5c",
   "metadata": {},
   "source": [
    "## Random Forest Regressor\n",
    "\n",
    "![](https://lh3.googleusercontent.com/proxy/V_3AWj1s3kBvrcJEUczXaoNlIVmToUBGxo_wuNSM2B3NNUs1q31KuEETmfxw3jIfiJ5H3SkjTCs9rq8BOgRZnP-ZIZBjLwVMRMchhNeV0SJQknEdTd4dhjrULXqViViMORUPWvoGMQuGYol-sj5lIEXKuHo4ouNxp3-m-sOUkzDbZ10Ph-a769ugPqsTLvJLlfhr0sbSz6Y0=s0-d)\n",
    "\n",
    "Random forest is a Supervised Learning algorithm which uses ensemble learning method for classification and regression.\n",
    "It operates by constructing a multitude of decision trees at training time and outputting the class that is the mode of the classes (classification) or mean prediction (regression) of the individual trees."
   ]
  },
  {
   "cell_type": "code",
   "execution_count": 291,
   "id": "cbf5b113",
   "metadata": {},
   "outputs": [
    {
     "name": "stdout",
     "output_type": "stream",
     "text": [
      " Mean Absolute Error: 792.3\n",
      "\n",
      " Mean Squared Error: 1252962.71\n",
      "\n",
      " R^2 Score: 0.5885\n",
      "\n",
      "RandomForestRegressor(max_depth=5, min_samples_leaf=100, n_estimators=200,\n",
      "                      n_jobs=4, random_state=101) Scores:\n",
      "0.57\n",
      "0.54\n",
      "0.53\n",
      "0.57\n",
      "0.57\n",
      "Average RandomForestRegressor(max_depth=5, min_samples_leaf=100, n_estimators=200,\n",
      "                      n_jobs=4, random_state=101) score: 0.5546\n"
     ]
    }
   ],
   "source": [
    "#model\n",
    "RFR= RandomForestRegressor(n_estimators=200,max_depth=5, min_samples_leaf=100,n_jobs=4,random_state=101)\n",
    "#fit\n",
    "RFR.fit(X_train, y_train)\n",
    "#predict\n",
    "y_predict = RFR.predict(X_test)\n",
    "\n",
    "#score variables\n",
    "RFR_MAE = round(MAE(y_test, y_predict),2)\n",
    "RFR_MSE = round(MSE(y_test, y_predict),2)\n",
    "RFR_R_2 = round(R2(y_test, y_predict),4)\n",
    "RFR_CS  = round(CVS(RFR, X, y, cv=5).mean(),4)\n",
    "\n",
    "\n",
    "\n",
    "print(f\" Mean Absolute Error: {RFR_MAE}\\n\")\n",
    "print(f\" Mean Squared Error: {RFR_MSE}\\n\")\n",
    "print(f\" R^2 Score: {RFR_R_2}\\n\")\n",
    "cross_val(RFR,RandomForestRegressor(),X,y,5)\n"
   ]
  },
  {
   "cell_type": "code",
   "execution_count": 292,
   "id": "4a9549b4",
   "metadata": {},
   "outputs": [
    {
     "data": {
      "text/html": [
       "<div>\n",
       "<style scoped>\n",
       "    .dataframe tbody tr th:only-of-type {\n",
       "        vertical-align: middle;\n",
       "    }\n",
       "\n",
       "    .dataframe tbody tr th {\n",
       "        vertical-align: top;\n",
       "    }\n",
       "\n",
       "    .dataframe thead th {\n",
       "        text-align: right;\n",
       "    }\n",
       "</style>\n",
       "<table border=\"1\" class=\"dataframe\">\n",
       "  <thead>\n",
       "    <tr style=\"text-align: right;\">\n",
       "      <th></th>\n",
       "      <th>y_test</th>\n",
       "      <th>prediction</th>\n",
       "    </tr>\n",
       "  </thead>\n",
       "  <tbody>\n",
       "    <tr>\n",
       "      <th>4931</th>\n",
       "      <td>1426.1436</td>\n",
       "      <td>2552.828253</td>\n",
       "    </tr>\n",
       "    <tr>\n",
       "      <th>4148</th>\n",
       "      <td>1201.7690</td>\n",
       "      <td>1284.164499</td>\n",
       "    </tr>\n",
       "    <tr>\n",
       "      <th>7423</th>\n",
       "      <td>1836.2764</td>\n",
       "      <td>2113.039325</td>\n",
       "    </tr>\n",
       "    <tr>\n",
       "      <th>4836</th>\n",
       "      <td>2410.8618</td>\n",
       "      <td>2155.194642</td>\n",
       "    </tr>\n",
       "    <tr>\n",
       "      <th>944</th>\n",
       "      <td>1549.9824</td>\n",
       "      <td>2979.971868</td>\n",
       "    </tr>\n",
       "  </tbody>\n",
       "</table>\n",
       "</div>"
      ],
      "text/plain": [
       "         y_test   prediction\n",
       "4931  1426.1436  2552.828253\n",
       "4148  1201.7690  1284.164499\n",
       "7423  1836.2764  2113.039325\n",
       "4836  2410.8618  2155.194642\n",
       "944   1549.9824  2979.971868"
      ]
     },
     "execution_count": 292,
     "metadata": {},
     "output_type": "execute_result"
    }
   ],
   "source": [
    "Random_Forest_Regressor=pd.DataFrame({'y_test':y_test,'prediction':y_predict})\n",
    "Random_Forest_Regressor.head()"
   ]
  },
  {
   "cell_type": "code",
   "execution_count": 293,
   "id": "28dad82a",
   "metadata": {},
   "outputs": [
    {
     "name": "stdout",
     "output_type": "stream",
     "text": [
      "RandomForestRegressor(n_estimators=500)\n",
      "MAE  819.5774450554558\n",
      "MSE 1331346.6054327341\n",
      "RMSE  1153.8399392605259\n"
     ]
    }
   ],
   "source": [
    "from sklearn.ensemble import RandomForestRegressor\n",
    "\n",
    "random_cl = RandomForestRegressor(n_estimators=500)\n",
    "random_cl=random_cl.fit(X_train,y_train)\n",
    "print(random_cl)\n",
    "\n",
    "#######################\n",
    "y_predict=random_cl.predict( X_test)\n",
    "evaluate(y_predict,y_test)"
   ]
  },
  {
   "cell_type": "code",
   "execution_count": null,
   "id": "05740806",
   "metadata": {},
   "outputs": [],
   "source": []
  },
  {
   "cell_type": "markdown",
   "id": "b244fa21",
   "metadata": {},
   "source": [
    "# xgboost"
   ]
  },
  {
   "cell_type": "code",
   "execution_count": 294,
   "id": "ff463263",
   "metadata": {},
   "outputs": [
    {
     "name": "stdout",
     "output_type": "stream",
     "text": [
      "[12:48:12] WARNING: C:/Users/Administrator/workspace/xgboost-win64_release_1.6.0/src/objective/regression_obj.cu:203: reg:linear is now deprecated in favor of reg:squarederror.\n"
     ]
    }
   ],
   "source": [
    "import xgboost as xgb\n",
    "from sklearn.model_selection import RandomizedSearchCV\n",
    "\n",
    "xgb_r = xgb.XGBRegressor(objective ='reg:linear',n_estimators = 100, seed = 123)\n",
    "\n",
    "# Fitting the model\n",
    "xgb_r=xgb_r.fit(X_train, y_train)\n",
    " "
   ]
  },
  {
   "cell_type": "code",
   "execution_count": 295,
   "id": "964a5813",
   "metadata": {},
   "outputs": [
    {
     "name": "stdout",
     "output_type": "stream",
     "text": [
      "MAE  848.1337498781901\n",
      "MSE 1434463.2674674913\n",
      "RMSE  1197.6908062882887\n"
     ]
    }
   ],
   "source": [
    "# Predict the model\n",
    "y_predict = xgb_r.predict(X_test)\n",
    "evaluate(y_test,y_predict)"
   ]
  },
  {
   "cell_type": "code",
   "execution_count": null,
   "id": "0cf48eae",
   "metadata": {},
   "outputs": [],
   "source": []
  },
  {
   "cell_type": "markdown",
   "id": "a68336ff",
   "metadata": {},
   "source": [
    "## Lasso Regressor\n",
    "\n",
    "![](data:image/png;base64,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)\n",
    "\n",
    "In statistics and machine learning, lasso (least absolute shrinkage and selection operator; also Lasso or LASSO) is a regression analysis method that performs both variable selection and regularization in order to enhance the prediction accuracy and interpretability of the statistical model it produces  - more info on [wikipedia.](https://en.wikipedia.org/wiki/Lasso_(statistics)) \n"
   ]
  },
  {
   "cell_type": "code",
   "execution_count": 296,
   "id": "037dff60",
   "metadata": {},
   "outputs": [
    {
     "name": "stdout",
     "output_type": "stream",
     "text": [
      " Mean Absolute Error: 861.29\n",
      "\n",
      " Mean Squared Error: 1331529.92\n",
      "\n",
      " R^2 Score: 0.5627\n",
      "\n",
      "Lasso(alpha=0.05) Scores:\n",
      "0.57\n",
      "0.55\n",
      "0.55\n",
      "0.56\n",
      "0.56\n",
      "Average Lasso(alpha=0.05) score: 0.559\n"
     ]
    }
   ],
   "source": [
    "#model\n",
    "LS = Lasso(alpha = 0.05)\n",
    "#fit\n",
    "LS.fit(X_train,y_train)\n",
    "\n",
    "#predict\n",
    "y_predict = LS.predict(X_test)\n",
    "\n",
    "#score variables\n",
    "LS_MAE = round(MAE(y_test, y_predict),2)\n",
    "LS_MSE = round(MSE(y_test, y_predict),2)\n",
    "LS_R_2 = round(R2(y_test, y_predict),4)\n",
    "LS_CS  = round(CVS(LS, X, y, cv=5).mean(),4)\n",
    "\n",
    "print(f\" Mean Absolute Error: {LS_MAE}\\n\")\n",
    "print(f\" Mean Squared Error: {LS_MSE}\\n\")\n",
    "print(f\" R^2 Score: {LS_R_2}\\n\")\n",
    "cross_val(LS,Lasso(alpha = 0.05),X,y,5)"
   ]
  },
  {
   "cell_type": "markdown",
   "id": "cb84ad74",
   "metadata": {},
   "source": [
    "# Conclusion"
   ]
  },
  {
   "cell_type": "code",
   "execution_count": 297,
   "id": "bc020f41",
   "metadata": {},
   "outputs": [
    {
     "data": {
      "text/html": [
       "<div>\n",
       "<style scoped>\n",
       "    .dataframe tbody tr th:only-of-type {\n",
       "        vertical-align: middle;\n",
       "    }\n",
       "\n",
       "    .dataframe tbody tr th {\n",
       "        vertical-align: top;\n",
       "    }\n",
       "\n",
       "    .dataframe thead th {\n",
       "        text-align: right;\n",
       "    }\n",
       "</style>\n",
       "<table border=\"1\" class=\"dataframe\">\n",
       "  <thead>\n",
       "    <tr style=\"text-align: right;\">\n",
       "      <th></th>\n",
       "      <th>models</th>\n",
       "      <th>MAE</th>\n",
       "      <th>MSE</th>\n",
       "      <th>R^2</th>\n",
       "      <th>Cross Validation Score</th>\n",
       "    </tr>\n",
       "  </thead>\n",
       "  <tbody>\n",
       "    <tr>\n",
       "      <th>1</th>\n",
       "      <td>Random Forest Regressor</td>\n",
       "      <td>792.30</td>\n",
       "      <td>1252962.71</td>\n",
       "      <td>0.5885</td>\n",
       "      <td>0.5914</td>\n",
       "    </tr>\n",
       "    <tr>\n",
       "      <th>2</th>\n",
       "      <td>Lasso Regressor</td>\n",
       "      <td>861.29</td>\n",
       "      <td>1331529.92</td>\n",
       "      <td>0.5627</td>\n",
       "      <td>0.5590</td>\n",
       "    </tr>\n",
       "    <tr>\n",
       "      <th>0</th>\n",
       "      <td>Linear Regression</td>\n",
       "      <td>861.71</td>\n",
       "      <td>1333256.85</td>\n",
       "      <td>0.5622</td>\n",
       "      <td>0.5586</td>\n",
       "    </tr>\n",
       "  </tbody>\n",
       "</table>\n",
       "</div>"
      ],
      "text/plain": [
       "                    models     MAE         MSE     R^2  Cross Validation Score\n",
       "1  Random Forest Regressor  792.30  1252962.71  0.5885                  0.5914\n",
       "2          Lasso Regressor  861.29  1331529.92  0.5627                  0.5590\n",
       "0        Linear Regression  861.71  1333256.85  0.5622                  0.5586"
      ]
     },
     "execution_count": 297,
     "metadata": {},
     "output_type": "execute_result"
    }
   ],
   "source": [
    "MAE= [LR_MAE,RFR_MAE,LS_MAE]\n",
    "MSE= [LR_MSE,RFR_MSE,LS_MSE]\n",
    "R_2= [LR_R_2,RFR_R_2,LS_R_2]\n",
    "Cross_score= [LR_CS,RFR_CS,LS_CS]\n",
    "\n",
    "Models = pd.DataFrame({\n",
    "    'models': [\"Linear Regression\",\"Random Forest Regressor\",\"Lasso Regressor\"],\n",
    "    'MAE': MAE, 'MSE': MSE, 'R^2':R_2, 'Cross Validation Score':Cross_score})\n",
    "Models.sort_values(by='MAE', ascending=True)"
   ]
  },
  {
   "cell_type": "markdown",
   "id": "2ca66999",
   "metadata": {},
   "source": [
    "## Summary\n",
    "\n",
    "* `Item_MRP`  optimizes Maximum Outlet sales (positive correlation with the target).\n",
    "* Linear Regression\tand Lasso Regressor have the best perfomance in most categories.\n",
    "* only a third of the observed variation can be explained by the model's inputs of Random Forest Regressor, there for it's performance is not optimal even though his cross validation is the highest.\n",
    "* For better peformance this models need tuning e.g. Grid Search."
   ]
  },
  {
   "cell_type": "code",
   "execution_count": null,
   "id": "457daac1",
   "metadata": {},
   "outputs": [],
   "source": []
  }
 ],
 "metadata": {
  "kernelspec": {
   "display_name": "Python 3 (ipykernel)",
   "language": "python",
   "name": "python3"
  },
  "language_info": {
   "codemirror_mode": {
    "name": "ipython",
    "version": 3
   },
   "file_extension": ".py",
   "mimetype": "text/x-python",
   "name": "python",
   "nbconvert_exporter": "python",
   "pygments_lexer": "ipython3",
   "version": "3.9.7"
  }
 },
 "nbformat": 4,
 "nbformat_minor": 5
}
