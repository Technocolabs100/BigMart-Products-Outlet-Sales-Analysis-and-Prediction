{
 "cells": [
  {
   "cell_type": "markdown",
   "id": "fe38c95c",
   "metadata": {},
   "source": [
    "# Problem Statement"
   ]
  },
  {
   "cell_type": "markdown",
   "id": "c05dcfaa",
   "metadata": {},
   "source": []
  },
  {
   "cell_type": "markdown",
   "id": "029d9f4c",
   "metadata": {},
   "source": [
    "# Hypothesis Generation"
   ]
  },
  {
   "cell_type": "markdown",
   "id": "9522d988",
   "metadata": {},
   "source": []
  },
  {
   "cell_type": "markdown",
   "id": "596aa721",
   "metadata": {},
   "source": [
    "# Loading packages and data"
   ]
  },
  {
   "cell_type": "code",
   "execution_count": null,
   "id": "41acc368",
   "metadata": {},
   "outputs": [],
   "source": [
    "import pandas as pd\n",
    "import numpy as np\n",
    "import matplotlib.pyplot as plt\n",
    "import seaborn as sns\n",
    "\n",
    "import warnings\n",
    "warnings.filterwarnings(\"ignore\") \n",
    "pd.options.mode.chained_assignment = None\n",
    "\n",
    "from sklearn.impute import SimpleImputer\n",
    "from sklearn.preprocessing import LabelEncoder\n",
    "from sklearn.preprocessing import MinMaxScaler\n",
    "from sklearn.model_selection import train_test_split"
   ]
  },
  {
   "cell_type": "code",
   "execution_count": null,
   "id": "7c9515b6",
   "metadata": {},
   "outputs": [],
   "source": [
    "train_df = pd.read_csv('./data/Train.csv')\n",
    "test_df = pd.read_csv('./data/Test.csv')\n",
    "\n",
    "train_df['df_type'] = 'train'\n",
    "test_df['df_type'] = 'test'\n",
    "df = pd.concat([train_df, test_df], ignore_index=True)"
   ]
  },
  {
   "cell_type": "markdown",
   "id": "3ab602f7",
   "metadata": {},
   "source": [
    "# Data Structure and Content"
   ]
  },
  {
   "cell_type": "markdown",
   "id": "b8fbf41c",
   "metadata": {},
   "source": []
  },
  {
   "cell_type": "markdown",
   "id": "2eb9bab2",
   "metadata": {},
   "source": [
    "# Exploratory Data Analysis"
   ]
  },
  {
   "cell_type": "markdown",
   "id": "e25f17f3",
   "metadata": {},
   "source": [
    "### Descriptive Analysis"
   ]
  },
  {
   "cell_type": "code",
   "execution_count": null,
   "id": "49bbbf13",
   "metadata": {},
   "outputs": [],
   "source": [
    "df.head()"
   ]
  },
  {
   "cell_type": "code",
   "execution_count": null,
   "id": "c2f8596a",
   "metadata": {},
   "outputs": [],
   "source": [
    "df.shape"
   ]
  },
  {
   "cell_type": "code",
   "execution_count": null,
   "id": "6dc0049b",
   "metadata": {},
   "outputs": [],
   "source": [
    "df.info()"
   ]
  },
  {
   "cell_type": "code",
   "execution_count": null,
   "id": "3de32989",
   "metadata": {},
   "outputs": [],
   "source": [
    "df.describe(include='all').T"
   ]
  },
  {
   "cell_type": "markdown",
   "id": "be35ddfd",
   "metadata": {},
   "source": [
    "**Observations**\n",
    "1. Total shape of the dataset is (14204, 13)\n",
    "2. The dataset has 7 object columns (excluding df_type column) and 5 numerical columns \n",
    "3. The memory usage of the dataset is 1.4+ MB.\n",
    "4. "
   ]
  },
  {
   "cell_type": "markdown",
   "id": "86776039",
   "metadata": {},
   "source": [
    "### Checking the unique values"
   ]
  },
  {
   "cell_type": "code",
   "execution_count": null,
   "id": "b3f74c9c",
   "metadata": {},
   "outputs": [],
   "source": [
    "df.apply(lambda x: len(x.unique()))"
   ]
  },
  {
   "cell_type": "code",
   "execution_count": null,
   "id": "612f2ce5",
   "metadata": {},
   "outputs": [],
   "source": [
    "df['Item_Identifier'][:20]"
   ]
  },
  {
   "cell_type": "code",
   "execution_count": null,
   "id": "0a674265",
   "metadata": {},
   "outputs": [],
   "source": [
    "cols = df.select_dtypes('object').columns.to_list()\n",
    "cols = [x for x in cols if x not in ['Item_Identifier', 'df_type']]\n",
    "\n",
    "for col in cols:\n",
    "    print(f'**Column: {col}**')\n",
    "    print(df[col].value_counts())\n",
    "    print('')"
   ]
  },
  {
   "cell_type": "markdown",
   "id": "43c48a4b",
   "metadata": {},
   "source": [
    "**Observations**\n",
    "1. Item_identifier - an object variable that contains 1559 unique data. Based on the data shown above, the first 2 letters seems to be the category code of the item while the last 3 is the unique id of item. Most common 2 id are FD, DR and NC. \n",
    "2. Item_Fat_Content - there are repeating data that can be combine later on: Low Fat, LF and low fat; Regular and reg\n",
    "3. OUT010 and OUT019 are the least frequent outlet. These outlets have significantly smaller number of sales.\n",
    "5. Most  of the outlet type, size and location type are supermarket type 1, medium and tier 3, respectively\n",
    "6. The unique count of Item_MRP is greater than the number of items, this means that every an item may have different prices in every outlet "
   ]
  },
  {
   "cell_type": "markdown",
   "id": "03658636",
   "metadata": {},
   "source": [
    "### Missing Values"
   ]
  },
  {
   "cell_type": "code",
   "execution_count": null,
   "id": "7b4fc268",
   "metadata": {},
   "outputs": [],
   "source": [
    "missingval = df.isnull().sum()\n",
    "percentage_missing = 100 * df.isnull().sum()/len(train_df)\n",
    "missing_table = pd.concat([missingval,percentage_missing],axis=1)\n",
    "missing_table = missing_table.rename(columns = {0:'MissingValues', 1:'Percentage'})\n",
    "missing_table.sort_values(by='MissingValues',ascending=False)"
   ]
  },
  {
   "cell_type": "code",
   "execution_count": null,
   "id": "59ff6e7a",
   "metadata": {},
   "outputs": [],
   "source": [
    "df[df['df_type']=='test'].isna().sum()"
   ]
  },
  {
   "cell_type": "code",
   "execution_count": null,
   "id": "313bfd19",
   "metadata": {},
   "outputs": [],
   "source": [
    "df[df['df_type']=='train'].isna().sum()"
   ]
  },
  {
   "cell_type": "markdown",
   "id": "61244614",
   "metadata": {},
   "source": [
    "### Duplicate Values"
   ]
  },
  {
   "cell_type": "code",
   "execution_count": null,
   "id": "78986e8d",
   "metadata": {},
   "outputs": [],
   "source": [
    "duplicated = df.duplicated().sum()\n",
    "print('Number of duplicated rows:', duplicated)"
   ]
  },
  {
   "cell_type": "markdown",
   "id": "3d900422",
   "metadata": {},
   "source": [
    "**Observation**\n",
    "1. Most of the missing items in Item_Outlet_Sales are only present in testing data (Since this is the target variable)\n",
    "2. Missing values are present in Item_Weight and Outlet_Size.\n",
    "3. There are no duplicated rows in the dataset"
   ]
  },
  {
   "cell_type": "markdown",
   "id": "c30e5aab",
   "metadata": {},
   "source": [
    "# Univariate Analysis"
   ]
  },
  {
   "cell_type": "code",
   "execution_count": null,
   "id": "caa87b06",
   "metadata": {},
   "outputs": [],
   "source": [
    "plt.rcParams[\"figure.figsize\"] = [12, 5]\n",
    "plt.rcParams[\"figure.autolayout\"] = True"
   ]
  },
  {
   "cell_type": "markdown",
   "id": "5669ab64",
   "metadata": {},
   "source": [
    "### Target Variable - Item_Outlet_Sales\t"
   ]
  },
  {
   "cell_type": "code",
   "execution_count": null,
   "id": "75c1c0a4",
   "metadata": {},
   "outputs": [],
   "source": [
    "sns.histplot(df['Item_Outlet_Sales']).set_title('Distribution of the Item Outlet Sales')\n",
    "plt.show()"
   ]
  },
  {
   "cell_type": "markdown",
   "id": "8180c9b1",
   "metadata": {},
   "source": [
    "### Feature Variables"
   ]
  },
  {
   "cell_type": "code",
   "execution_count": null,
   "id": "52fe70b7",
   "metadata": {},
   "outputs": [],
   "source": [
    "object_columns = train_df.select_dtypes('object').columns\n",
    "numerical_columns = train_df.select_dtypes(['int64','float64']).columns\n",
    "object_df = train_df[object_columns]\n",
    "numerical_df = train_df[numerical_columns]"
   ]
  },
  {
   "cell_type": "code",
   "execution_count": null,
   "id": "80cef831",
   "metadata": {},
   "outputs": [],
   "source": [
    "discrete_columns = [col for col in object_columns if train_df[col].nunique()>20]\n",
    "object_df[discrete_columns].head()"
   ]
  },
  {
   "cell_type": "code",
   "execution_count": null,
   "id": "25867f89",
   "metadata": {},
   "outputs": [],
   "source": [
    "object_df[discrete_columns].nunique()"
   ]
  },
  {
   "cell_type": "code",
   "execution_count": null,
   "id": "e7642caa",
   "metadata": {},
   "outputs": [],
   "source": [
    "object_df.drop(columns=['Item_Identifier', 'df_type'],inplace=True)\n",
    "numerical_df.drop(columns='Item_Outlet_Sales',inplace=True)"
   ]
  },
  {
   "cell_type": "markdown",
   "id": "bfd27faf",
   "metadata": {},
   "source": [
    "**Categorical Variables**"
   ]
  },
  {
   "cell_type": "code",
   "execution_count": null,
   "id": "f805f71f",
   "metadata": {},
   "outputs": [],
   "source": [
    "for col in object_df:\n",
    "    sns.countplot(y=col, data=object_df)\n",
    "    plt.show()"
   ]
  },
  {
   "cell_type": "markdown",
   "id": "335319f7",
   "metadata": {},
   "source": [
    "**Numerical Variables**"
   ]
  },
  {
   "cell_type": "code",
   "execution_count": null,
   "id": "da058c9a",
   "metadata": {},
   "outputs": [],
   "source": [
    "for col in numerical_df:\n",
    "    sns.histplot(numerical_df[col])\n",
    "    plt.show()"
   ]
  },
  {
   "cell_type": "markdown",
   "id": "7b668b94",
   "metadata": {},
   "source": [
    "**Observations:**"
   ]
  },
  {
   "cell_type": "markdown",
   "id": "24b63b1b",
   "metadata": {},
   "source": [
    "# Bivariate Analysis"
   ]
  },
  {
   "cell_type": "markdown",
   "id": "a0eac142",
   "metadata": {},
   "source": [
    "### Numerical vs Numerical (Numerical Features vs Target Variable)"
   ]
  },
  {
   "cell_type": "code",
   "execution_count": null,
   "id": "79016311",
   "metadata": {},
   "outputs": [],
   "source": [
    "sns.pairplot(train_df)"
   ]
  },
  {
   "cell_type": "code",
   "execution_count": null,
   "id": "8911adc7",
   "metadata": {},
   "outputs": [],
   "source": [
    "plt.figure(figsize=(12,10))\n",
    "sns.set(font_scale=1.1)\n",
    "sns.heatmap(train_df.corr(),annot=True,cmap=\"Blues\")\n",
    "plt.show()"
   ]
  },
  {
   "cell_type": "markdown",
   "id": "4993b9c0",
   "metadata": {},
   "source": [
    "### Categorical vs Numerical (Object Features vs Target Variable)"
   ]
  },
  {
   "cell_type": "code",
   "execution_count": null,
   "id": "8352489c",
   "metadata": {
    "scrolled": false
   },
   "outputs": [],
   "source": [
    "for col in object_df.columns:\n",
    "    sns.boxplot(y=train_df[col], x='Item_Outlet_Sales', data=train_df)\n",
    "    plt.show()"
   ]
  },
  {
   "cell_type": "markdown",
   "id": "429a677d",
   "metadata": {},
   "source": [
    "**Observations:**"
   ]
  },
  {
   "cell_type": "markdown",
   "id": "afbd404c",
   "metadata": {},
   "source": []
  },
  {
   "cell_type": "markdown",
   "id": "c42171af",
   "metadata": {},
   "source": [
    "# Data Preprocessing and Feature Engineering"
   ]
  },
  {
   "cell_type": "markdown",
   "id": "aadfec51",
   "metadata": {},
   "source": [
    "Based on the EDA, the following actions are need to be done:\n",
    "- Fill in missing values\n",
    "- Correct zero values in Item_Visibility\n",
    "- Slice the first 2 letter of the Item_Identifier to get the Item_Category.\n",
    "- Rename similar items in Item_Fat_Content\n",
    "- Convert outlet_establishment_year into years of operation\n",
    "- Encode all categorical values into numerical values\n",
    "- Dropped unnecessary columns\n",
    "- Split the updated data into train and test"
   ]
  },
  {
   "cell_type": "markdown",
   "id": "a6236f32",
   "metadata": {},
   "source": [
    "### Missing Value Treatment"
   ]
  },
  {
   "cell_type": "code",
   "execution_count": null,
   "id": "749f0585",
   "metadata": {},
   "outputs": [],
   "source": [
    "df.isnull().sum()"
   ]
  },
  {
   "cell_type": "code",
   "execution_count": null,
   "id": "2e43fe3e",
   "metadata": {},
   "outputs": [],
   "source": [
    "df['Outlet_Size'].unique()"
   ]
  },
  {
   "cell_type": "code",
   "execution_count": null,
   "id": "9b7a3fe7",
   "metadata": {},
   "outputs": [],
   "source": [
    "df['Item_Weight']=df['Item_Weight'].fillna(df['Item_Weight'].mean())\n",
    "mode_imputer = SimpleImputer(strategy='most_frequent')\n",
    "df['Outlet_Size'] = mode_imputer.fit_transform(df)"
   ]
  },
  {
   "cell_type": "code",
   "execution_count": null,
   "id": "fa9acd04",
   "metadata": {},
   "outputs": [],
   "source": [
    "df['Outlet_Size'].unique()"
   ]
  },
  {
   "cell_type": "code",
   "execution_count": null,
   "id": "f27bb63a",
   "metadata": {},
   "outputs": [],
   "source": [
    "df.isnull().sum()"
   ]
  },
  {
   "cell_type": "markdown",
   "id": "71515453",
   "metadata": {},
   "source": [
    "### Correct zero values in Item_Visibility"
   ]
  },
  {
   "cell_type": "code",
   "execution_count": null,
   "id": "a7a071c5",
   "metadata": {},
   "outputs": [],
   "source": [
    "df[df['Item_Visibility'] == 0.0]"
   ]
  },
  {
   "cell_type": "code",
   "execution_count": null,
   "id": "55747a7b",
   "metadata": {},
   "outputs": [],
   "source": [
    "df['Item_Visibility'] = df['Item_Visibility'].replace(0,df['Item_Visibility'].mean())"
   ]
  },
  {
   "cell_type": "code",
   "execution_count": null,
   "id": "6604c5e8",
   "metadata": {},
   "outputs": [],
   "source": [
    "df['Item_Visibility'].describe()"
   ]
  },
  {
   "cell_type": "markdown",
   "id": "5fd99510",
   "metadata": {},
   "source": [
    "### Slice the first 2 letter of the Item_Identifier"
   ]
  },
  {
   "cell_type": "code",
   "execution_count": null,
   "id": "89304b10",
   "metadata": {},
   "outputs": [],
   "source": [
    "df['Item_Type_Category'] = df['Item_Identifier'].astype(str).str[:2]"
   ]
  },
  {
   "cell_type": "code",
   "execution_count": null,
   "id": "f3817aa0",
   "metadata": {},
   "outputs": [],
   "source": [
    "df['Item_Type_Category'].unique()"
   ]
  },
  {
   "cell_type": "markdown",
   "id": "88610412",
   "metadata": {},
   "source": [
    "### Rename similar items in Item_Fat_Content"
   ]
  },
  {
   "cell_type": "code",
   "execution_count": null,
   "id": "479011a6",
   "metadata": {},
   "outputs": [],
   "source": [
    "df.replace({'Item_Fat_Content': {'low fat':'Low Fat','LF':'Low Fat', 'reg':'Regular'}}, inplace=True)"
   ]
  },
  {
   "cell_type": "code",
   "execution_count": null,
   "id": "798c1976",
   "metadata": {},
   "outputs": [],
   "source": [
    "df['Item_Fat_Content'].value_counts()"
   ]
  },
  {
   "cell_type": "code",
   "execution_count": null,
   "id": "11c12339",
   "metadata": {},
   "outputs": [],
   "source": [
    "df[df['Item_Type_Category'] == 'NC']['Item_Fat_Content'].unique()"
   ]
  },
  {
   "cell_type": "markdown",
   "id": "26e01a67",
   "metadata": {},
   "source": [
    "Since there are 'NC' or Non-consumable item type category within our data, this means that these items should not have a fat content. Surprisingly most of these items are tagged as 'Low Fat' as their fat content"
   ]
  },
  {
   "cell_type": "code",
   "execution_count": null,
   "id": "37627a69",
   "metadata": {},
   "outputs": [],
   "source": [
    "df['Item_Fat_Content'].mask(df['Item_Type_Category'] == 'NC' ,'Not Edible', inplace=True)"
   ]
  },
  {
   "cell_type": "code",
   "execution_count": null,
   "id": "e9cc9e30",
   "metadata": {},
   "outputs": [],
   "source": [
    "df[df['Item_Type_Category'] == 'NC']['Item_Fat_Content'].unique()"
   ]
  },
  {
   "cell_type": "code",
   "execution_count": null,
   "id": "60ca9367",
   "metadata": {},
   "outputs": [],
   "source": [
    "df['Item_Fat_Content'].value_counts()"
   ]
  },
  {
   "cell_type": "markdown",
   "id": "076efe42",
   "metadata": {},
   "source": [
    "### Convert outlet_establishment_year into years of operation"
   ]
  },
  {
   "cell_type": "code",
   "execution_count": null,
   "id": "91a6ac67",
   "metadata": {},
   "outputs": [],
   "source": [
    "df['Operation_Years'] = 2019-df['Outlet_Establishment_Year']"
   ]
  },
  {
   "cell_type": "markdown",
   "id": "10468730",
   "metadata": {},
   "source": [
    "### Encoding of Categorical Values"
   ]
  },
  {
   "cell_type": "code",
   "execution_count": null,
   "id": "9eef9697",
   "metadata": {},
   "outputs": [],
   "source": [
    "le = LabelEncoder()"
   ]
  },
  {
   "cell_type": "code",
   "execution_count": null,
   "id": "2de3b963",
   "metadata": {},
   "outputs": [],
   "source": [
    "cols = df.select_dtypes('object').columns.to_list()\n",
    "cols.remove('df_type')\n",
    "cols"
   ]
  },
  {
   "cell_type": "code",
   "execution_count": null,
   "id": "dfe01645",
   "metadata": {},
   "outputs": [],
   "source": [
    "for col in cols: \n",
    "    df[col]= le.fit_transform(df[col])"
   ]
  },
  {
   "cell_type": "code",
   "execution_count": null,
   "id": "f2c9773a",
   "metadata": {},
   "outputs": [],
   "source": [
    "df.info()"
   ]
  },
  {
   "cell_type": "code",
   "execution_count": null,
   "id": "f5202b2f",
   "metadata": {},
   "outputs": [],
   "source": [
    "df.head()"
   ]
  },
  {
   "cell_type": "markdown",
   "id": "18df1d20",
   "metadata": {},
   "source": [
    "### Drop unneccessary columns"
   ]
  },
  {
   "cell_type": "code",
   "execution_count": null,
   "id": "0c91d226",
   "metadata": {},
   "outputs": [],
   "source": [
    "cols_to_drop = ['Item_Identifier', 'Outlet_Establishment_Year']"
   ]
  },
  {
   "cell_type": "code",
   "execution_count": null,
   "id": "a09a963d",
   "metadata": {},
   "outputs": [],
   "source": [
    "df.drop(columns=cols_to_drop, inplace=True)"
   ]
  },
  {
   "cell_type": "markdown",
   "id": "f8aafc54",
   "metadata": {},
   "source": [
    "### Normalize the Data"
   ]
  },
  {
   "cell_type": "code",
   "execution_count": null,
   "id": "867f806a",
   "metadata": {},
   "outputs": [],
   "source": [
    "scaler = MinMaxScaler()\n",
    "X_train_sc= scaler.fit_transform(X_train)\n",
    "X_test_sc = scaler.transform(X_test)"
   ]
  },
  {
   "cell_type": "markdown",
   "id": "b16e04d2",
   "metadata": {},
   "source": [
    "### Split Train and Test Set"
   ]
  },
  {
   "cell_type": "code",
   "execution_count": null,
   "id": "71721607",
   "metadata": {},
   "outputs": [],
   "source": [
    "train = df[df['df_type']=='train']\n",
    "test = df[df['df_type']=='test']"
   ]
  },
  {
   "cell_type": "code",
   "execution_count": null,
   "id": "8c147c1a",
   "metadata": {},
   "outputs": [],
   "source": [
    "train.head()"
   ]
  },
  {
   "cell_type": "code",
   "execution_count": null,
   "id": "5beeeb59",
   "metadata": {},
   "outputs": [],
   "source": [
    "test.head()"
   ]
  },
  {
   "cell_type": "code",
   "execution_count": null,
   "id": "4018eb6a",
   "metadata": {},
   "outputs": [],
   "source": [
    "train.drop(columns='df_type', inplace=True)\n",
    "test.drop(columns=['df_type','Item_Outlet_Sales'], inplace=True)"
   ]
  },
  {
   "cell_type": "code",
   "execution_count": null,
   "id": "38a96722",
   "metadata": {},
   "outputs": [],
   "source": [
    "X = train.drop(columns='Item_Outlet_Sales')\n",
    "y = train['Item_Outlet_Sales']"
   ]
  },
  {
   "cell_type": "code",
   "execution_count": null,
   "id": "c57498f9",
   "metadata": {},
   "outputs": [],
   "source": [
    "X_train, X_test, y_train, y_test = train_test_split(X,y,  test_size=0.2, shuffle = True, random_state = 42)"
   ]
  },
  {
   "cell_type": "code",
   "execution_count": null,
   "id": "eedd6c07",
   "metadata": {},
   "outputs": [],
   "source": [
    "X"
   ]
  },
  {
   "cell_type": "code",
   "execution_count": null,
   "id": "920f11e9",
   "metadata": {},
   "outputs": [],
   "source": [
    "y"
   ]
  }
 ],
 "metadata": {
  "kernelspec": {
   "display_name": "Python 3 (ipykernel)",
   "language": "python",
   "name": "python3"
  },
  "language_info": {
   "codemirror_mode": {
    "name": "ipython",
    "version": 3
   },
   "file_extension": ".py",
   "mimetype": "text/x-python",
   "name": "python",
   "nbconvert_exporter": "python",
   "pygments_lexer": "ipython3",
   "version": "3.9.7"
  }
 },
 "nbformat": 4,
 "nbformat_minor": 5
}
