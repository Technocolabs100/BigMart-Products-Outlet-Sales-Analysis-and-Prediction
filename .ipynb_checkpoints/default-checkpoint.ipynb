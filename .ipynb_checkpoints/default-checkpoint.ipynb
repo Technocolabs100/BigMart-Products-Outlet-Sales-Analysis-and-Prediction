{
 "cells": [
  {
   "cell_type": "markdown",
   "id": "3f446544-3693-4fbb-a898-2784b9acaaba",
   "metadata": {},
   "source": [
    "# 1. Problem Statement \n",
    "The data scientists at BigMart have collected 2013 sales data for 1559 products across 10 stores in different cities. Also, certain attributes of each product and store have been defined. The aim of this data science project is to build a predictive model and find out the sales of each product at a particular store.\n",
    "Using this model, BigMart will try to understand the properties of products and stores which play a key role in increasing sales.\n",
    " The data has missing values as some stores do not report all the data due to technical glitches. Hence, it will be required to treat them accordingly."
   ]
  },
  {
   "cell_type": "markdown",
   "id": "a890aa3e-f47d-4a40-be7e-5d3ca76e8f3b",
   "metadata": {},
   "source": [
    "# 2. Hypothesis Generation \n",
    "We could get some hypotheses that might affect the sales, and they are as following: \n",
    "1. Sales might be higher at weekends \n",
    "2. Sales might be higher on occasions (e.g., Ramadan Month, Feasts, Festivals and so on...)\n",
    "3. The offers, discounts and packages the store offers makes sales higher \n",
    "4. The location of the store and the population in this location \n",
    "5. Ads and posters  \n",
    "6. studying people needs and priorities \n",
    "7. maintaining the relationship with the customers \n",
    "8. Store Size \n",
    "9. Products that the store offers, the more products, the higher the sales \n",
    "10. offering children's products \n",
    "11. Store age"
   ]
  },
  {
   "cell_type": "markdown",
   "id": "dd745f31-a008-4ad5-b68d-af6720a5f619",
   "metadata": {},
   "source": [
    "# 3. Loading Packages and Data "
   ]
  },
  {
   "cell_type": "code",
   "execution_count": 1,
   "id": "556f1d7e-6944-498f-84ef-381cff69cb4f",
   "metadata": {
    "tags": []
   },
   "outputs": [],
   "source": [
    "# import modules\n",
    "import pandas as pd \n",
    "import numpy as np\n",
    "\n",
    "import seaborn as sns \n",
    "import matplotlib.pyplot as plt\n",
    "%matplotlib inline\n",
    "\n",
    "from sklearn.linear_model import LinearRegression\n",
    "from sklearn.model_selection import train_test_split \n",
    "from sklearn.ensemble import RandomForestRegressor\n",
    "from sklearn.metrics import mean_absolute_error\n",
    "from sklearn.impute import SimpleImputer"
   ]
  },
  {
   "cell_type": "code",
   "execution_count": 44,
   "id": "083d379b-85f1-4ac2-b161-4d904e42cf5f",
   "metadata": {},
   "outputs": [],
   "source": [
    "def get_mae(X_t, X_v, y_t, y_v):\n",
    "    # specifying the model \n",
    "    model = RandomForestRegressor(random_state=0)\n",
    "\n",
    "    # fit model \n",
    "    model.fit(X_t, y_t)\n",
    "\n",
    "    # make validation predictions and calculate mae \n",
    "    pred_v = model.predict(X_v)\n",
    "    mae_v = mean_absolute_error(y_v, pred_v)\n",
    "    \n",
    "    return mae_v "
   ]
  },
  {
   "cell_type": "code",
   "execution_count": 45,
   "id": "c229a787-775c-41f3-9b69-b879e36ca695",
   "metadata": {},
   "outputs": [
    {
     "name": "stdout",
     "output_type": "stream",
     "text": [
      "Training data shape:  (8523, 12)\n",
      "Test data shape:  (5681, 11)\n"
     ]
    }
   ],
   "source": [
    "# Read the data \n",
    "train_data_file_path = '../data/Train.csv'\n",
    "test_data_file_path  = '../data/Test.csv'\n",
    "\n",
    "train_data = pd.read_csv(train_data_file_path)\n",
    "test_data  = pd.read_csv(test_data_file_path)\n",
    "\n",
    "print(\"Training data shape: \", train_data.shape)\n",
    "print(\"Test data shape: \",     test_data.shape)"
   ]
  },
  {
   "cell_type": "code",
   "execution_count": 46,
   "id": "76b71814-7bc8-4a9b-9413-4086e9707a99",
   "metadata": {},
   "outputs": [
    {
     "data": {
      "text/html": [
       "<div>\n",
       "<style scoped>\n",
       "    .dataframe tbody tr th:only-of-type {\n",
       "        vertical-align: middle;\n",
       "    }\n",
       "\n",
       "    .dataframe tbody tr th {\n",
       "        vertical-align: top;\n",
       "    }\n",
       "\n",
       "    .dataframe thead th {\n",
       "        text-align: right;\n",
       "    }\n",
       "</style>\n",
       "<table border=\"1\" class=\"dataframe\">\n",
       "  <thead>\n",
       "    <tr style=\"text-align: right;\">\n",
       "      <th></th>\n",
       "      <th>Item_Identifier</th>\n",
       "      <th>Item_Weight</th>\n",
       "      <th>Item_Fat_Content</th>\n",
       "      <th>Item_Visibility</th>\n",
       "      <th>Item_Type</th>\n",
       "      <th>Item_MRP</th>\n",
       "      <th>Outlet_Identifier</th>\n",
       "      <th>Outlet_Establishment_Year</th>\n",
       "      <th>Outlet_Size</th>\n",
       "      <th>Outlet_Location_Type</th>\n",
       "      <th>Outlet_Type</th>\n",
       "      <th>Item_Outlet_Sales</th>\n",
       "    </tr>\n",
       "  </thead>\n",
       "  <tbody>\n",
       "    <tr>\n",
       "      <th>0</th>\n",
       "      <td>FDA15</td>\n",
       "      <td>9.30</td>\n",
       "      <td>Low Fat</td>\n",
       "      <td>0.016047</td>\n",
       "      <td>Dairy</td>\n",
       "      <td>249.8092</td>\n",
       "      <td>OUT049</td>\n",
       "      <td>1999</td>\n",
       "      <td>Medium</td>\n",
       "      <td>Tier 1</td>\n",
       "      <td>Supermarket Type1</td>\n",
       "      <td>3735.1380</td>\n",
       "    </tr>\n",
       "    <tr>\n",
       "      <th>1</th>\n",
       "      <td>DRC01</td>\n",
       "      <td>5.92</td>\n",
       "      <td>Regular</td>\n",
       "      <td>0.019278</td>\n",
       "      <td>Soft Drinks</td>\n",
       "      <td>48.2692</td>\n",
       "      <td>OUT018</td>\n",
       "      <td>2009</td>\n",
       "      <td>Medium</td>\n",
       "      <td>Tier 3</td>\n",
       "      <td>Supermarket Type2</td>\n",
       "      <td>443.4228</td>\n",
       "    </tr>\n",
       "    <tr>\n",
       "      <th>2</th>\n",
       "      <td>FDN15</td>\n",
       "      <td>17.50</td>\n",
       "      <td>Low Fat</td>\n",
       "      <td>0.016760</td>\n",
       "      <td>Meat</td>\n",
       "      <td>141.6180</td>\n",
       "      <td>OUT049</td>\n",
       "      <td>1999</td>\n",
       "      <td>Medium</td>\n",
       "      <td>Tier 1</td>\n",
       "      <td>Supermarket Type1</td>\n",
       "      <td>2097.2700</td>\n",
       "    </tr>\n",
       "    <tr>\n",
       "      <th>3</th>\n",
       "      <td>FDX07</td>\n",
       "      <td>19.20</td>\n",
       "      <td>Regular</td>\n",
       "      <td>0.000000</td>\n",
       "      <td>Fruits and Vegetables</td>\n",
       "      <td>182.0950</td>\n",
       "      <td>OUT010</td>\n",
       "      <td>1998</td>\n",
       "      <td>NaN</td>\n",
       "      <td>Tier 3</td>\n",
       "      <td>Grocery Store</td>\n",
       "      <td>732.3800</td>\n",
       "    </tr>\n",
       "    <tr>\n",
       "      <th>4</th>\n",
       "      <td>NCD19</td>\n",
       "      <td>8.93</td>\n",
       "      <td>Low Fat</td>\n",
       "      <td>0.000000</td>\n",
       "      <td>Household</td>\n",
       "      <td>53.8614</td>\n",
       "      <td>OUT013</td>\n",
       "      <td>1987</td>\n",
       "      <td>High</td>\n",
       "      <td>Tier 3</td>\n",
       "      <td>Supermarket Type1</td>\n",
       "      <td>994.7052</td>\n",
       "    </tr>\n",
       "  </tbody>\n",
       "</table>\n",
       "</div>"
      ],
      "text/plain": [
       "  Item_Identifier  Item_Weight Item_Fat_Content  Item_Visibility  \\\n",
       "0           FDA15         9.30          Low Fat         0.016047   \n",
       "1           DRC01         5.92          Regular         0.019278   \n",
       "2           FDN15        17.50          Low Fat         0.016760   \n",
       "3           FDX07        19.20          Regular         0.000000   \n",
       "4           NCD19         8.93          Low Fat         0.000000   \n",
       "\n",
       "               Item_Type  Item_MRP Outlet_Identifier  \\\n",
       "0                  Dairy  249.8092            OUT049   \n",
       "1            Soft Drinks   48.2692            OUT018   \n",
       "2                   Meat  141.6180            OUT049   \n",
       "3  Fruits and Vegetables  182.0950            OUT010   \n",
       "4              Household   53.8614            OUT013   \n",
       "\n",
       "   Outlet_Establishment_Year Outlet_Size Outlet_Location_Type  \\\n",
       "0                       1999      Medium               Tier 1   \n",
       "1                       2009      Medium               Tier 3   \n",
       "2                       1999      Medium               Tier 1   \n",
       "3                       1998         NaN               Tier 3   \n",
       "4                       1987        High               Tier 3   \n",
       "\n",
       "         Outlet_Type  Item_Outlet_Sales  \n",
       "0  Supermarket Type1          3735.1380  \n",
       "1  Supermarket Type2           443.4228  \n",
       "2  Supermarket Type1          2097.2700  \n",
       "3      Grocery Store           732.3800  \n",
       "4  Supermarket Type1           994.7052  "
      ]
     },
     "execution_count": 46,
     "metadata": {},
     "output_type": "execute_result"
    }
   ],
   "source": [
    "train_data.head()"
   ]
  },
  {
   "cell_type": "code",
   "execution_count": 47,
   "id": "924a6a19-21e5-42a7-b062-a959d63b66f0",
   "metadata": {},
   "outputs": [
    {
     "data": {
      "text/html": [
       "<div>\n",
       "<style scoped>\n",
       "    .dataframe tbody tr th:only-of-type {\n",
       "        vertical-align: middle;\n",
       "    }\n",
       "\n",
       "    .dataframe tbody tr th {\n",
       "        vertical-align: top;\n",
       "    }\n",
       "\n",
       "    .dataframe thead th {\n",
       "        text-align: right;\n",
       "    }\n",
       "</style>\n",
       "<table border=\"1\" class=\"dataframe\">\n",
       "  <thead>\n",
       "    <tr style=\"text-align: right;\">\n",
       "      <th></th>\n",
       "      <th>Item_Identifier</th>\n",
       "      <th>Item_Weight</th>\n",
       "      <th>Item_Fat_Content</th>\n",
       "      <th>Item_Visibility</th>\n",
       "      <th>Item_Type</th>\n",
       "      <th>Item_MRP</th>\n",
       "      <th>Outlet_Identifier</th>\n",
       "      <th>Outlet_Establishment_Year</th>\n",
       "      <th>Outlet_Size</th>\n",
       "      <th>Outlet_Location_Type</th>\n",
       "      <th>Outlet_Type</th>\n",
       "    </tr>\n",
       "  </thead>\n",
       "  <tbody>\n",
       "    <tr>\n",
       "      <th>0</th>\n",
       "      <td>FDW58</td>\n",
       "      <td>20.750</td>\n",
       "      <td>Low Fat</td>\n",
       "      <td>0.007565</td>\n",
       "      <td>Snack Foods</td>\n",
       "      <td>107.8622</td>\n",
       "      <td>OUT049</td>\n",
       "      <td>1999</td>\n",
       "      <td>Medium</td>\n",
       "      <td>Tier 1</td>\n",
       "      <td>Supermarket Type1</td>\n",
       "    </tr>\n",
       "    <tr>\n",
       "      <th>1</th>\n",
       "      <td>FDW14</td>\n",
       "      <td>8.300</td>\n",
       "      <td>reg</td>\n",
       "      <td>0.038428</td>\n",
       "      <td>Dairy</td>\n",
       "      <td>87.3198</td>\n",
       "      <td>OUT017</td>\n",
       "      <td>2007</td>\n",
       "      <td>NaN</td>\n",
       "      <td>Tier 2</td>\n",
       "      <td>Supermarket Type1</td>\n",
       "    </tr>\n",
       "    <tr>\n",
       "      <th>2</th>\n",
       "      <td>NCN55</td>\n",
       "      <td>14.600</td>\n",
       "      <td>Low Fat</td>\n",
       "      <td>0.099575</td>\n",
       "      <td>Others</td>\n",
       "      <td>241.7538</td>\n",
       "      <td>OUT010</td>\n",
       "      <td>1998</td>\n",
       "      <td>NaN</td>\n",
       "      <td>Tier 3</td>\n",
       "      <td>Grocery Store</td>\n",
       "    </tr>\n",
       "    <tr>\n",
       "      <th>3</th>\n",
       "      <td>FDQ58</td>\n",
       "      <td>7.315</td>\n",
       "      <td>Low Fat</td>\n",
       "      <td>0.015388</td>\n",
       "      <td>Snack Foods</td>\n",
       "      <td>155.0340</td>\n",
       "      <td>OUT017</td>\n",
       "      <td>2007</td>\n",
       "      <td>NaN</td>\n",
       "      <td>Tier 2</td>\n",
       "      <td>Supermarket Type1</td>\n",
       "    </tr>\n",
       "    <tr>\n",
       "      <th>4</th>\n",
       "      <td>FDY38</td>\n",
       "      <td>NaN</td>\n",
       "      <td>Regular</td>\n",
       "      <td>0.118599</td>\n",
       "      <td>Dairy</td>\n",
       "      <td>234.2300</td>\n",
       "      <td>OUT027</td>\n",
       "      <td>1985</td>\n",
       "      <td>Medium</td>\n",
       "      <td>Tier 3</td>\n",
       "      <td>Supermarket Type3</td>\n",
       "    </tr>\n",
       "  </tbody>\n",
       "</table>\n",
       "</div>"
      ],
      "text/plain": [
       "  Item_Identifier  Item_Weight Item_Fat_Content  Item_Visibility    Item_Type  \\\n",
       "0           FDW58       20.750          Low Fat         0.007565  Snack Foods   \n",
       "1           FDW14        8.300              reg         0.038428        Dairy   \n",
       "2           NCN55       14.600          Low Fat         0.099575       Others   \n",
       "3           FDQ58        7.315          Low Fat         0.015388  Snack Foods   \n",
       "4           FDY38          NaN          Regular         0.118599        Dairy   \n",
       "\n",
       "   Item_MRP Outlet_Identifier  Outlet_Establishment_Year Outlet_Size  \\\n",
       "0  107.8622            OUT049                       1999      Medium   \n",
       "1   87.3198            OUT017                       2007         NaN   \n",
       "2  241.7538            OUT010                       1998         NaN   \n",
       "3  155.0340            OUT017                       2007         NaN   \n",
       "4  234.2300            OUT027                       1985      Medium   \n",
       "\n",
       "  Outlet_Location_Type        Outlet_Type  \n",
       "0               Tier 1  Supermarket Type1  \n",
       "1               Tier 2  Supermarket Type1  \n",
       "2               Tier 3      Grocery Store  \n",
       "3               Tier 2  Supermarket Type1  \n",
       "4               Tier 3  Supermarket Type3  "
      ]
     },
     "execution_count": 47,
     "metadata": {},
     "output_type": "execute_result"
    }
   ],
   "source": [
    "test_data.head()"
   ]
  },
  {
   "cell_type": "markdown",
   "id": "dca1af38-bd6c-43a9-a9e1-0b7c44fa2e8e",
   "metadata": {},
   "source": [
    "# 4. Data Structure and Content "
   ]
  },
  {
   "cell_type": "code",
   "execution_count": null,
   "id": "44062446-796d-46ee-9f5d-d7b60c512c31",
   "metadata": {},
   "outputs": [],
   "source": []
  },
  {
   "cell_type": "markdown",
   "id": "2b6eda64-881d-4a79-973f-1684e8371bfc",
   "metadata": {},
   "source": [
    "# 8.Missing Value Treatment "
   ]
  },
  {
   "cell_type": "code",
   "execution_count": 48,
   "id": "091071bb-2358-4b5b-b13f-7919276db903",
   "metadata": {},
   "outputs": [
    {
     "name": "stdout",
     "output_type": "stream",
     "text": [
      "Missing values counts per columns: \n",
      " Item_Identifier                 0\n",
      "Item_Weight                  1463\n",
      "Item_Fat_Content                0\n",
      "Item_Visibility                 0\n",
      "Item_Type                       0\n",
      "Item_MRP                        0\n",
      "Outlet_Identifier               0\n",
      "Outlet_Establishment_Year       0\n",
      "Outlet_Size                  2410\n",
      "Outlet_Location_Type            0\n",
      "Outlet_Type                     0\n",
      "Item_Outlet_Sales               0\n",
      "dtype: int64\n"
     ]
    }
   ],
   "source": [
    "# get the number of missing data points per column\n",
    "missing_vals_counts = train_data.isnull().sum()\n",
    "print(\"Missing values counts per columns: \\n\", missing_vals_counts)"
   ]
  },
  {
   "cell_type": "code",
   "execution_count": 49,
   "id": "5372c333-6670-421c-bc02-16afed46dbc1",
   "metadata": {},
   "outputs": [
    {
     "name": "stdout",
     "output_type": "stream",
     "text": [
      "Percentage of missing data = 3.7868 \n"
     ]
    }
   ],
   "source": [
    "# get percentage of missing data \n",
    "total_cells = np.product(train_data.shape)\n",
    "total_missing_vals = missing_vals_counts.sum()\n",
    "\n",
    "percent_missing = (total_missing_vals/total_cells) * 100\n",
    "print(\"Percentage of missing data = {:.4f} \".format(percent_missing))"
   ]
  },
  {
   "cell_type": "code",
   "execution_count": 50,
   "id": "c2b4052b-4a51-4bb4-a64c-ffd2b4228dc7",
   "metadata": {},
   "outputs": [
    {
     "name": "stdout",
     "output_type": "stream",
     "text": [
      "Missing values counts per columns: \n",
      " Item_Identifier                 0\n",
      "Item_Weight                   976\n",
      "Item_Fat_Content                0\n",
      "Item_Visibility                 0\n",
      "Item_Type                       0\n",
      "Item_MRP                        0\n",
      "Outlet_Identifier               0\n",
      "Outlet_Establishment_Year       0\n",
      "Outlet_Size                  1606\n",
      "Outlet_Location_Type            0\n",
      "Outlet_Type                     0\n",
      "dtype: int64\n"
     ]
    }
   ],
   "source": [
    "# get the number of missing data points per column\n",
    "missing_vals_counts_test = test_data.isnull().sum()\n",
    "print(\"Missing values counts per columns: \\n\", missing_vals_counts_test)"
   ]
  },
  {
   "cell_type": "code",
   "execution_count": 51,
   "id": "298a13f1-c31e-461a-bda8-c98617ddcccd",
   "metadata": {},
   "outputs": [
    {
     "name": "stdout",
     "output_type": "stream",
     "text": [
      "Percentage of missing data in test set = 4.1318 \n"
     ]
    }
   ],
   "source": [
    "# get percentage of missing data \n",
    "total_cells_test = np.product(test_data.shape)\n",
    "total_missing_vals_test = missing_vals_counts_test.sum()\n",
    "\n",
    "percent_missing_test = (total_missing_vals_test/total_cells_test) * 100\n",
    "print(\"Percentage of missing data in test set = {:.4f} \".format(percent_missing_test))"
   ]
  },
  {
   "cell_type": "markdown",
   "id": "0a46ee6d-c06b-4760-a433-7a26598c859b",
   "metadata": {},
   "source": [
    "We see that the missing values are in just two columns, Item_weight and Outlet_size and the percentage of the missing data is small comparing to whole datasets (training and test sets)\n",
    "\n",
    "There are two ways to deal with this problem, We just can ignore those two columns and drop them or we can perform imputation add fill those null values with some value and get the score for each one to select what is the best choice for us "
   ]
  },
  {
   "cell_type": "markdown",
   "id": "2f63f85e-6778-4315-b84e-acb0917c6ad5",
   "metadata": {},
   "source": [
    "## 1. Dropping the missing Values \n",
    "drop the two columns `Item_Weight` and `Outlet_Size` from the `train_data` and `test_data`"
   ]
  },
  {
   "cell_type": "code",
   "execution_count": 52,
   "id": "43d9e4da-15f5-4f56-a519-6a58bba44a0e",
   "metadata": {},
   "outputs": [],
   "source": [
    "train_data_dropped = train_data.dropna(axis=1, inplace=True)\n",
    "test_data_dropped  = test_data.dropna(axis=1, inplace=True)"
   ]
  },
  {
   "cell_type": "code",
   "execution_count": 53,
   "id": "18a7a8e0-c9e0-485e-b845-3f8b0215191b",
   "metadata": {},
   "outputs": [
    {
     "data": {
      "text/html": [
       "<div>\n",
       "<style scoped>\n",
       "    .dataframe tbody tr th:only-of-type {\n",
       "        vertical-align: middle;\n",
       "    }\n",
       "\n",
       "    .dataframe tbody tr th {\n",
       "        vertical-align: top;\n",
       "    }\n",
       "\n",
       "    .dataframe thead th {\n",
       "        text-align: right;\n",
       "    }\n",
       "</style>\n",
       "<table border=\"1\" class=\"dataframe\">\n",
       "  <thead>\n",
       "    <tr style=\"text-align: right;\">\n",
       "      <th></th>\n",
       "      <th>Item_Identifier</th>\n",
       "      <th>Item_Fat_Content</th>\n",
       "      <th>Item_Visibility</th>\n",
       "      <th>Item_Type</th>\n",
       "      <th>Item_MRP</th>\n",
       "      <th>Outlet_Identifier</th>\n",
       "      <th>Outlet_Establishment_Year</th>\n",
       "      <th>Outlet_Location_Type</th>\n",
       "      <th>Outlet_Type</th>\n",
       "      <th>Item_Outlet_Sales</th>\n",
       "    </tr>\n",
       "  </thead>\n",
       "  <tbody>\n",
       "    <tr>\n",
       "      <th>0</th>\n",
       "      <td>FDA15</td>\n",
       "      <td>Low Fat</td>\n",
       "      <td>0.016047</td>\n",
       "      <td>Dairy</td>\n",
       "      <td>249.8092</td>\n",
       "      <td>OUT049</td>\n",
       "      <td>1999</td>\n",
       "      <td>Tier 1</td>\n",
       "      <td>Supermarket Type1</td>\n",
       "      <td>3735.1380</td>\n",
       "    </tr>\n",
       "    <tr>\n",
       "      <th>1</th>\n",
       "      <td>DRC01</td>\n",
       "      <td>Regular</td>\n",
       "      <td>0.019278</td>\n",
       "      <td>Soft Drinks</td>\n",
       "      <td>48.2692</td>\n",
       "      <td>OUT018</td>\n",
       "      <td>2009</td>\n",
       "      <td>Tier 3</td>\n",
       "      <td>Supermarket Type2</td>\n",
       "      <td>443.4228</td>\n",
       "    </tr>\n",
       "    <tr>\n",
       "      <th>2</th>\n",
       "      <td>FDN15</td>\n",
       "      <td>Low Fat</td>\n",
       "      <td>0.016760</td>\n",
       "      <td>Meat</td>\n",
       "      <td>141.6180</td>\n",
       "      <td>OUT049</td>\n",
       "      <td>1999</td>\n",
       "      <td>Tier 1</td>\n",
       "      <td>Supermarket Type1</td>\n",
       "      <td>2097.2700</td>\n",
       "    </tr>\n",
       "    <tr>\n",
       "      <th>3</th>\n",
       "      <td>FDX07</td>\n",
       "      <td>Regular</td>\n",
       "      <td>0.000000</td>\n",
       "      <td>Fruits and Vegetables</td>\n",
       "      <td>182.0950</td>\n",
       "      <td>OUT010</td>\n",
       "      <td>1998</td>\n",
       "      <td>Tier 3</td>\n",
       "      <td>Grocery Store</td>\n",
       "      <td>732.3800</td>\n",
       "    </tr>\n",
       "    <tr>\n",
       "      <th>4</th>\n",
       "      <td>NCD19</td>\n",
       "      <td>Low Fat</td>\n",
       "      <td>0.000000</td>\n",
       "      <td>Household</td>\n",
       "      <td>53.8614</td>\n",
       "      <td>OUT013</td>\n",
       "      <td>1987</td>\n",
       "      <td>Tier 3</td>\n",
       "      <td>Supermarket Type1</td>\n",
       "      <td>994.7052</td>\n",
       "    </tr>\n",
       "  </tbody>\n",
       "</table>\n",
       "</div>"
      ],
      "text/plain": [
       "  Item_Identifier Item_Fat_Content  Item_Visibility              Item_Type  \\\n",
       "0           FDA15          Low Fat         0.016047                  Dairy   \n",
       "1           DRC01          Regular         0.019278            Soft Drinks   \n",
       "2           FDN15          Low Fat         0.016760                   Meat   \n",
       "3           FDX07          Regular         0.000000  Fruits and Vegetables   \n",
       "4           NCD19          Low Fat         0.000000              Household   \n",
       "\n",
       "   Item_MRP Outlet_Identifier  Outlet_Establishment_Year Outlet_Location_Type  \\\n",
       "0  249.8092            OUT049                       1999               Tier 1   \n",
       "1   48.2692            OUT018                       2009               Tier 3   \n",
       "2  141.6180            OUT049                       1999               Tier 1   \n",
       "3  182.0950            OUT010                       1998               Tier 3   \n",
       "4   53.8614            OUT013                       1987               Tier 3   \n",
       "\n",
       "         Outlet_Type  Item_Outlet_Sales  \n",
       "0  Supermarket Type1          3735.1380  \n",
       "1  Supermarket Type2           443.4228  \n",
       "2  Supermarket Type1          2097.2700  \n",
       "3      Grocery Store           732.3800  \n",
       "4  Supermarket Type1           994.7052  "
      ]
     },
     "execution_count": 53,
     "metadata": {},
     "output_type": "execute_result"
    }
   ],
   "source": [
    "train_data_dropped.head()"
   ]
  },
  {
   "cell_type": "code",
   "execution_count": 54,
   "id": "a4d7198d-8231-4ad0-b240-c5f9a957515e",
   "metadata": {},
   "outputs": [
    {
     "data": {
      "text/html": [
       "<div>\n",
       "<style scoped>\n",
       "    .dataframe tbody tr th:only-of-type {\n",
       "        vertical-align: middle;\n",
       "    }\n",
       "\n",
       "    .dataframe tbody tr th {\n",
       "        vertical-align: top;\n",
       "    }\n",
       "\n",
       "    .dataframe thead th {\n",
       "        text-align: right;\n",
       "    }\n",
       "</style>\n",
       "<table border=\"1\" class=\"dataframe\">\n",
       "  <thead>\n",
       "    <tr style=\"text-align: right;\">\n",
       "      <th></th>\n",
       "      <th>Item_Identifier</th>\n",
       "      <th>Item_Fat_Content</th>\n",
       "      <th>Item_Visibility</th>\n",
       "      <th>Item_Type</th>\n",
       "      <th>Item_MRP</th>\n",
       "      <th>Outlet_Identifier</th>\n",
       "      <th>Outlet_Establishment_Year</th>\n",
       "      <th>Outlet_Location_Type</th>\n",
       "      <th>Outlet_Type</th>\n",
       "    </tr>\n",
       "  </thead>\n",
       "  <tbody>\n",
       "    <tr>\n",
       "      <th>0</th>\n",
       "      <td>FDW58</td>\n",
       "      <td>Low Fat</td>\n",
       "      <td>0.007565</td>\n",
       "      <td>Snack Foods</td>\n",
       "      <td>107.8622</td>\n",
       "      <td>OUT049</td>\n",
       "      <td>1999</td>\n",
       "      <td>Tier 1</td>\n",
       "      <td>Supermarket Type1</td>\n",
       "    </tr>\n",
       "    <tr>\n",
       "      <th>1</th>\n",
       "      <td>FDW14</td>\n",
       "      <td>reg</td>\n",
       "      <td>0.038428</td>\n",
       "      <td>Dairy</td>\n",
       "      <td>87.3198</td>\n",
       "      <td>OUT017</td>\n",
       "      <td>2007</td>\n",
       "      <td>Tier 2</td>\n",
       "      <td>Supermarket Type1</td>\n",
       "    </tr>\n",
       "    <tr>\n",
       "      <th>2</th>\n",
       "      <td>NCN55</td>\n",
       "      <td>Low Fat</td>\n",
       "      <td>0.099575</td>\n",
       "      <td>Others</td>\n",
       "      <td>241.7538</td>\n",
       "      <td>OUT010</td>\n",
       "      <td>1998</td>\n",
       "      <td>Tier 3</td>\n",
       "      <td>Grocery Store</td>\n",
       "    </tr>\n",
       "    <tr>\n",
       "      <th>3</th>\n",
       "      <td>FDQ58</td>\n",
       "      <td>Low Fat</td>\n",
       "      <td>0.015388</td>\n",
       "      <td>Snack Foods</td>\n",
       "      <td>155.0340</td>\n",
       "      <td>OUT017</td>\n",
       "      <td>2007</td>\n",
       "      <td>Tier 2</td>\n",
       "      <td>Supermarket Type1</td>\n",
       "    </tr>\n",
       "    <tr>\n",
       "      <th>4</th>\n",
       "      <td>FDY38</td>\n",
       "      <td>Regular</td>\n",
       "      <td>0.118599</td>\n",
       "      <td>Dairy</td>\n",
       "      <td>234.2300</td>\n",
       "      <td>OUT027</td>\n",
       "      <td>1985</td>\n",
       "      <td>Tier 3</td>\n",
       "      <td>Supermarket Type3</td>\n",
       "    </tr>\n",
       "  </tbody>\n",
       "</table>\n",
       "</div>"
      ],
      "text/plain": [
       "  Item_Identifier Item_Fat_Content  Item_Visibility    Item_Type  Item_MRP  \\\n",
       "0           FDW58          Low Fat         0.007565  Snack Foods  107.8622   \n",
       "1           FDW14              reg         0.038428        Dairy   87.3198   \n",
       "2           NCN55          Low Fat         0.099575       Others  241.7538   \n",
       "3           FDQ58          Low Fat         0.015388  Snack Foods  155.0340   \n",
       "4           FDY38          Regular         0.118599        Dairy  234.2300   \n",
       "\n",
       "  Outlet_Identifier  Outlet_Establishment_Year Outlet_Location_Type  \\\n",
       "0            OUT049                       1999               Tier 1   \n",
       "1            OUT017                       2007               Tier 2   \n",
       "2            OUT010                       1998               Tier 3   \n",
       "3            OUT017                       2007               Tier 2   \n",
       "4            OUT027                       1985               Tier 3   \n",
       "\n",
       "         Outlet_Type  \n",
       "0  Supermarket Type1  \n",
       "1  Supermarket Type1  \n",
       "2      Grocery Store  \n",
       "3  Supermarket Type1  \n",
       "4  Supermarket Type3  "
      ]
     },
     "execution_count": 54,
     "metadata": {},
     "output_type": "execute_result"
    }
   ],
   "source": [
    "test_data_dropped.head()"
   ]
  },
  {
   "cell_type": "code",
   "execution_count": 55,
   "id": "af9628a1-c5f2-4f62-aec8-bf9f998c24c0",
   "metadata": {},
   "outputs": [
    {
     "name": "stdout",
     "output_type": "stream",
     "text": [
      "Mean absolute error = 981.7385\n"
     ]
    }
   ],
   "source": [
    "# getting only the nmerical data for testing the model \n",
    "features = ['Item_Visibility', 'Item_MRP', 'Outlet_Establishment_Year']\n",
    "X_data = train_data_dropped[features]\n",
    "X_test = test_data_dropped[features]\n",
    "y_data = train_data['Item_Outlet_Sales']\n",
    "\n",
    "# Splitting training data into train and validation data \n",
    "X_train, X_val, y_train, y_val = train_test_split(X_data, y_data, test_size=0.2, train_size=0.8)\n",
    "\n",
    "mae = get_mae(X_train, X_val, y_train, y_val)\n",
    "print(\"Mean absolute error = {:.4f}\".format(mae))"
   ]
  },
  {
   "cell_type": "markdown",
   "id": "579d40d7-a902-41bb-84c5-5bc22b588ba9",
   "metadata": {},
   "source": [
    "## 2. Imputation"
   ]
  },
  {
   "cell_type": "code",
   "execution_count": 59,
   "id": "cae250b4-ab05-44fd-8a0e-f477951cbf37",
   "metadata": {},
   "outputs": [
    {
     "name": "stdout",
     "output_type": "stream",
     "text": [
      "Strategy: constant, Mean absolute error = 937.6367\n"
     ]
    }
   ],
   "source": [
    "# strategies = ['mean', 'median', 'most_frequent', 'constant']\n",
    "\n",
    "# for strategy in strategies:\n",
    "imputer = SimpleImputer(strategy='median')\n",
    "imputed_X_train = pd.DataFrame(imputer.fit_transform(train_data[features]))\n",
    "imputed_X_test  = pd.DataFrame(imputer.transform(test_data[features]))\n",
    "\n",
    "imputed_X_train.columns = features\n",
    "imputed_X_test.columns  = features\n",
    "\n",
    "# Splitting training data into train and validation data \n",
    "X_train, X_val, y_train, y_val = train_test_split(imputed_X_train, y_data, \n",
    "                                                  test_size=0.2, train_size=0.8)\n",
    "\n",
    "mae = get_mae(X_train, X_val, y_train, y_val)\n",
    "print(\"Strategy: {}, Mean absolute error = {:.4f}\".format(strategy, mae))"
   ]
  },
  {
   "cell_type": "markdown",
   "id": "0f8017a1-e1b2-43dc-ad90-e54a5f4fe638",
   "metadata": {},
   "source": [
    "It's more efficient if we use imputation with median"
   ]
  },
  {
   "cell_type": "code",
   "execution_count": null,
   "id": "360900b8-2e79-44fb-b19f-9b5ff8634c15",
   "metadata": {},
   "outputs": [],
   "source": []
  }
 ],
 "metadata": {
  "kernelspec": {
   "display_name": "Python 3 (ipykernel)",
   "language": "python",
   "name": "python3"
  },
  "language_info": {
   "codemirror_mode": {
    "name": "ipython",
    "version": 3
   },
   "file_extension": ".py",
   "mimetype": "text/x-python",
   "name": "python",
   "nbconvert_exporter": "python",
   "pygments_lexer": "ipython3",
   "version": "3.9.12"
  }
 },
 "nbformat": 4,
 "nbformat_minor": 5
}
